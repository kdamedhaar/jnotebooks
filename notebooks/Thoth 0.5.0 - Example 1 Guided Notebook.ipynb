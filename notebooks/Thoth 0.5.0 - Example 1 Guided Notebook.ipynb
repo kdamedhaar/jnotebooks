{
 "cells": [
  {
   "cell_type": "markdown",
   "metadata": {},
   "source": [
    "# Thoth 0.5.0 - Example 1 Guided Notebook"
   ]
  },
  {
   "cell_type": "markdown",
   "metadata": {},
   "source": [
    "One of the basic tasks of a developer is to keep the application’s dependencies up to date. In the Python ecosystem tools like `pip` and `Pipenv` help with that task. As a best practice, lock files have emerged. These lock files lock the version of all dependencies (including transitive dependencies) to specific versions. The primary goal is to provide all information required for deterministic builds of the application.\n",
    "This use case is supported by Thoth’s command line tool [Thamos](https://pypi.org/project/thamos): Thamos will read an application’s Pipfile, submit it to Thoth’s API and based on the received result it will create a `Pipfile.lock`. The same goal can be achieved by using `pipenv lock`.\n",
    "\n",
    "See internal document for more info and clarification in [Google Docs](https://docs.google.com/document/d/1QflQpGXtOuHFFC2hkEFBlu0JmCQWEnXdgryvwxCNXpQ/edit#) - section \"Example 1\".\n",
    "\n",
    "This notebook is a supportive material for Thoth 0.5.0 release and use case stated above - it walks through the first example scenario from within a Jupyter Notebook. The same can be accomplished using `Thamos` CLI tool, as stated above, following instructions present at the bottom of this notebook."
   ]
  },
  {
   "cell_type": "markdown",
   "metadata": {},
   "source": [
    "In order to go through this scenario, we need first connect to a graph database instance. This notebook is playeble from within your computer, it inserts all the data into a provided JanusGraph instasnce, so select a graph database instance you would like to use. If you want to run this script purely on your local machine, setup your local graph database as [described in the README file of janusgraph-thoth-config repo](https://github.com/thoth-station/janusgraph-thoth-config#running-janusgraph-instance-locally). Ideally, just clone the repo and issue the following command to setup your local JanusGraph database instance:\n",
    "\n",
    "```\n",
    "sudo ./local.sh all\n",
    "```"
   ]
  },
  {
   "cell_type": "code",
   "execution_count": 1,
   "metadata": {
    "ExecuteTime": {
     "end_time": "2019-02-19T14:27:46.115546Z",
     "start_time": "2019-02-19T14:27:46.108633Z"
    }
   },
   "outputs": [],
   "source": [
    "# Configure JanusGraph instance to talk to:\n",
    "JANUSGRAPH_SERVICE_HOST = 'localhost'\n",
    "\n",
    "# For directly talking to test environment, uncomment the following line:\n",
    "#JANUSGRAPH_SERVICE_HOST = 'janusgraph.test.thoth-station.ninja'"
   ]
  },
  {
   "cell_type": "markdown",
   "metadata": {},
   "source": [
    "Now let's connect to desired JanusGraph database and check if we are properly connected:"
   ]
  },
  {
   "cell_type": "code",
   "execution_count": 2,
   "metadata": {
    "ExecuteTime": {
     "end_time": "2019-02-19T14:28:35.525376Z",
     "start_time": "2019-02-19T14:28:35.500350Z"
    }
   },
   "outputs": [
    {
     "data": {
      "text/plain": [
       "True"
      ]
     },
     "execution_count": 2,
     "metadata": {},
     "output_type": "execute_result"
    }
   ],
   "source": [
    "from thoth.storages import GraphDatabase\n",
    "\n",
    "# Instantiate and connect the JanusGraph database.\n",
    "graph = GraphDatabase.create(JANUSGRAPH_SERVICE_HOST)\n",
    "graph.connect()\n",
    "\n",
    "graph.is_connected()"
   ]
  },
  {
   "cell_type": "markdown",
   "metadata": {},
   "source": [
    "To let Thoth give you guidenance, there is a need to have some data precomputed. One of such data are solver results which resolve dependencies and observe whether packages are installable into a specific environment, what are dependencies of packages and how these dependencies are structured respecting transitive dependency graphs.\n",
    "\n",
    "There is [prepared a solver result in a form of a JSON](https://github.com/thoth-station/misc/tree/master/examples/lockdown). The solver is run in Thoth deployment based on monitored packages (packages used by users in images or explictly monitored packages by Thoth) and is something end-user does not interact with. Let's download it for our demo and store these observations into our graph database instance. "
   ]
  },
  {
   "cell_type": "code",
   "execution_count": 3,
   "metadata": {},
   "outputs": [],
   "source": [
    "import requests\n",
    "\n",
    "SOLVER_DOCUMENT_URL = 'https://raw.githubusercontent.com/thoth-station/misc/master/examples/lockdown/resolved.json'\n",
    "\n",
    "response = requests.get(SOLVER_DOCUMENT_URL)\n",
    "response.raise_for_status()\n",
    "solver_document = response.json()"
   ]
  },
  {
   "cell_type": "markdown",
   "metadata": {},
   "source": [
    "Let's check for which packages was the given solver run made:"
   ]
  },
  {
   "cell_type": "code",
   "execution_count": 4,
   "metadata": {},
   "outputs": [
    {
     "name": "stdout",
     "output_type": "stream",
     "text": [
      "daiquiri\n",
      "flask\n"
     ]
    }
   ],
   "source": [
    "print(solver_document[\"metadata\"][\"arguments\"][\"pypi\"][\"requirements\"].replace(\"\\\\n\", \"\\n\"))"
   ]
  },
  {
   "cell_type": "markdown",
   "metadata": {},
   "source": [
    "Also, do not forget that `Python` package resolution is dependent on environment (requirements can dynamically change based on `setup.py`/`setup.cfg` configuration). Let's check the environment for which resolution was done:"
   ]
  },
  {
   "cell_type": "code",
   "execution_count": 5,
   "metadata": {},
   "outputs": [
    {
     "data": {
      "text/plain": [
       "{'os_name': 'fedora', 'os_version': '29', 'python_version': '3.6'}"
      ]
     },
     "execution_count": 5,
     "metadata": {},
     "output_type": "execute_result"
    }
   ],
   "source": [
    "from  thoth.storages import SolverResultsStore\n",
    "\n",
    "document_id = SolverResultsStore.get_document_id(solver_document)\n",
    "solver_name = SolverResultsStore.get_solver_name_from_document_id(document_id)\n",
    "graph.parse_python_solver_name(solver_name)"
   ]
  },
  {
   "cell_type": "markdown",
   "metadata": {},
   "source": [
    "The above step is done internally in Thoth to obtain information about solver environment. Finally, let's sync solver results into graph database."
   ]
  },
  {
   "cell_type": "code",
   "execution_count": 6,
   "metadata": {},
   "outputs": [
    {
     "name": "stdout",
     "output_type": "stream",
     "text": [
      "CPU times: user 8.31 s, sys: 532 ms, total: 8.84 s\n",
      "Wall time: 21.9 s\n"
     ]
    }
   ],
   "source": [
    "%%time\n",
    "\n",
    "graph.sync_solver_result(solver_document)"
   ]
  },
  {
   "cell_type": "markdown",
   "metadata": {},
   "source": [
    "As a next step, we will obtain `Pipfile` from Thamos repo with examples. In this case we have just `Pipfile`, the `Pipfile.lock` file will be generated at the bottom of this notebook by Thoth respecting environment and observations Thoth internally has to provide stack guidenance."
   ]
  },
  {
   "cell_type": "code",
   "execution_count": 7,
   "metadata": {},
   "outputs": [],
   "source": [
    "PIPFILE_URL = \"https://raw.githubusercontent.com/thoth-station/thamos/master/examples/lockdown/Pipfile\"\n",
    "\n",
    "response = requests.get(PIPFILE_URL)\n",
    "response.raise_for_status()\n",
    "pipfile_str = response.text"
   ]
  },
  {
   "cell_type": "markdown",
   "metadata": {},
   "source": [
    "The `Project` abstraction carries information about the project a user has. It wraps some additional logic to provide guidenance on project configuration as well as support for different package managers in future. This way we can transparently other managers such as `requirements.txt` or (better case) `pyproject.toml` as stated in [PEP-518](https://www.python.org/dev/peps/pep-0518/)."
   ]
  },
  {
   "cell_type": "code",
   "execution_count": 8,
   "metadata": {},
   "outputs": [
    {
     "data": {
      "text/plain": [
       "{'requirements': {'packages': {'daiquiri': '*', 'flask': '<=0.12.4'},\n",
       "  'dev-packages': {},\n",
       "  'source': [{'url': 'https://pypi.org/simple',\n",
       "    'verify_ssl': True,\n",
       "    'name': 'pypi'}],\n",
       "  'requires': {'python_version': '3.6'}},\n",
       " 'requirements_locked': None}"
      ]
     },
     "execution_count": 8,
     "metadata": {},
     "output_type": "execute_result"
    }
   ],
   "source": [
    "from thoth.python import Project\n",
    "\n",
    "project = Project.from_strings(pipfile_str)\n",
    "project.to_dict()"
   ]
  },
  {
   "cell_type": "markdown",
   "metadata": {},
   "source": [
    "The next input for Thoth are information about environment - if they are omitted, there is done generic resolution as in case of `Pipenv` for example. If this configuration is additionally supplied, Thoth can provide additional guidenance on software stack for the given runtime environment. For example pick software stacks with great performance for CUDA or specific CPU a user uses. This configuration is part of `.thoth.yaml` file (configuration for Thoth and Thamos inside user's repositories). Let's download it and use it interactively from within this notebook:"
   ]
  },
  {
   "cell_type": "code",
   "execution_count": 9,
   "metadata": {},
   "outputs": [
    {
     "data": {
      "text/plain": [
       "{'host': 'test.thoth-station.ninja',\n",
       " 'tls_verify': False,\n",
       " 'requirements_format': 'pipenv',\n",
       " 'runtime_environments': [{'name': 'fedora:29',\n",
       "   'recommendation_type': 'latest',\n",
       "   'operating_system': {'name': 'fedora', 'version': '29'}}]}"
      ]
     },
     "execution_count": 9,
     "metadata": {},
     "output_type": "execute_result"
    }
   ],
   "source": [
    "import yaml\n",
    "\n",
    "THOTH_YAML_URL = \"https://raw.githubusercontent.com/thoth-station/thamos/master/examples/lockdown/.thoth.yaml\"\n",
    "\n",
    "response = requests.get(THOTH_YAML_URL)\n",
    "response.raise_for_status()\n",
    "config_content = yaml.load(response.text)\n",
    "\n",
    "config_content"
   ]
  },
  {
   "cell_type": "markdown",
   "metadata": {},
   "source": [
    "Now, let's transfer this runtime environment configuration to Thoth's internal structures which provide addional checks and report any issues with user's configuration if any. We will stick with the first runtime environment stated in the configuration file (there is one stated anyway)."
   ]
  },
  {
   "cell_type": "code",
   "execution_count": 10,
   "metadata": {},
   "outputs": [
    {
     "name": "stderr",
     "output_type": "stream",
     "text": [
      "Unknown configuration entry in the configuration file recommendation_type with value latest\n"
     ]
    }
   ],
   "source": [
    "from thoth.common import RuntimeEnvironment\n",
    "\n",
    "runtime_environment = RuntimeEnvironment.from_dict(config_content[\"runtime_environments\"][0])"
   ]
  },
  {
   "cell_type": "markdown",
   "metadata": {},
   "source": [
    "The warning reported can be omitted. The `recommendation_type` configuration option in the configuration file is used in Thamos to override default `recommendation_type` if needed (for a specific runtime environment entry).\n",
    "\n",
    "Finally, let's compute some advises:"
   ]
  },
  {
   "cell_type": "code",
   "execution_count": 11,
   "metadata": {},
   "outputs": [
    {
     "name": "stderr",
     "output_type": "stream",
     "text": [
      "2019-03-06 09:02:43,623 [26676] INFO     root:126: Logging to a Sentry instance is turned off\n",
      "2019-03-06 09:02:43,624 [26676] INFO     root:148: Logging to rsyslog endpoint is turned off\n",
      "2019-03-06 09:02:43,638 [26676] INFO     thoth.adviser.python.scoring:60: Using scoring function that will generate latest stacks\n",
      "2019-03-06 09:02:43,639 [26676] INFO     thoth.adviser.python.dependency_graph:376: Parsing and solving direct dependencies of the requested project\n",
      "2019-03-06 09:02:43,642 [26676] INFO     thoth.solver.python.python_solver:113: Parsing dependency 'daiquiri'\n",
      "2019-03-06 09:02:43,696 [26676] INFO     thoth.solver.python.python_solver:113: Parsing dependency 'flask<=0.12.4'\n",
      "2019-03-06 09:02:43,741 [26676] INFO     thoth.adviser.python.dependency_graph:391: Retrieving transitive dependencies of direct dependencies\n",
      "2019-03-06 09:02:44,013 [26676] INFO     thoth.adviser.python.dependency_graph:432: Excluding a path due to package ('markupsafe', '0.9', 'https://pypi.org/simple'): unable to install in the given environment\n",
      "2019-03-06 09:02:44,014 [26676] INFO     thoth.adviser.python.dependency_graph:432: Excluding a path due to package ('markupsafe', '0.9.1', 'https://pypi.org/simple'): unable to install in the given environment\n",
      "2019-03-06 09:02:44,015 [26676] INFO     thoth.adviser.python.dependency_graph:432: Excluding a path due to package ('markupsafe', '0.9', 'https://pypi.org/simple'): unable to install in the given environment\n",
      "2019-03-06 09:02:44,016 [26676] INFO     thoth.adviser.python.dependency_graph:432: Excluding a path due to package ('markupsafe', '0.9.1', 'https://pypi.org/simple'): unable to install in the given environment\n",
      "2019-03-06 09:02:44,017 [26676] INFO     thoth.adviser.python.dependency_graph:432: Excluding a path due to package ('markupsafe', '0.9', 'https://pypi.org/simple'): unable to install in the given environment\n",
      "2019-03-06 09:02:44,017 [26676] INFO     thoth.adviser.python.dependency_graph:432: Excluding a path due to package ('markupsafe', '0.9.1', 'https://pypi.org/simple'): unable to install in the given environment\n",
      "2019-03-06 09:02:44,019 [26676] INFO     thoth.adviser.python.dependency_graph:432: Excluding a path due to package ('markupsafe', '0.9', 'https://pypi.org/simple'): unable to install in the given environment\n",
      "2019-03-06 09:02:44,019 [26676] INFO     thoth.adviser.python.dependency_graph:432: Excluding a path due to package ('markupsafe', '0.9.1', 'https://pypi.org/simple'): unable to install in the given environment\n",
      "2019-03-06 09:02:44,020 [26676] INFO     thoth.adviser.python.dependency_graph:432: Excluding a path due to package ('markupsafe', '0.9', 'https://pypi.org/simple'): unable to install in the given environment\n",
      "2019-03-06 09:02:44,021 [26676] INFO     thoth.adviser.python.dependency_graph:432: Excluding a path due to package ('markupsafe', '0.9.1', 'https://pypi.org/simple'): unable to install in the given environment\n",
      "2019-03-06 09:02:44,031 [26676] INFO     thoth.adviser.python.dependency_graph:432: Excluding a path due to package ('markupsafe', '0.9', 'https://pypi.org/simple'): unable to install in the given environment\n",
      "2019-03-06 09:02:44,033 [26676] INFO     thoth.adviser.python.dependency_graph:432: Excluding a path due to package ('markupsafe', '0.9.1', 'https://pypi.org/simple'): unable to install in the given environment\n",
      "2019-03-06 09:02:44,086 [26676] INFO     thoth.adviser.python.dependency_graph:432: Excluding a path due to package ('markupsafe', '0.9', 'https://pypi.org/simple'): unable to install in the given environment\n",
      "2019-03-06 09:02:44,087 [26676] INFO     thoth.adviser.python.dependency_graph:432: Excluding a path due to package ('markupsafe', '0.9.1', 'https://pypi.org/simple'): unable to install in the given environment\n",
      "2019-03-06 09:02:44,088 [26676] INFO     thoth.adviser.python.dependency_graph:432: Excluding a path due to package ('markupsafe', '0.9', 'https://pypi.org/simple'): unable to install in the given environment\n",
      "2019-03-06 09:02:44,089 [26676] INFO     thoth.adviser.python.dependency_graph:432: Excluding a path due to package ('markupsafe', '0.9.1', 'https://pypi.org/simple'): unable to install in the given environment\n",
      "2019-03-06 09:02:44,090 [26676] INFO     thoth.adviser.python.dependency_graph:432: Excluding a path due to package ('markupsafe', '0.9', 'https://pypi.org/simple'): unable to install in the given environment\n",
      "2019-03-06 09:02:44,091 [26676] INFO     thoth.adviser.python.dependency_graph:432: Excluding a path due to package ('markupsafe', '0.9.1', 'https://pypi.org/simple'): unable to install in the given environment\n",
      "2019-03-06 09:02:44,092 [26676] INFO     thoth.adviser.python.dependency_graph:432: Excluding a path due to package ('markupsafe', '0.9', 'https://pypi.org/simple'): unable to install in the given environment\n",
      "2019-03-06 09:02:44,093 [26676] INFO     thoth.adviser.python.dependency_graph:432: Excluding a path due to package ('markupsafe', '0.9.1', 'https://pypi.org/simple'): unable to install in the given environment\n",
      "2019-03-06 09:02:44,094 [26676] INFO     thoth.adviser.python.dependency_graph:432: Excluding a path due to package ('markupsafe', '0.9', 'https://pypi.org/simple'): unable to install in the given environment\n",
      "2019-03-06 09:02:44,094 [26676] INFO     thoth.adviser.python.dependency_graph:432: Excluding a path due to package ('markupsafe', '0.9.1', 'https://pypi.org/simple'): unable to install in the given environment\n",
      "2019-03-06 09:02:44,096 [26676] INFO     thoth.adviser.python.dependency_graph:432: Excluding a path due to package ('markupsafe', '0.9', 'https://pypi.org/simple'): unable to install in the given environment\n",
      "2019-03-06 09:02:44,097 [26676] INFO     thoth.adviser.python.dependency_graph:432: Excluding a path due to package ('markupsafe', '0.9.1', 'https://pypi.org/simple'): unable to install in the given environment\n",
      "2019-03-06 09:02:44,156 [26676] INFO     thoth.adviser.python.dependency_graph:432: Excluding a path due to package ('markupsafe', '0.9', 'https://pypi.org/simple'): unable to install in the given environment\n",
      "2019-03-06 09:02:44,157 [26676] INFO     thoth.adviser.python.dependency_graph:432: Excluding a path due to package ('markupsafe', '0.9.1', 'https://pypi.org/simple'): unable to install in the given environment\n",
      "2019-03-06 09:02:44,158 [26676] INFO     thoth.adviser.python.dependency_graph:432: Excluding a path due to package ('markupsafe', '0.9', 'https://pypi.org/simple'): unable to install in the given environment\n",
      "2019-03-06 09:02:44,159 [26676] INFO     thoth.adviser.python.dependency_graph:432: Excluding a path due to package ('markupsafe', '0.9.1', 'https://pypi.org/simple'): unable to install in the given environment\n",
      "2019-03-06 09:02:44,160 [26676] INFO     thoth.adviser.python.dependency_graph:432: Excluding a path due to package ('markupsafe', '0.9', 'https://pypi.org/simple'): unable to install in the given environment\n",
      "2019-03-06 09:02:44,161 [26676] INFO     thoth.adviser.python.dependency_graph:432: Excluding a path due to package ('markupsafe', '0.9.1', 'https://pypi.org/simple'): unable to install in the given environment\n",
      "2019-03-06 09:02:44,162 [26676] INFO     thoth.adviser.python.dependency_graph:432: Excluding a path due to package ('markupsafe', '0.9', 'https://pypi.org/simple'): unable to install in the given environment\n",
      "2019-03-06 09:02:44,162 [26676] INFO     thoth.adviser.python.dependency_graph:432: Excluding a path due to package ('markupsafe', '0.9.1', 'https://pypi.org/simple'): unable to install in the given environment\n",
      "2019-03-06 09:02:44,164 [26676] INFO     thoth.adviser.python.dependency_graph:432: Excluding a path due to package ('markupsafe', '0.9', 'https://pypi.org/simple'): unable to install in the given environment\n",
      "2019-03-06 09:02:44,165 [26676] INFO     thoth.adviser.python.dependency_graph:432: Excluding a path due to package ('markupsafe', '0.9.1', 'https://pypi.org/simple'): unable to install in the given environment\n",
      "2019-03-06 09:02:44,167 [26676] INFO     thoth.adviser.python.dependency_graph:432: Excluding a path due to package ('markupsafe', '0.9', 'https://pypi.org/simple'): unable to install in the given environment\n",
      "2019-03-06 09:02:44,168 [26676] INFO     thoth.adviser.python.dependency_graph:432: Excluding a path due to package ('markupsafe', '0.9.1', 'https://pypi.org/simple'): unable to install in the given environment\n"
     ]
    },
    {
     "name": "stderr",
     "output_type": "stream",
     "text": [
      "2019-03-06 09:02:44,220 [26676] INFO     thoth.adviser.python.dependency_graph:432: Excluding a path due to package ('markupsafe', '0.9', 'https://pypi.org/simple'): unable to install in the given environment\n",
      "2019-03-06 09:02:44,226 [26676] INFO     thoth.adviser.python.dependency_graph:432: Excluding a path due to package ('markupsafe', '0.9.1', 'https://pypi.org/simple'): unable to install in the given environment\n",
      "2019-03-06 09:02:44,227 [26676] INFO     thoth.adviser.python.dependency_graph:432: Excluding a path due to package ('markupsafe', '0.9', 'https://pypi.org/simple'): unable to install in the given environment\n",
      "2019-03-06 09:02:44,229 [26676] INFO     thoth.adviser.python.dependency_graph:432: Excluding a path due to package ('markupsafe', '0.9.1', 'https://pypi.org/simple'): unable to install in the given environment\n",
      "2019-03-06 09:02:44,231 [26676] INFO     thoth.adviser.python.dependency_graph:432: Excluding a path due to package ('markupsafe', '0.9', 'https://pypi.org/simple'): unable to install in the given environment\n",
      "2019-03-06 09:02:44,232 [26676] INFO     thoth.adviser.python.dependency_graph:432: Excluding a path due to package ('markupsafe', '0.9.1', 'https://pypi.org/simple'): unable to install in the given environment\n",
      "2019-03-06 09:02:44,234 [26676] INFO     thoth.adviser.python.dependency_graph:432: Excluding a path due to package ('markupsafe', '0.9', 'https://pypi.org/simple'): unable to install in the given environment\n",
      "2019-03-06 09:02:44,234 [26676] INFO     thoth.adviser.python.dependency_graph:432: Excluding a path due to package ('markupsafe', '0.9.1', 'https://pypi.org/simple'): unable to install in the given environment\n",
      "2019-03-06 09:02:44,236 [26676] INFO     thoth.adviser.python.dependency_graph:432: Excluding a path due to package ('markupsafe', '0.9', 'https://pypi.org/simple'): unable to install in the given environment\n",
      "2019-03-06 09:02:44,237 [26676] INFO     thoth.adviser.python.dependency_graph:432: Excluding a path due to package ('markupsafe', '0.9.1', 'https://pypi.org/simple'): unable to install in the given environment\n",
      "2019-03-06 09:02:44,240 [26676] INFO     thoth.adviser.python.dependency_graph:432: Excluding a path due to package ('markupsafe', '0.9', 'https://pypi.org/simple'): unable to install in the given environment\n",
      "2019-03-06 09:02:44,242 [26676] INFO     thoth.adviser.python.dependency_graph:432: Excluding a path due to package ('markupsafe', '0.9.1', 'https://pypi.org/simple'): unable to install in the given environment\n",
      "2019-03-06 09:02:44,295 [26676] INFO     thoth.adviser.python.dependency_graph:432: Excluding a path due to package ('markupsafe', '0.9', 'https://pypi.org/simple'): unable to install in the given environment\n",
      "2019-03-06 09:02:44,296 [26676] INFO     thoth.adviser.python.dependency_graph:432: Excluding a path due to package ('markupsafe', '0.9.1', 'https://pypi.org/simple'): unable to install in the given environment\n",
      "2019-03-06 09:02:44,297 [26676] INFO     thoth.adviser.python.dependency_graph:432: Excluding a path due to package ('markupsafe', '0.9', 'https://pypi.org/simple'): unable to install in the given environment\n",
      "2019-03-06 09:02:44,298 [26676] INFO     thoth.adviser.python.dependency_graph:432: Excluding a path due to package ('markupsafe', '0.9.1', 'https://pypi.org/simple'): unable to install in the given environment\n",
      "2019-03-06 09:02:44,298 [26676] INFO     thoth.adviser.python.dependency_graph:432: Excluding a path due to package ('markupsafe', '0.9', 'https://pypi.org/simple'): unable to install in the given environment\n",
      "2019-03-06 09:02:44,299 [26676] INFO     thoth.adviser.python.dependency_graph:432: Excluding a path due to package ('markupsafe', '0.9.1', 'https://pypi.org/simple'): unable to install in the given environment\n",
      "2019-03-06 09:02:44,300 [26676] INFO     thoth.adviser.python.dependency_graph:432: Excluding a path due to package ('markupsafe', '0.9', 'https://pypi.org/simple'): unable to install in the given environment\n",
      "2019-03-06 09:02:44,301 [26676] INFO     thoth.adviser.python.dependency_graph:432: Excluding a path due to package ('markupsafe', '0.9.1', 'https://pypi.org/simple'): unable to install in the given environment\n",
      "2019-03-06 09:02:44,302 [26676] INFO     thoth.adviser.python.dependency_graph:432: Excluding a path due to package ('markupsafe', '0.9', 'https://pypi.org/simple'): unable to install in the given environment\n",
      "2019-03-06 09:02:44,302 [26676] INFO     thoth.adviser.python.dependency_graph:432: Excluding a path due to package ('markupsafe', '0.9.1', 'https://pypi.org/simple'): unable to install in the given environment\n",
      "2019-03-06 09:02:44,303 [26676] INFO     thoth.adviser.python.dependency_graph:432: Excluding a path due to package ('markupsafe', '0.9', 'https://pypi.org/simple'): unable to install in the given environment\n",
      "2019-03-06 09:02:44,304 [26676] INFO     thoth.adviser.python.dependency_graph:432: Excluding a path due to package ('markupsafe', '0.9.1', 'https://pypi.org/simple'): unable to install in the given environment\n",
      "2019-03-06 09:02:44,359 [26676] INFO     thoth.adviser.python.dependency_graph:432: Excluding a path due to package ('markupsafe', '0.9', 'https://pypi.org/simple'): unable to install in the given environment\n",
      "2019-03-06 09:02:44,361 [26676] INFO     thoth.adviser.python.dependency_graph:432: Excluding a path due to package ('markupsafe', '0.9.1', 'https://pypi.org/simple'): unable to install in the given environment\n",
      "2019-03-06 09:02:44,362 [26676] INFO     thoth.adviser.python.dependency_graph:432: Excluding a path due to package ('markupsafe', '0.9', 'https://pypi.org/simple'): unable to install in the given environment\n",
      "2019-03-06 09:02:44,364 [26676] INFO     thoth.adviser.python.dependency_graph:432: Excluding a path due to package ('markupsafe', '0.9.1', 'https://pypi.org/simple'): unable to install in the given environment\n",
      "2019-03-06 09:02:44,365 [26676] INFO     thoth.adviser.python.dependency_graph:432: Excluding a path due to package ('markupsafe', '0.9', 'https://pypi.org/simple'): unable to install in the given environment\n",
      "2019-03-06 09:02:44,366 [26676] INFO     thoth.adviser.python.dependency_graph:432: Excluding a path due to package ('markupsafe', '0.9.1', 'https://pypi.org/simple'): unable to install in the given environment\n",
      "2019-03-06 09:02:44,367 [26676] INFO     thoth.adviser.python.dependency_graph:432: Excluding a path due to package ('markupsafe', '0.9', 'https://pypi.org/simple'): unable to install in the given environment\n",
      "2019-03-06 09:02:44,368 [26676] INFO     thoth.adviser.python.dependency_graph:432: Excluding a path due to package ('markupsafe', '0.9.1', 'https://pypi.org/simple'): unable to install in the given environment\n",
      "2019-03-06 09:02:44,370 [26676] INFO     thoth.adviser.python.dependency_graph:432: Excluding a path due to package ('markupsafe', '0.9', 'https://pypi.org/simple'): unable to install in the given environment\n",
      "2019-03-06 09:02:44,371 [26676] INFO     thoth.adviser.python.dependency_graph:432: Excluding a path due to package ('markupsafe', '0.9.1', 'https://pypi.org/simple'): unable to install in the given environment\n",
      "2019-03-06 09:02:44,373 [26676] INFO     thoth.adviser.python.dependency_graph:432: Excluding a path due to package ('markupsafe', '0.9', 'https://pypi.org/simple'): unable to install in the given environment\n",
      "2019-03-06 09:02:44,375 [26676] INFO     thoth.adviser.python.dependency_graph:432: Excluding a path due to package ('markupsafe', '0.9.1', 'https://pypi.org/simple'): unable to install in the given environment\n",
      "2019-03-06 09:02:44,431 [26676] INFO     thoth.adviser.python.dependency_graph:432: Excluding a path due to package ('markupsafe', '0.9', 'https://pypi.org/simple'): unable to install in the given environment\n",
      "2019-03-06 09:02:44,432 [26676] INFO     thoth.adviser.python.dependency_graph:432: Excluding a path due to package ('markupsafe', '0.9.1', 'https://pypi.org/simple'): unable to install in the given environment\n",
      "2019-03-06 09:02:44,433 [26676] INFO     thoth.adviser.python.dependency_graph:432: Excluding a path due to package ('markupsafe', '0.9', 'https://pypi.org/simple'): unable to install in the given environment\n",
      "2019-03-06 09:02:44,433 [26676] INFO     thoth.adviser.python.dependency_graph:432: Excluding a path due to package ('markupsafe', '0.9.1', 'https://pypi.org/simple'): unable to install in the given environment\n"
     ]
    },
    {
     "name": "stderr",
     "output_type": "stream",
     "text": [
      "2019-03-06 09:02:44,434 [26676] INFO     thoth.adviser.python.dependency_graph:432: Excluding a path due to package ('markupsafe', '0.9', 'https://pypi.org/simple'): unable to install in the given environment\n",
      "2019-03-06 09:02:44,435 [26676] INFO     thoth.adviser.python.dependency_graph:432: Excluding a path due to package ('markupsafe', '0.9.1', 'https://pypi.org/simple'): unable to install in the given environment\n",
      "2019-03-06 09:02:44,436 [26676] INFO     thoth.adviser.python.dependency_graph:432: Excluding a path due to package ('markupsafe', '0.9', 'https://pypi.org/simple'): unable to install in the given environment\n",
      "2019-03-06 09:02:44,437 [26676] INFO     thoth.adviser.python.dependency_graph:432: Excluding a path due to package ('markupsafe', '0.9.1', 'https://pypi.org/simple'): unable to install in the given environment\n",
      "2019-03-06 09:02:44,438 [26676] INFO     thoth.adviser.python.dependency_graph:432: Excluding a path due to package ('markupsafe', '0.9', 'https://pypi.org/simple'): unable to install in the given environment\n",
      "2019-03-06 09:02:44,439 [26676] INFO     thoth.adviser.python.dependency_graph:432: Excluding a path due to package ('markupsafe', '0.9.1', 'https://pypi.org/simple'): unable to install in the given environment\n",
      "2019-03-06 09:02:44,440 [26676] INFO     thoth.adviser.python.dependency_graph:432: Excluding a path due to package ('markupsafe', '0.9', 'https://pypi.org/simple'): unable to install in the given environment\n",
      "2019-03-06 09:02:44,440 [26676] INFO     thoth.adviser.python.dependency_graph:432: Excluding a path due to package ('markupsafe', '0.9.1', 'https://pypi.org/simple'): unable to install in the given environment\n",
      "2019-03-06 09:02:44,504 [26676] INFO     thoth.adviser.python.dependency_graph:432: Excluding a path due to package ('markupsafe', '0.9', 'https://pypi.org/simple'): unable to install in the given environment\n",
      "2019-03-06 09:02:44,505 [26676] INFO     thoth.adviser.python.dependency_graph:432: Excluding a path due to package ('markupsafe', '0.9.1', 'https://pypi.org/simple'): unable to install in the given environment\n",
      "2019-03-06 09:02:44,507 [26676] INFO     thoth.adviser.python.dependency_graph:432: Excluding a path due to package ('markupsafe', '0.9', 'https://pypi.org/simple'): unable to install in the given environment\n",
      "2019-03-06 09:02:44,508 [26676] INFO     thoth.adviser.python.dependency_graph:432: Excluding a path due to package ('markupsafe', '0.9.1', 'https://pypi.org/simple'): unable to install in the given environment\n",
      "2019-03-06 09:02:44,510 [26676] INFO     thoth.adviser.python.dependency_graph:432: Excluding a path due to package ('markupsafe', '0.9', 'https://pypi.org/simple'): unable to install in the given environment\n",
      "2019-03-06 09:02:44,513 [26676] INFO     thoth.adviser.python.dependency_graph:432: Excluding a path due to package ('markupsafe', '0.9.1', 'https://pypi.org/simple'): unable to install in the given environment\n",
      "2019-03-06 09:02:44,516 [26676] INFO     thoth.adviser.python.dependency_graph:432: Excluding a path due to package ('markupsafe', '0.9', 'https://pypi.org/simple'): unable to install in the given environment\n",
      "2019-03-06 09:02:44,519 [26676] INFO     thoth.adviser.python.dependency_graph:432: Excluding a path due to package ('markupsafe', '0.9.1', 'https://pypi.org/simple'): unable to install in the given environment\n",
      "2019-03-06 09:02:44,521 [26676] INFO     thoth.adviser.python.dependency_graph:432: Excluding a path due to package ('markupsafe', '0.9', 'https://pypi.org/simple'): unable to install in the given environment\n",
      "2019-03-06 09:02:44,522 [26676] INFO     thoth.adviser.python.dependency_graph:432: Excluding a path due to package ('markupsafe', '0.9.1', 'https://pypi.org/simple'): unable to install in the given environment\n",
      "2019-03-06 09:02:44,525 [26676] INFO     thoth.adviser.python.dependency_graph:432: Excluding a path due to package ('markupsafe', '0.9', 'https://pypi.org/simple'): unable to install in the given environment\n",
      "2019-03-06 09:02:44,528 [26676] INFO     thoth.adviser.python.dependency_graph:432: Excluding a path due to package ('markupsafe', '0.9.1', 'https://pypi.org/simple'): unable to install in the given environment\n",
      "2019-03-06 09:02:44,588 [26676] INFO     thoth.adviser.python.dependency_graph:432: Excluding a path due to package ('markupsafe', '0.9', 'https://pypi.org/simple'): unable to install in the given environment\n",
      "2019-03-06 09:02:44,591 [26676] INFO     thoth.adviser.python.dependency_graph:432: Excluding a path due to package ('markupsafe', '0.9.1', 'https://pypi.org/simple'): unable to install in the given environment\n",
      "2019-03-06 09:02:44,592 [26676] INFO     thoth.adviser.python.dependency_graph:432: Excluding a path due to package ('markupsafe', '0.9', 'https://pypi.org/simple'): unable to install in the given environment\n",
      "2019-03-06 09:02:44,593 [26676] INFO     thoth.adviser.python.dependency_graph:432: Excluding a path due to package ('markupsafe', '0.9.1', 'https://pypi.org/simple'): unable to install in the given environment\n",
      "2019-03-06 09:02:44,596 [26676] INFO     thoth.adviser.python.dependency_graph:432: Excluding a path due to package ('markupsafe', '0.9', 'https://pypi.org/simple'): unable to install in the given environment\n",
      "2019-03-06 09:02:44,597 [26676] INFO     thoth.adviser.python.dependency_graph:432: Excluding a path due to package ('markupsafe', '0.9.1', 'https://pypi.org/simple'): unable to install in the given environment\n",
      "2019-03-06 09:02:44,599 [26676] INFO     thoth.adviser.python.dependency_graph:432: Excluding a path due to package ('markupsafe', '0.9', 'https://pypi.org/simple'): unable to install in the given environment\n",
      "2019-03-06 09:02:44,599 [26676] INFO     thoth.adviser.python.dependency_graph:432: Excluding a path due to package ('markupsafe', '0.9.1', 'https://pypi.org/simple'): unable to install in the given environment\n",
      "2019-03-06 09:02:44,601 [26676] INFO     thoth.adviser.python.dependency_graph:432: Excluding a path due to package ('markupsafe', '0.9', 'https://pypi.org/simple'): unable to install in the given environment\n",
      "2019-03-06 09:02:44,602 [26676] INFO     thoth.adviser.python.dependency_graph:432: Excluding a path due to package ('markupsafe', '0.9.1', 'https://pypi.org/simple'): unable to install in the given environment\n",
      "2019-03-06 09:02:44,603 [26676] INFO     thoth.adviser.python.dependency_graph:432: Excluding a path due to package ('markupsafe', '0.9', 'https://pypi.org/simple'): unable to install in the given environment\n",
      "2019-03-06 09:02:44,604 [26676] INFO     thoth.adviser.python.dependency_graph:432: Excluding a path due to package ('markupsafe', '0.9.1', 'https://pypi.org/simple'): unable to install in the given environment\n",
      "2019-03-06 09:02:44,653 [26676] INFO     thoth.adviser.python.dependency_graph:432: Excluding a path due to package ('markupsafe', '0.9', 'https://pypi.org/simple'): unable to install in the given environment\n",
      "2019-03-06 09:02:44,654 [26676] INFO     thoth.adviser.python.dependency_graph:432: Excluding a path due to package ('markupsafe', '0.9.1', 'https://pypi.org/simple'): unable to install in the given environment\n",
      "2019-03-06 09:02:44,655 [26676] INFO     thoth.adviser.python.dependency_graph:432: Excluding a path due to package ('markupsafe', '0.9', 'https://pypi.org/simple'): unable to install in the given environment\n",
      "2019-03-06 09:02:44,657 [26676] INFO     thoth.adviser.python.dependency_graph:432: Excluding a path due to package ('markupsafe', '0.9.1', 'https://pypi.org/simple'): unable to install in the given environment\n",
      "2019-03-06 09:02:44,658 [26676] INFO     thoth.adviser.python.dependency_graph:432: Excluding a path due to package ('markupsafe', '0.9', 'https://pypi.org/simple'): unable to install in the given environment\n",
      "2019-03-06 09:02:44,659 [26676] INFO     thoth.adviser.python.dependency_graph:432: Excluding a path due to package ('markupsafe', '0.9.1', 'https://pypi.org/simple'): unable to install in the given environment\n",
      "2019-03-06 09:02:44,660 [26676] INFO     thoth.adviser.python.dependency_graph:432: Excluding a path due to package ('markupsafe', '0.9', 'https://pypi.org/simple'): unable to install in the given environment\n",
      "2019-03-06 09:02:44,661 [26676] INFO     thoth.adviser.python.dependency_graph:432: Excluding a path due to package ('markupsafe', '0.9.1', 'https://pypi.org/simple'): unable to install in the given environment\n"
     ]
    },
    {
     "name": "stderr",
     "output_type": "stream",
     "text": [
      "2019-03-06 09:02:44,662 [26676] INFO     thoth.adviser.python.dependency_graph:432: Excluding a path due to package ('markupsafe', '0.9', 'https://pypi.org/simple'): unable to install in the given environment\n",
      "2019-03-06 09:02:44,663 [26676] INFO     thoth.adviser.python.dependency_graph:432: Excluding a path due to package ('markupsafe', '0.9.1', 'https://pypi.org/simple'): unable to install in the given environment\n",
      "2019-03-06 09:02:44,664 [26676] INFO     thoth.adviser.python.dependency_graph:432: Excluding a path due to package ('markupsafe', '0.9', 'https://pypi.org/simple'): unable to install in the given environment\n",
      "2019-03-06 09:02:44,665 [26676] INFO     thoth.adviser.python.dependency_graph:432: Excluding a path due to package ('markupsafe', '0.9.1', 'https://pypi.org/simple'): unable to install in the given environment\n",
      "2019-03-06 09:02:44,721 [26676] INFO     thoth.adviser.python.dependency_graph:432: Excluding a path due to package ('markupsafe', '0.9', 'https://pypi.org/simple'): unable to install in the given environment\n",
      "2019-03-06 09:02:44,722 [26676] INFO     thoth.adviser.python.dependency_graph:432: Excluding a path due to package ('markupsafe', '0.9.1', 'https://pypi.org/simple'): unable to install in the given environment\n",
      "2019-03-06 09:02:44,723 [26676] INFO     thoth.adviser.python.dependency_graph:432: Excluding a path due to package ('markupsafe', '0.9', 'https://pypi.org/simple'): unable to install in the given environment\n",
      "2019-03-06 09:02:44,724 [26676] INFO     thoth.adviser.python.dependency_graph:432: Excluding a path due to package ('markupsafe', '0.9.1', 'https://pypi.org/simple'): unable to install in the given environment\n",
      "2019-03-06 09:02:44,727 [26676] INFO     thoth.adviser.python.dependency_graph:432: Excluding a path due to package ('markupsafe', '0.9', 'https://pypi.org/simple'): unable to install in the given environment\n",
      "2019-03-06 09:02:44,728 [26676] INFO     thoth.adviser.python.dependency_graph:432: Excluding a path due to package ('markupsafe', '0.9.1', 'https://pypi.org/simple'): unable to install in the given environment\n",
      "2019-03-06 09:02:44,729 [26676] INFO     thoth.adviser.python.dependency_graph:432: Excluding a path due to package ('markupsafe', '0.9', 'https://pypi.org/simple'): unable to install in the given environment\n",
      "2019-03-06 09:02:44,730 [26676] INFO     thoth.adviser.python.dependency_graph:432: Excluding a path due to package ('markupsafe', '0.9.1', 'https://pypi.org/simple'): unable to install in the given environment\n",
      "2019-03-06 09:02:44,731 [26676] INFO     thoth.adviser.python.dependency_graph:432: Excluding a path due to package ('markupsafe', '0.9', 'https://pypi.org/simple'): unable to install in the given environment\n",
      "2019-03-06 09:02:44,731 [26676] INFO     thoth.adviser.python.dependency_graph:432: Excluding a path due to package ('markupsafe', '0.9.1', 'https://pypi.org/simple'): unable to install in the given environment\n",
      "2019-03-06 09:02:44,732 [26676] INFO     thoth.adviser.python.dependency_graph:432: Excluding a path due to package ('markupsafe', '0.9', 'https://pypi.org/simple'): unable to install in the given environment\n",
      "2019-03-06 09:02:44,733 [26676] INFO     thoth.adviser.python.dependency_graph:432: Excluding a path due to package ('markupsafe', '0.9.1', 'https://pypi.org/simple'): unable to install in the given environment\n",
      "2019-03-06 09:02:44,787 [26676] INFO     thoth.adviser.python.dependency_graph:432: Excluding a path due to package ('markupsafe', '0.9', 'https://pypi.org/simple'): unable to install in the given environment\n",
      "2019-03-06 09:02:44,788 [26676] INFO     thoth.adviser.python.dependency_graph:432: Excluding a path due to package ('markupsafe', '0.9.1', 'https://pypi.org/simple'): unable to install in the given environment\n",
      "2019-03-06 09:02:44,789 [26676] INFO     thoth.adviser.python.dependency_graph:432: Excluding a path due to package ('markupsafe', '0.9', 'https://pypi.org/simple'): unable to install in the given environment\n",
      "2019-03-06 09:02:44,791 [26676] INFO     thoth.adviser.python.dependency_graph:432: Excluding a path due to package ('markupsafe', '0.9.1', 'https://pypi.org/simple'): unable to install in the given environment\n",
      "2019-03-06 09:02:44,792 [26676] INFO     thoth.adviser.python.dependency_graph:432: Excluding a path due to package ('markupsafe', '0.9', 'https://pypi.org/simple'): unable to install in the given environment\n",
      "2019-03-06 09:02:44,793 [26676] INFO     thoth.adviser.python.dependency_graph:432: Excluding a path due to package ('markupsafe', '0.9.1', 'https://pypi.org/simple'): unable to install in the given environment\n",
      "2019-03-06 09:02:44,796 [26676] INFO     thoth.adviser.python.dependency_graph:432: Excluding a path due to package ('markupsafe', '0.9', 'https://pypi.org/simple'): unable to install in the given environment\n",
      "2019-03-06 09:02:44,797 [26676] INFO     thoth.adviser.python.dependency_graph:432: Excluding a path due to package ('markupsafe', '0.9.1', 'https://pypi.org/simple'): unable to install in the given environment\n",
      "2019-03-06 09:02:44,798 [26676] INFO     thoth.adviser.python.dependency_graph:432: Excluding a path due to package ('markupsafe', '0.9', 'https://pypi.org/simple'): unable to install in the given environment\n",
      "2019-03-06 09:02:44,799 [26676] INFO     thoth.adviser.python.dependency_graph:432: Excluding a path due to package ('markupsafe', '0.9.1', 'https://pypi.org/simple'): unable to install in the given environment\n",
      "2019-03-06 09:02:44,801 [26676] INFO     thoth.adviser.python.dependency_graph:432: Excluding a path due to package ('markupsafe', '0.9', 'https://pypi.org/simple'): unable to install in the given environment\n",
      "2019-03-06 09:02:44,802 [26676] INFO     thoth.adviser.python.dependency_graph:432: Excluding a path due to package ('markupsafe', '0.9.1', 'https://pypi.org/simple'): unable to install in the given environment\n",
      "2019-03-06 09:02:44,875 [26676] INFO     thoth.adviser.python.dependency_graph:432: Excluding a path due to package ('markupsafe', '0.9', 'https://pypi.org/simple'): unable to install in the given environment\n",
      "2019-03-06 09:02:44,876 [26676] INFO     thoth.adviser.python.dependency_graph:432: Excluding a path due to package ('markupsafe', '0.9.1', 'https://pypi.org/simple'): unable to install in the given environment\n",
      "2019-03-06 09:02:44,878 [26676] INFO     thoth.adviser.python.dependency_graph:432: Excluding a path due to package ('markupsafe', '0.9', 'https://pypi.org/simple'): unable to install in the given environment\n",
      "2019-03-06 09:02:44,880 [26676] INFO     thoth.adviser.python.dependency_graph:432: Excluding a path due to package ('markupsafe', '0.9.1', 'https://pypi.org/simple'): unable to install in the given environment\n",
      "2019-03-06 09:02:44,881 [26676] INFO     thoth.adviser.python.dependency_graph:432: Excluding a path due to package ('markupsafe', '0.9', 'https://pypi.org/simple'): unable to install in the given environment\n",
      "2019-03-06 09:02:44,882 [26676] INFO     thoth.adviser.python.dependency_graph:432: Excluding a path due to package ('markupsafe', '0.9.1', 'https://pypi.org/simple'): unable to install in the given environment\n",
      "2019-03-06 09:02:44,883 [26676] INFO     thoth.adviser.python.dependency_graph:432: Excluding a path due to package ('markupsafe', '0.9', 'https://pypi.org/simple'): unable to install in the given environment\n",
      "2019-03-06 09:02:44,884 [26676] INFO     thoth.adviser.python.dependency_graph:432: Excluding a path due to package ('markupsafe', '0.9.1', 'https://pypi.org/simple'): unable to install in the given environment\n",
      "2019-03-06 09:02:44,884 [26676] INFO     thoth.adviser.python.dependency_graph:432: Excluding a path due to package ('markupsafe', '0.9', 'https://pypi.org/simple'): unable to install in the given environment\n",
      "2019-03-06 09:02:44,885 [26676] INFO     thoth.adviser.python.dependency_graph:432: Excluding a path due to package ('markupsafe', '0.9.1', 'https://pypi.org/simple'): unable to install in the given environment\n",
      "2019-03-06 09:02:44,886 [26676] INFO     thoth.adviser.python.dependency_graph:432: Excluding a path due to package ('markupsafe', '0.9', 'https://pypi.org/simple'): unable to install in the given environment\n",
      "2019-03-06 09:02:44,887 [26676] INFO     thoth.adviser.python.dependency_graph:432: Excluding a path due to package ('markupsafe', '0.9.1', 'https://pypi.org/simple'): unable to install in the given environment\n"
     ]
    },
    {
     "name": "stderr",
     "output_type": "stream",
     "text": [
      "2019-03-06 09:02:44,938 [26676] INFO     thoth.adviser.python.dependency_graph:432: Excluding a path due to package ('markupsafe', '0.9', 'https://pypi.org/simple'): unable to install in the given environment\n",
      "2019-03-06 09:02:44,941 [26676] INFO     thoth.adviser.python.dependency_graph:432: Excluding a path due to package ('markupsafe', '0.9.1', 'https://pypi.org/simple'): unable to install in the given environment\n",
      "2019-03-06 09:02:44,942 [26676] INFO     thoth.adviser.python.dependency_graph:432: Excluding a path due to package ('markupsafe', '0.9', 'https://pypi.org/simple'): unable to install in the given environment\n",
      "2019-03-06 09:02:44,943 [26676] INFO     thoth.adviser.python.dependency_graph:432: Excluding a path due to package ('markupsafe', '0.9.1', 'https://pypi.org/simple'): unable to install in the given environment\n",
      "2019-03-06 09:02:44,945 [26676] INFO     thoth.adviser.python.dependency_graph:432: Excluding a path due to package ('markupsafe', '0.9', 'https://pypi.org/simple'): unable to install in the given environment\n",
      "2019-03-06 09:02:44,946 [26676] INFO     thoth.adviser.python.dependency_graph:432: Excluding a path due to package ('markupsafe', '0.9.1', 'https://pypi.org/simple'): unable to install in the given environment\n",
      "2019-03-06 09:02:44,948 [26676] INFO     thoth.adviser.python.dependency_graph:432: Excluding a path due to package ('markupsafe', '0.9', 'https://pypi.org/simple'): unable to install in the given environment\n",
      "2019-03-06 09:02:44,949 [26676] INFO     thoth.adviser.python.dependency_graph:432: Excluding a path due to package ('markupsafe', '0.9.1', 'https://pypi.org/simple'): unable to install in the given environment\n",
      "2019-03-06 09:02:44,952 [26676] INFO     thoth.adviser.python.dependency_graph:432: Excluding a path due to package ('markupsafe', '0.9', 'https://pypi.org/simple'): unable to install in the given environment\n",
      "2019-03-06 09:02:44,953 [26676] INFO     thoth.adviser.python.dependency_graph:432: Excluding a path due to package ('markupsafe', '0.9.1', 'https://pypi.org/simple'): unable to install in the given environment\n",
      "2019-03-06 09:02:44,959 [26676] INFO     thoth.adviser.python.dependency_graph:432: Excluding a path due to package ('markupsafe', '0.9', 'https://pypi.org/simple'): unable to install in the given environment\n",
      "2019-03-06 09:02:44,960 [26676] INFO     thoth.adviser.python.dependency_graph:432: Excluding a path due to package ('markupsafe', '0.9.1', 'https://pypi.org/simple'): unable to install in the given environment\n",
      "2019-03-06 09:02:45,026 [26676] INFO     thoth.adviser.python.dependency_graph:432: Excluding a path due to package ('markupsafe', '0.9', 'https://pypi.org/simple'): unable to install in the given environment\n",
      "2019-03-06 09:02:45,027 [26676] INFO     thoth.adviser.python.dependency_graph:432: Excluding a path due to package ('markupsafe', '0.9.1', 'https://pypi.org/simple'): unable to install in the given environment\n",
      "2019-03-06 09:02:45,028 [26676] INFO     thoth.adviser.python.dependency_graph:432: Excluding a path due to package ('markupsafe', '0.9', 'https://pypi.org/simple'): unable to install in the given environment\n",
      "2019-03-06 09:02:45,029 [26676] INFO     thoth.adviser.python.dependency_graph:432: Excluding a path due to package ('markupsafe', '0.9.1', 'https://pypi.org/simple'): unable to install in the given environment\n",
      "2019-03-06 09:02:45,031 [26676] INFO     thoth.adviser.python.dependency_graph:432: Excluding a path due to package ('markupsafe', '0.9', 'https://pypi.org/simple'): unable to install in the given environment\n",
      "2019-03-06 09:02:45,032 [26676] INFO     thoth.adviser.python.dependency_graph:432: Excluding a path due to package ('markupsafe', '0.9.1', 'https://pypi.org/simple'): unable to install in the given environment\n",
      "2019-03-06 09:02:45,034 [26676] INFO     thoth.adviser.python.dependency_graph:432: Excluding a path due to package ('markupsafe', '0.9', 'https://pypi.org/simple'): unable to install in the given environment\n",
      "2019-03-06 09:02:45,035 [26676] INFO     thoth.adviser.python.dependency_graph:432: Excluding a path due to package ('markupsafe', '0.9.1', 'https://pypi.org/simple'): unable to install in the given environment\n",
      "2019-03-06 09:02:45,037 [26676] INFO     thoth.adviser.python.dependency_graph:432: Excluding a path due to package ('markupsafe', '0.9', 'https://pypi.org/simple'): unable to install in the given environment\n",
      "2019-03-06 09:02:45,038 [26676] INFO     thoth.adviser.python.dependency_graph:432: Excluding a path due to package ('markupsafe', '0.9.1', 'https://pypi.org/simple'): unable to install in the given environment\n",
      "2019-03-06 09:02:45,040 [26676] INFO     thoth.adviser.python.dependency_graph:432: Excluding a path due to package ('markupsafe', '0.9', 'https://pypi.org/simple'): unable to install in the given environment\n",
      "2019-03-06 09:02:45,042 [26676] INFO     thoth.adviser.python.dependency_graph:432: Excluding a path due to package ('markupsafe', '0.9.1', 'https://pypi.org/simple'): unable to install in the given environment\n",
      "2019-03-06 09:02:45,139 [26676] INFO     thoth.adviser.python.dependency_graph:432: Excluding a path due to package ('markupsafe', '0.9', 'https://pypi.org/simple'): unable to install in the given environment\n",
      "2019-03-06 09:02:45,140 [26676] INFO     thoth.adviser.python.dependency_graph:432: Excluding a path due to package ('markupsafe', '0.9.1', 'https://pypi.org/simple'): unable to install in the given environment\n",
      "2019-03-06 09:02:45,141 [26676] INFO     thoth.adviser.python.dependency_graph:432: Excluding a path due to package ('markupsafe', '0.9', 'https://pypi.org/simple'): unable to install in the given environment\n",
      "2019-03-06 09:02:45,142 [26676] INFO     thoth.adviser.python.dependency_graph:432: Excluding a path due to package ('markupsafe', '0.9.1', 'https://pypi.org/simple'): unable to install in the given environment\n",
      "2019-03-06 09:02:45,143 [26676] INFO     thoth.adviser.python.dependency_graph:432: Excluding a path due to package ('markupsafe', '0.9', 'https://pypi.org/simple'): unable to install in the given environment\n",
      "2019-03-06 09:02:45,144 [26676] INFO     thoth.adviser.python.dependency_graph:432: Excluding a path due to package ('markupsafe', '0.9.1', 'https://pypi.org/simple'): unable to install in the given environment\n",
      "2019-03-06 09:02:45,146 [26676] INFO     thoth.adviser.python.dependency_graph:432: Excluding a path due to package ('markupsafe', '0.9', 'https://pypi.org/simple'): unable to install in the given environment\n",
      "2019-03-06 09:02:45,146 [26676] INFO     thoth.adviser.python.dependency_graph:432: Excluding a path due to package ('markupsafe', '0.9.1', 'https://pypi.org/simple'): unable to install in the given environment\n",
      "2019-03-06 09:02:45,148 [26676] INFO     thoth.adviser.python.dependency_graph:432: Excluding a path due to package ('markupsafe', '0.9', 'https://pypi.org/simple'): unable to install in the given environment\n",
      "2019-03-06 09:02:45,149 [26676] INFO     thoth.adviser.python.dependency_graph:432: Excluding a path due to package ('markupsafe', '0.9.1', 'https://pypi.org/simple'): unable to install in the given environment\n",
      "2019-03-06 09:02:45,151 [26676] INFO     thoth.adviser.python.dependency_graph:432: Excluding a path due to package ('markupsafe', '0.9', 'https://pypi.org/simple'): unable to install in the given environment\n",
      "2019-03-06 09:02:45,152 [26676] INFO     thoth.adviser.python.dependency_graph:432: Excluding a path due to package ('markupsafe', '0.9.1', 'https://pypi.org/simple'): unable to install in the given environment\n",
      "2019-03-06 09:02:45,217 [26676] INFO     thoth.adviser.python.dependency_graph:432: Excluding a path due to package ('markupsafe', '0.9', 'https://pypi.org/simple'): unable to install in the given environment\n",
      "2019-03-06 09:02:45,219 [26676] INFO     thoth.adviser.python.dependency_graph:432: Excluding a path due to package ('markupsafe', '0.9.1', 'https://pypi.org/simple'): unable to install in the given environment\n",
      "2019-03-06 09:02:45,221 [26676] INFO     thoth.adviser.python.dependency_graph:432: Excluding a path due to package ('markupsafe', '0.9', 'https://pypi.org/simple'): unable to install in the given environment\n",
      "2019-03-06 09:02:45,223 [26676] INFO     thoth.adviser.python.dependency_graph:432: Excluding a path due to package ('markupsafe', '0.9.1', 'https://pypi.org/simple'): unable to install in the given environment\n"
     ]
    },
    {
     "name": "stderr",
     "output_type": "stream",
     "text": [
      "2019-03-06 09:02:45,224 [26676] INFO     thoth.adviser.python.dependency_graph:432: Excluding a path due to package ('markupsafe', '0.9', 'https://pypi.org/simple'): unable to install in the given environment\n",
      "2019-03-06 09:02:45,225 [26676] INFO     thoth.adviser.python.dependency_graph:432: Excluding a path due to package ('markupsafe', '0.9.1', 'https://pypi.org/simple'): unable to install in the given environment\n",
      "2019-03-06 09:02:45,227 [26676] INFO     thoth.adviser.python.dependency_graph:432: Excluding a path due to package ('markupsafe', '0.9', 'https://pypi.org/simple'): unable to install in the given environment\n",
      "2019-03-06 09:02:45,227 [26676] INFO     thoth.adviser.python.dependency_graph:432: Excluding a path due to package ('markupsafe', '0.9.1', 'https://pypi.org/simple'): unable to install in the given environment\n",
      "2019-03-06 09:02:45,228 [26676] INFO     thoth.adviser.python.dependency_graph:432: Excluding a path due to package ('markupsafe', '0.9', 'https://pypi.org/simple'): unable to install in the given environment\n",
      "2019-03-06 09:02:45,229 [26676] INFO     thoth.adviser.python.dependency_graph:432: Excluding a path due to package ('markupsafe', '0.9.1', 'https://pypi.org/simple'): unable to install in the given environment\n",
      "2019-03-06 09:02:45,230 [26676] INFO     thoth.adviser.python.dependency_graph:432: Excluding a path due to package ('markupsafe', '0.9', 'https://pypi.org/simple'): unable to install in the given environment\n",
      "2019-03-06 09:02:45,231 [26676] INFO     thoth.adviser.python.dependency_graph:432: Excluding a path due to package ('markupsafe', '0.9.1', 'https://pypi.org/simple'): unable to install in the given environment\n",
      "2019-03-06 09:02:45,287 [26676] INFO     thoth.adviser.python.dependency_graph:432: Excluding a path due to package ('markupsafe', '0.9', 'https://pypi.org/simple'): unable to install in the given environment\n",
      "2019-03-06 09:02:45,287 [26676] INFO     thoth.adviser.python.dependency_graph:432: Excluding a path due to package ('markupsafe', '0.9.1', 'https://pypi.org/simple'): unable to install in the given environment\n",
      "2019-03-06 09:02:45,288 [26676] INFO     thoth.adviser.python.dependency_graph:432: Excluding a path due to package ('markupsafe', '0.9', 'https://pypi.org/simple'): unable to install in the given environment\n",
      "2019-03-06 09:02:45,289 [26676] INFO     thoth.adviser.python.dependency_graph:432: Excluding a path due to package ('markupsafe', '0.9.1', 'https://pypi.org/simple'): unable to install in the given environment\n",
      "2019-03-06 09:02:45,290 [26676] INFO     thoth.adviser.python.dependency_graph:432: Excluding a path due to package ('markupsafe', '0.9', 'https://pypi.org/simple'): unable to install in the given environment\n",
      "2019-03-06 09:02:45,290 [26676] INFO     thoth.adviser.python.dependency_graph:432: Excluding a path due to package ('markupsafe', '0.9.1', 'https://pypi.org/simple'): unable to install in the given environment\n",
      "2019-03-06 09:02:45,291 [26676] INFO     thoth.adviser.python.dependency_graph:432: Excluding a path due to package ('markupsafe', '0.9', 'https://pypi.org/simple'): unable to install in the given environment\n",
      "2019-03-06 09:02:45,292 [26676] INFO     thoth.adviser.python.dependency_graph:432: Excluding a path due to package ('markupsafe', '0.9.1', 'https://pypi.org/simple'): unable to install in the given environment\n",
      "2019-03-06 09:02:45,293 [26676] INFO     thoth.adviser.python.dependency_graph:432: Excluding a path due to package ('markupsafe', '0.9', 'https://pypi.org/simple'): unable to install in the given environment\n",
      "2019-03-06 09:02:45,293 [26676] INFO     thoth.adviser.python.dependency_graph:432: Excluding a path due to package ('markupsafe', '0.9.1', 'https://pypi.org/simple'): unable to install in the given environment\n",
      "2019-03-06 09:02:45,294 [26676] INFO     thoth.adviser.python.dependency_graph:432: Excluding a path due to package ('markupsafe', '0.9', 'https://pypi.org/simple'): unable to install in the given environment\n",
      "2019-03-06 09:02:45,295 [26676] INFO     thoth.adviser.python.dependency_graph:432: Excluding a path due to package ('markupsafe', '0.9.1', 'https://pypi.org/simple'): unable to install in the given environment\n",
      "2019-03-06 09:02:45,348 [26676] INFO     thoth.adviser.python.dependency_graph:432: Excluding a path due to package ('markupsafe', '0.9', 'https://pypi.org/simple'): unable to install in the given environment\n",
      "2019-03-06 09:02:45,349 [26676] INFO     thoth.adviser.python.dependency_graph:432: Excluding a path due to package ('markupsafe', '0.9.1', 'https://pypi.org/simple'): unable to install in the given environment\n",
      "2019-03-06 09:02:45,350 [26676] INFO     thoth.adviser.python.dependency_graph:432: Excluding a path due to package ('markupsafe', '0.9', 'https://pypi.org/simple'): unable to install in the given environment\n",
      "2019-03-06 09:02:45,351 [26676] INFO     thoth.adviser.python.dependency_graph:432: Excluding a path due to package ('markupsafe', '0.9.1', 'https://pypi.org/simple'): unable to install in the given environment\n",
      "2019-03-06 09:02:45,352 [26676] INFO     thoth.adviser.python.dependency_graph:432: Excluding a path due to package ('markupsafe', '0.9', 'https://pypi.org/simple'): unable to install in the given environment\n",
      "2019-03-06 09:02:45,353 [26676] INFO     thoth.adviser.python.dependency_graph:432: Excluding a path due to package ('markupsafe', '0.9.1', 'https://pypi.org/simple'): unable to install in the given environment\n",
      "2019-03-06 09:02:45,355 [26676] INFO     thoth.adviser.python.dependency_graph:432: Excluding a path due to package ('markupsafe', '0.9', 'https://pypi.org/simple'): unable to install in the given environment\n",
      "2019-03-06 09:02:45,356 [26676] INFO     thoth.adviser.python.dependency_graph:432: Excluding a path due to package ('markupsafe', '0.9.1', 'https://pypi.org/simple'): unable to install in the given environment\n",
      "2019-03-06 09:02:45,357 [26676] INFO     thoth.adviser.python.dependency_graph:432: Excluding a path due to package ('markupsafe', '0.9', 'https://pypi.org/simple'): unable to install in the given environment\n",
      "2019-03-06 09:02:45,357 [26676] INFO     thoth.adviser.python.dependency_graph:432: Excluding a path due to package ('markupsafe', '0.9.1', 'https://pypi.org/simple'): unable to install in the given environment\n",
      "2019-03-06 09:02:45,358 [26676] INFO     thoth.adviser.python.dependency_graph:432: Excluding a path due to package ('markupsafe', '0.9', 'https://pypi.org/simple'): unable to install in the given environment\n",
      "2019-03-06 09:02:45,359 [26676] INFO     thoth.adviser.python.dependency_graph:432: Excluding a path due to package ('markupsafe', '0.9.1', 'https://pypi.org/simple'): unable to install in the given environment\n",
      "2019-03-06 09:02:45,371 [26676] WARNING  thoth.adviser.python.dependency_graph:494: Sorting dependencies to preserve order of generated stacks\n",
      "2019-03-06 09:02:46,410 [26676] INFO     thoth.adviser.python.dependency_graph:499: Cutting off unwanted dependencies\n",
      "2019-03-06 09:02:46,619 [26676] INFO     thoth.adviser.python.dependency_graph:509: Creating dependency graph\n",
      "2019-03-06 09:02:46,620 [26676] INFO     thoth.adviser.python.dependency_graph:632: Computing possible stack candidates, estimated stacks count: 761035500\n",
      "2019-03-06 09:02:46,631 [26676] DEBUG    thoth.adviser.python.bin.dependency_graph:185: Reading from pipe, item size: 4\n",
      "2019-03-06 09:02:46,631 [26820] INFO     thoth.adviser.python.bin.dependency_graph:132: Starting stack producer from '/home/fpokorny/github.com/thoth-station/adviser/thoth/adviser/python/bin/libdependency_graph.so' library...\n",
      "2019-03-06 09:02:46,647 [26820] DEBUG    thoth.adviser.python.bin.dependency_graph:152: Calling dependency graph constructor\n",
      "2019-03-06 09:02:46,649 [26820] DEBUG    thoth.adviser.python.bin.dependency_graph:153: Dependencies list size: 1589\n",
      "2019-03-06 09:02:46,650 [26820] DEBUG    thoth.adviser.python.bin.dependency_graph:154: Number of direct dependencies: 37\n",
      "2019-03-06 09:02:46,652 [26820] DEBUG    thoth.adviser.python.bin.dependency_graph:155: Total number of packages considered: 151\n",
      "2019-03-06 09:02:46,655 [26820] DEBUG    thoth.adviser.python.bin.dependency_graph:165: Starting dependency graph walk...\n"
     ]
    },
    {
     "name": "stderr",
     "output_type": "stream",
     "text": [
      "2019-03-06 09:02:46,980 [26676] DEBUG    thoth.adviser.python.bin.dependency_graph:195: Reached stack delimiter, yielding stack\n",
      "2019-03-06 09:02:46,981 [26676] INFO     thoth.adviser.python.dependency_graph:643: Found a new stack, asking decision function for inclusion\n",
      "2019-03-06 09:02:46,982 [26676] INFO     thoth.adviser.python.dependency_graph:649: Decision function included the computed stack - result was 1.0\n",
      "2019-03-06 09:02:46,984 [26676] INFO     thoth.adviser.python.advise:108: Reached graph traversal limit (1), stopping dependency graph traversal\n",
      "2019-03-06 09:02:46,986 [26676] INFO     thoth.adviser.python.advise:115: Scored 1 stacks in total\n",
      "2019-03-06 09:02:46,987 [26676] INFO     thoth.adviser.python.advise:122: Filling package digests to software stacks\n",
      "2019-03-06 09:02:46,988 [26676] INFO     thoth.adviser.python.helpers:84: Retrieving package digests from graph database for package 'daiquiri' in version '1.5.0' from index 'https://pypi.org/simple'\n",
      "2019-03-06 09:02:47,063 [26676] INFO     thoth.adviser.python.helpers:84: Retrieving package digests from graph database for package 'flask' in version '0.12.4' from index 'https://pypi.org/simple'\n",
      "2019-03-06 09:02:47,129 [26676] INFO     thoth.adviser.python.helpers:84: Retrieving package digests from graph database for package 'jinja2' in version '2.10' from index 'https://pypi.org/simple'\n",
      "2019-03-06 09:02:47,193 [26676] INFO     thoth.adviser.python.helpers:84: Retrieving package digests from graph database for package 'markupsafe' in version '1.1.1' from index 'https://pypi.org/simple'\n",
      "2019-03-06 09:02:47,286 [26676] INFO     thoth.adviser.python.helpers:84: Retrieving package digests from graph database for package 'werkzeug' in version '0.14.1' from index 'https://pypi.org/simple'\n",
      "2019-03-06 09:02:47,351 [26676] INFO     thoth.adviser.python.helpers:84: Retrieving package digests from graph database for package 'click' in version '7.0' from index 'https://pypi.org/simple'\n",
      "2019-03-06 09:02:47,418 [26676] INFO     thoth.adviser.python.helpers:84: Retrieving package digests from graph database for package 'itsdangerous' in version '1.1.0' from index 'https://pypi.org/simple'\n"
     ]
    },
    {
     "name": "stdout",
     "output_type": "stream",
     "text": [
      "CPU times: user 2.55 s, sys: 149 ms, total: 2.7 s\n",
      "Wall time: 4.36 s\n"
     ]
    }
   ],
   "source": [
    "%%time\n",
    "\n",
    "from thoth.adviser.python import Adviser\n",
    "from thoth.adviser.enums import RecommendationType\n",
    "\n",
    "stack_info, report = Adviser.compute_on_project(\n",
    "    project,\n",
    "    runtime_environment=runtime_environment,\n",
    "    recommendation_type=RecommendationType.LATEST,\n",
    "    count=1,\n",
    "    limit=1,\n",
    "    dry_run=False,\n",
    "    graph=graph\n",
    ")"
   ]
  },
  {
   "cell_type": "markdown",
   "metadata": {},
   "source": [
    "After the above call, there are present two variables `stack_info` and `report`. The stack info hods some generic reports for the provided stack (such as warnings on wrong conifiguration, warnings on direct dependencies stated and so). In this demo, we will focus more on report. The report of adviser output is a list of stacks with some additional guidenance/information or justification why a user should use the computed stack.\n",
    "\n",
    "Each entry in report is a tuple made of two items - justification (a list of reports and information about the computed stack) and the generated stack in a form of direct dependencies as well as generated lockfile (in this case this output is serialized into `Pipfile` and `Pipfile.lock`, but later there can be supported other output formats as stated above - like `pyproject.toml`)."
   ]
  },
  {
   "cell_type": "code",
   "execution_count": 12,
   "metadata": {},
   "outputs": [
    {
     "data": {
      "text/plain": [
       "{'requirements': {'packages': {'daiquiri': '*', 'flask': '<=0.12.4'},\n",
       "  'dev-packages': {},\n",
       "  'source': [{'url': 'https://pypi.org/simple',\n",
       "    'verify_ssl': True,\n",
       "    'name': 'pypi-org'}],\n",
       "  'requires': {'python_version': '3.6'}},\n",
       " 'requirements_locked': {'_meta': {'sources': [{'url': 'https://pypi.org/simple',\n",
       "     'verify_ssl': True,\n",
       "     'name': 'pypi-org'}],\n",
       "   'requires': {'python_version': '3.6'},\n",
       "   'hash': {'sha256': '09e4195b3fc6e06bd5ba3a9a641b6bd3e3b036256850507e18e37aaf7294f148'},\n",
       "   'pipfile-spec': 6},\n",
       "  'default': {'daiquiri': {'version': '==1.5.0',\n",
       "    'hashes': ['sha256:8832f28e110165b905993b4bdab638a3c245f5671d5976f226f2628e7d2e7862',\n",
       "     'sha256:ac0e69ac0a8c4ceabcf57f14ba4dc7b5940dc2bf9d1ee620d2ae9fa8f78c7891'],\n",
       "    'index': 'pypi-org'},\n",
       "   'flask': {'version': '==0.12.4',\n",
       "    'hashes': ['sha256:2ea22336f6d388b4b242bc3abf8a01244a8aa3e236e7407469ef78c16ba355dd',\n",
       "     'sha256:6c02dbaa5a9ef790d8219bdced392e2d549c10cd5a5ba4b6aa65126b2271af29'],\n",
       "    'index': 'pypi-org'},\n",
       "   'jinja2': {'version': '==2.10',\n",
       "    'hashes': ['sha256:74c935a1b8bb9a3947c50a54766a969d4846290e1e788ea44c1392163723c3bd',\n",
       "     'sha256:f84be1bb0040caca4cea721fcbbbbd61f9be9464ca236387158b0feea01914a4'],\n",
       "    'index': 'pypi-org'},\n",
       "   'markupsafe': {'version': '==1.1.1',\n",
       "    'hashes': ['sha256:09027a7803a62ca78792ad89403b1b7a73a01c8cb65909cd876f7fcebd79b161',\n",
       "     'sha256:09c4b7f37d6c648cb13f9230d847adf22f8171b1ccc4d5682398e77f40309235',\n",
       "     'sha256:79855e1c5b8da654cf486b830bd42c06e8780cea587384cf6545b7d9ac013a0b',\n",
       "     'sha256:7c1699dfe0cf8ff607dbdcc1e9b9af1755371f92a68f706051cc8c37d447c905',\n",
       "     'sha256:00bc623926325b26bb9605ae9eae8a215691f33cae5df11ca5424f06f2d1f473',\n",
       "     'sha256:88e5fcfb52ee7b911e8bb6d6aa2fd21fbecc674eadd44118a9cc3863f938e735',\n",
       "     'sha256:9add70b36c5666a2ed02b43b335fe19002ee5235efd4b8a89bfcf9005bebac0d',\n",
       "     'sha256:cd5df75523866410809ca100dc9681e301e3c27567cf498077e8551b6d20e42f',\n",
       "     'sha256:24982cc2533820871eba85ba648cd53d8623687ff11cbb805be4ff7b4c971aff',\n",
       "     'sha256:29872e92839765e546828bb7754a68c418d927cd064fd4708fab9fe9c8bb116b',\n",
       "     'sha256:98c7086708b163d425c67c7a91bad6e466bb99d797aa64f965e9d25c12111a5e',\n",
       "     'sha256:6dd73240d2af64df90aa7c4e7481e23825ea70af4b4922f8ede5b9e35f78a3b1',\n",
       "     'sha256:1027c282dad077d0bae18be6794e6b6b8c91d58ed8a8d89a89d59693b9131db5',\n",
       "     'sha256:535f6fc4d397c1563d08b88e485c3496cf5784e927af890fb3c3aac7f933ec66',\n",
       "     'sha256:43a55c2930bbc139570ac2452adf3d70cdbb3cfe5912c71cdce1c2c6bbd9c5d1',\n",
       "     'sha256:c8716a48d94b06bb3b2524c2b77e055fb313aeb4ea620c8dd03a105574ba704f',\n",
       "     'sha256:8defac2f2ccd6805ebf65f5eeb132adcf2ab57aa11fdf4c0dd5169a004710e7d',\n",
       "     'sha256:46c99d2de99945ec5cb54f23c8cd5689f6d7177305ebff350a58ce5f8de1669e',\n",
       "     'sha256:ba59edeaa2fc6114428f1637ffff42da1e311e29382d81b339c1817d37ec93c6',\n",
       "     'sha256:b00c1de48212e4cc9603895652c5c410df699856a2853135b3967591e4beebc2',\n",
       "     'sha256:b2051432115498d3562c084a49bba65d97cf251f5a331c64a12ee7e04dacc51b',\n",
       "     'sha256:ade5e387d2ad0d7ebf59146cc00c8044acbd863725f887353a10df825fc8ae21',\n",
       "     'sha256:500d4957e52ddc3351cabf489e79c91c17f6e0899158447047588650b5e69183',\n",
       "     'sha256:b1282f8c00509d99fef04d8ba936b156d419be841854fe901d8ae224c59f0be5',\n",
       "     'sha256:62fe6c95e3ec8a7fad637b7f3d372c15ec1caa01ab47926cfdf7a75b40e0eac1',\n",
       "     'sha256:e249096428b3ae81b08327a63a485ad0878de3fb939049038579ac0ef61e17e7',\n",
       "     'sha256:717ba8fe3ae9cc0006d7c451f0bb265ee07739daf76355d06366154ee68d221e',\n",
       "     'sha256:9bf40443012702a1d2070043cb6291650a0841ece432556f784f004937f0f32c'],\n",
       "    'index': 'pypi-org'},\n",
       "   'werkzeug': {'version': '==0.14.1',\n",
       "    'hashes': ['sha256:d5da73735293558eb1651ee2fddc4d0dedcfa06538b8813a2e20011583c9e49b',\n",
       "     'sha256:c3fd7a7d41976d9f44db327260e263132466836cef6f91512889ed60ad26557c'],\n",
       "    'index': 'pypi-org'},\n",
       "   'click': {'version': '==7.0',\n",
       "    'hashes': ['sha256:5b94b49521f6456670fdb30cd82a4eca9412788a93fa6dd6df72c94d5a8ff2d7',\n",
       "     'sha256:2335065e6395b9e67ca716de5f7526736bfa6ceead690adf616d925bdc622b13'],\n",
       "    'index': 'pypi-org'},\n",
       "   'itsdangerous': {'version': '==1.1.0',\n",
       "    'hashes': ['sha256:321b033d07f2a4136d3ec762eac9f16a10ccd60f53c0c91af90217ace7ba1f19',\n",
       "     'sha256:b12271b2047cb23eeb98c8b5622e2e5c5e9abd9784a153e9d8ef9cb4dd09d749'],\n",
       "    'index': 'pypi-org'}},\n",
       "  'develop': {}}}"
      ]
     },
     "execution_count": 12,
     "metadata": {},
     "output_type": "execute_result"
    }
   ],
   "source": [
    "from pprint import pprint\n",
    "\n",
    "project = report[0][1]\n",
    "project.to_dict()"
   ]
  },
  {
   "cell_type": "markdown",
   "metadata": {},
   "source": [
    "Having the result wrapped in the `Project` instance conforms to good API design practices and we can provide guidenance not only on locked dependencies, but also on direct dependencies and additional configuration as provided in appropriate files (`Pipfile` in this case).\n",
    "\n",
    "You can try generated stack by placing `Pipfile` and `Pipfile.lock` files into a directory [running a Flask application](https://github.com/thoth-station/thamos/blob/master/examples/lockdown/hello.py)."
   ]
  },
  {
   "cell_type": "code",
   "execution_count": 13,
   "metadata": {},
   "outputs": [
    {
     "name": "stdout",
     "output_type": "stream",
     "text": [
      "[packages]\n",
      "daiquiri = \"*\"\n",
      "flask = \"<=0.12.4\"\n",
      "\n",
      "[dev-packages]\n",
      "\n",
      "[[source]]\n",
      "url = \"https://pypi.org/simple\"\n",
      "verify_ssl = true\n",
      "name = \"pypi-org\"\n",
      "\n",
      "[requires]\n",
      "python_version = \"3.6\"\n",
      "\n",
      "\n"
     ]
    }
   ],
   "source": [
    "# Pipfile\n",
    "\n",
    "print(project.pipfile.to_string())"
   ]
  },
  {
   "cell_type": "code",
   "execution_count": 14,
   "metadata": {},
   "outputs": [
    {
     "name": "stdout",
     "output_type": "stream",
     "text": [
      "{\n",
      "    \"_meta\": {\n",
      "        \"hash\": {\n",
      "            \"sha256\": \"09e4195b3fc6e06bd5ba3a9a641b6bd3e3b036256850507e18e37aaf7294f148\"\n",
      "        },\n",
      "        \"pipfile-spec\": 6,\n",
      "        \"requires\": {\n",
      "            \"python_version\": \"3.6\"\n",
      "        },\n",
      "        \"sources\": [\n",
      "            {\n",
      "                \"name\": \"pypi-org\",\n",
      "                \"url\": \"https://pypi.org/simple\",\n",
      "                \"verify_ssl\": true\n",
      "            }\n",
      "        ]\n",
      "    },\n",
      "    \"default\": {\n",
      "        \"click\": {\n",
      "            \"hashes\": [\n",
      "                \"sha256:5b94b49521f6456670fdb30cd82a4eca9412788a93fa6dd6df72c94d5a8ff2d7\",\n",
      "                \"sha256:2335065e6395b9e67ca716de5f7526736bfa6ceead690adf616d925bdc622b13\"\n",
      "            ],\n",
      "            \"index\": \"pypi-org\",\n",
      "            \"version\": \"==7.0\"\n",
      "        },\n",
      "        \"daiquiri\": {\n",
      "            \"hashes\": [\n",
      "                \"sha256:8832f28e110165b905993b4bdab638a3c245f5671d5976f226f2628e7d2e7862\",\n",
      "                \"sha256:ac0e69ac0a8c4ceabcf57f14ba4dc7b5940dc2bf9d1ee620d2ae9fa8f78c7891\"\n",
      "            ],\n",
      "            \"index\": \"pypi-org\",\n",
      "            \"version\": \"==1.5.0\"\n",
      "        },\n",
      "        \"flask\": {\n",
      "            \"hashes\": [\n",
      "                \"sha256:2ea22336f6d388b4b242bc3abf8a01244a8aa3e236e7407469ef78c16ba355dd\",\n",
      "                \"sha256:6c02dbaa5a9ef790d8219bdced392e2d549c10cd5a5ba4b6aa65126b2271af29\"\n",
      "            ],\n",
      "            \"index\": \"pypi-org\",\n",
      "            \"version\": \"==0.12.4\"\n",
      "        },\n",
      "        \"itsdangerous\": {\n",
      "            \"hashes\": [\n",
      "                \"sha256:321b033d07f2a4136d3ec762eac9f16a10ccd60f53c0c91af90217ace7ba1f19\",\n",
      "                \"sha256:b12271b2047cb23eeb98c8b5622e2e5c5e9abd9784a153e9d8ef9cb4dd09d749\"\n",
      "            ],\n",
      "            \"index\": \"pypi-org\",\n",
      "            \"version\": \"==1.1.0\"\n",
      "        },\n",
      "        \"jinja2\": {\n",
      "            \"hashes\": [\n",
      "                \"sha256:74c935a1b8bb9a3947c50a54766a969d4846290e1e788ea44c1392163723c3bd\",\n",
      "                \"sha256:f84be1bb0040caca4cea721fcbbbbd61f9be9464ca236387158b0feea01914a4\"\n",
      "            ],\n",
      "            \"index\": \"pypi-org\",\n",
      "            \"version\": \"==2.10\"\n",
      "        },\n",
      "        \"markupsafe\": {\n",
      "            \"hashes\": [\n",
      "                \"sha256:09027a7803a62ca78792ad89403b1b7a73a01c8cb65909cd876f7fcebd79b161\",\n",
      "                \"sha256:09c4b7f37d6c648cb13f9230d847adf22f8171b1ccc4d5682398e77f40309235\",\n",
      "                \"sha256:79855e1c5b8da654cf486b830bd42c06e8780cea587384cf6545b7d9ac013a0b\",\n",
      "                \"sha256:7c1699dfe0cf8ff607dbdcc1e9b9af1755371f92a68f706051cc8c37d447c905\",\n",
      "                \"sha256:00bc623926325b26bb9605ae9eae8a215691f33cae5df11ca5424f06f2d1f473\",\n",
      "                \"sha256:88e5fcfb52ee7b911e8bb6d6aa2fd21fbecc674eadd44118a9cc3863f938e735\",\n",
      "                \"sha256:9add70b36c5666a2ed02b43b335fe19002ee5235efd4b8a89bfcf9005bebac0d\",\n",
      "                \"sha256:cd5df75523866410809ca100dc9681e301e3c27567cf498077e8551b6d20e42f\",\n",
      "                \"sha256:24982cc2533820871eba85ba648cd53d8623687ff11cbb805be4ff7b4c971aff\",\n",
      "                \"sha256:29872e92839765e546828bb7754a68c418d927cd064fd4708fab9fe9c8bb116b\",\n",
      "                \"sha256:98c7086708b163d425c67c7a91bad6e466bb99d797aa64f965e9d25c12111a5e\",\n",
      "                \"sha256:6dd73240d2af64df90aa7c4e7481e23825ea70af4b4922f8ede5b9e35f78a3b1\",\n",
      "                \"sha256:1027c282dad077d0bae18be6794e6b6b8c91d58ed8a8d89a89d59693b9131db5\",\n",
      "                \"sha256:535f6fc4d397c1563d08b88e485c3496cf5784e927af890fb3c3aac7f933ec66\",\n",
      "                \"sha256:43a55c2930bbc139570ac2452adf3d70cdbb3cfe5912c71cdce1c2c6bbd9c5d1\",\n",
      "                \"sha256:c8716a48d94b06bb3b2524c2b77e055fb313aeb4ea620c8dd03a105574ba704f\",\n",
      "                \"sha256:8defac2f2ccd6805ebf65f5eeb132adcf2ab57aa11fdf4c0dd5169a004710e7d\",\n",
      "                \"sha256:46c99d2de99945ec5cb54f23c8cd5689f6d7177305ebff350a58ce5f8de1669e\",\n",
      "                \"sha256:ba59edeaa2fc6114428f1637ffff42da1e311e29382d81b339c1817d37ec93c6\",\n",
      "                \"sha256:b00c1de48212e4cc9603895652c5c410df699856a2853135b3967591e4beebc2\",\n",
      "                \"sha256:b2051432115498d3562c084a49bba65d97cf251f5a331c64a12ee7e04dacc51b\",\n",
      "                \"sha256:ade5e387d2ad0d7ebf59146cc00c8044acbd863725f887353a10df825fc8ae21\",\n",
      "                \"sha256:500d4957e52ddc3351cabf489e79c91c17f6e0899158447047588650b5e69183\",\n",
      "                \"sha256:b1282f8c00509d99fef04d8ba936b156d419be841854fe901d8ae224c59f0be5\",\n",
      "                \"sha256:62fe6c95e3ec8a7fad637b7f3d372c15ec1caa01ab47926cfdf7a75b40e0eac1\",\n",
      "                \"sha256:e249096428b3ae81b08327a63a485ad0878de3fb939049038579ac0ef61e17e7\",\n",
      "                \"sha256:717ba8fe3ae9cc0006d7c451f0bb265ee07739daf76355d06366154ee68d221e\",\n",
      "                \"sha256:9bf40443012702a1d2070043cb6291650a0841ece432556f784f004937f0f32c\"\n",
      "            ],\n",
      "            \"index\": \"pypi-org\",\n",
      "            \"version\": \"==1.1.1\"\n",
      "        },\n",
      "        \"werkzeug\": {\n",
      "            \"hashes\": [\n",
      "                \"sha256:d5da73735293558eb1651ee2fddc4d0dedcfa06538b8813a2e20011583c9e49b\",\n",
      "                \"sha256:c3fd7a7d41976d9f44db327260e263132466836cef6f91512889ed60ad26557c\"\n",
      "            ],\n",
      "            \"index\": \"pypi-org\",\n",
      "            \"version\": \"==0.14.1\"\n",
      "        }\n",
      "    },\n",
      "    \"develop\": {}\n",
      "}\n",
      "\n"
     ]
    }
   ],
   "source": [
    "# Pipfile.lock\n",
    "\n",
    "print(project.pipfile_lock.to_string())"
   ]
  },
  {
   "cell_type": "markdown",
   "metadata": {},
   "source": [
    "Now, let's print our justification - score of stack and stack number. Thoth generates stacks from the latest first (at least tries to do that, this is not easy to accomplish given the computation restrictions we have so a simple heuristic is used). "
   ]
  },
  {
   "cell_type": "code",
   "execution_count": 15,
   "metadata": {},
   "outputs": [
    {
     "data": {
      "text/plain": [
       "[{'Latest stack': 1}, {'score': 1.0}]"
      ]
     },
     "execution_count": 15,
     "metadata": {},
     "output_type": "execute_result"
    }
   ],
   "source": [
    "report[0][0]"
   ]
  },
  {
   "cell_type": "markdown",
   "metadata": {},
   "source": [
    "Feel free to experiment with additional configuration options, e.g.:"
   ]
  },
  {
   "cell_type": "code",
   "execution_count": 16,
   "metadata": {},
   "outputs": [
    {
     "data": {
      "text/plain": [
       "['STABLE', 'TESTING', 'LATEST']"
      ]
     },
     "execution_count": 16,
     "metadata": {},
     "output_type": "execute_result"
    }
   ],
   "source": [
    "# Set recommendation type to one of the following:\n",
    "\n",
    "[e.name for e in RecommendationType]"
   ]
  },
  {
   "cell_type": "code",
   "execution_count": 17,
   "metadata": {},
   "outputs": [
    {
     "data": {
      "text/plain": [
       "{'hardware': {'cpu_family': None, 'cpu_model': None},\n",
       " 'operating_system': {'name': None, 'version': None},\n",
       " 'python_version': None,\n",
       " 'cuda_version': None,\n",
       " 'name': None}"
      ]
     },
     "execution_count": 17,
     "metadata": {},
     "output_type": "execute_result"
    }
   ],
   "source": [
    "# Adjust runtime specific information (e.g. provide CPU, CUDA information, ...)\n",
    "\n",
    "RuntimeEnvironment.from_dict({}).to_dict(without_none=False)"
   ]
  },
  {
   "cell_type": "code",
   "execution_count": 18,
   "metadata": {},
   "outputs": [
    {
     "data": {
      "text/plain": [
       "{'requirements': {'packages': {'daiquiri': '*', 'flask': '*'},\n",
       "  'dev-packages': {},\n",
       "  'source': [{'url': 'https://pypi.org/simple',\n",
       "    'verify_ssl': True,\n",
       "    'name': 'pypi'}],\n",
       "  'requires': {'python_version': '3.6'}},\n",
       " 'requirements_locked': None}"
      ]
     },
     "execution_count": 18,
     "metadata": {},
     "output_type": "execute_result"
    }
   ],
   "source": [
    "# Adjust version ranges of Python packages being installed. These versions are resolved using\n",
    "# pip's internal algorithm, so anything which is compatible with PEP-440 (and Pipfile compatible\n",
    "# for Pipfile inputs) works out of box. Note this resolution is not done by installing\n",
    "# dependencies (as in case of Pip/Pipenv), but there is implemented resolver on top of\n",
    "# graph database which can resolve dependencies much faster as all the data are pre-computed.\n",
    "\n",
    "PIPFILE_STR = \"\"\"\n",
    "\n",
    "[[source]]\n",
    "url = \"https://pypi.org/simple\"\n",
    "verify_ssl = true\n",
    "name = \"pypi\"\n",
    "\n",
    "[packages]\n",
    "daiquiri = \"*\"\n",
    "# Any flask version:\n",
    "flask = \"*\"\n",
    "\n",
    "[requires]\n",
    "python_version = \"3.6\"\n",
    "\"\"\"\n",
    "\n",
    "Project.from_strings(PIPFILE_STR).to_dict()\n",
    "\n",
    "# Mind dependencies resolved in solver run, unknown dependencies to Thoth, obviusly, cannot be resolved by Thoth."
   ]
  },
  {
   "cell_type": "markdown",
   "metadata": {},
   "source": [
    "Parameter `count` limits number of stacks provided in the output, parameter `limit` limits numbef of stacks scored in total.\n",
    "\n",
    "All of the above can be accomplished using Thamos CLI (as the above is more in-depth description what Thoth does on lower level). From user's perspective a user just installs `Thamos`, adjusts configuration via `thamos config` (automatic discovery of available hardware is performed) and issues `thamos advise`. All of the above is transparent to the user, the report is shown in a well formatted table. Follow the follwing instructions to make this happen:\n",
    "\n",
    "```\n",
    "pip3 install thamos\n",
    "cd my-project/\n",
    "thamos config  # Fill in desired values.\n",
    "thamos advise  # Wait for backend to compute results for your request.\n",
    "```\n",
    "\n",
    "There is prepared a demo for you to accomplish what is stated in this notebook but with Thamos CLI, just run the following commands:\n",
    "\n",
    "```\n",
    "git clone https://github.com/thoth-station/thamos.git\n",
    "cd thamos/examples/runtime-environment/\n",
    "ls -a  # See .thoth.yaml configuration file\n",
    "cat .thoth.yaml Pipfile\n",
    "thamos advise\n",
    "\n",
    "# Verify the recommended stack works:\n",
    "pipenv install\n",
    "FLASK_APP=hello.py pipenv run flask run\n",
    "```"
   ]
  },
  {
   "cell_type": "markdown",
   "metadata": {},
   "source": [
    "Happy hacking! ;-)"
   ]
  }
 ],
 "metadata": {
  "hide_input": false,
  "kernelspec": {
   "display_name": "Python 3",
   "language": "python",
   "name": "python3"
  },
  "language_info": {
   "codemirror_mode": {
    "name": "ipython",
    "version": 3
   },
   "file_extension": ".py",
   "mimetype": "text/x-python",
   "name": "python",
   "nbconvert_exporter": "python",
   "pygments_lexer": "ipython3",
   "version": "3.6.8"
  },
  "varInspector": {
   "cols": {
    "lenName": 16,
    "lenType": 16,
    "lenVar": 40
   },
   "kernels_config": {
    "python": {
     "delete_cmd_postfix": "",
     "delete_cmd_prefix": "del ",
     "library": "var_list.py",
     "varRefreshCmd": "print(var_dic_list())"
    },
    "r": {
     "delete_cmd_postfix": ") ",
     "delete_cmd_prefix": "rm(",
     "library": "var_list.r",
     "varRefreshCmd": "cat(var_dic_list()) "
    }
   },
   "types_to_exclude": [
    "module",
    "function",
    "builtin_function_or_method",
    "instance",
    "_Feature"
   ],
   "window_display": false
  }
 },
 "nbformat": 4,
 "nbformat_minor": 2
}
