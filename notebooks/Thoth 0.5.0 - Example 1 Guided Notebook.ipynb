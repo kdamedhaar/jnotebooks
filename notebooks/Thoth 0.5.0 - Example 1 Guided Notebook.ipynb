{
 "cells": [
  {
   "cell_type": "markdown",
   "metadata": {},
   "source": [
    "# Thoth 0.5.0 - Example 1 Guided Notebook"
   ]
  },
  {
   "cell_type": "markdown",
   "metadata": {},
   "source": [
    "One of the basic tasks of a developer is to keep the application’s dependencies up to date. In the Python ecosystem tools like `pip` and `Pipenv` help with that task. As a best practice, lock files have emerged. These lock files lock the version of all dependencies (including transitive dependencies) to specific versions. The primary goal is to provide all information required for deterministic builds of the application.\n",
    "This use case is supported by Thoth’s command line tool [Thamos](https://pypi.org/project/thamos): Thamos will read an application’s Pipfile, submit it to Thoth’s API and based on the received result it will create a `Pipfile.lock`. The same goal can be achieved by using `pipenv lock`.\n",
    "\n",
    "See internal document for more info and clarification in [Google Docs](https://docs.google.com/document/d/1QflQpGXtOuHFFC2hkEFBlu0JmCQWEnXdgryvwxCNXpQ/edit#) - section \"Example 1\".\n",
    "\n",
    "This notebook is a supportive material for Thoth 0.5.0 release and use case stated above - it walks through the first example scenario from within a Jupyter Notebook. The same can be accomplished using `Thamos` CLI tool, as stated above, following instructions present at the bottom of this notebook."
   ]
  },
  {
   "cell_type": "markdown",
   "metadata": {},
   "source": [
    "In order to go through this scenario, we need first connect to a graph database instance. This notebook is playeble from within your computer, it inserts all the data into a provided JanusGraph instasnce, so select a graph database instance you would like to use. If you want to run this script purely on your local machine, setup your local graph database as [described in the README file of janusgraph-thoth-config repo](https://github.com/thoth-station/janusgraph-thoth-config#running-janusgraph-instance-locally). Ideally, just clone the repo and issue the following command to setup your local JanusGraph database instance:\n",
    "\n",
    "```\n",
    "sudo ./local.sh all\n",
    "```"
   ]
  },
  {
   "cell_type": "code",
   "execution_count": 1,
   "metadata": {
    "ExecuteTime": {
     "end_time": "2019-02-19T14:27:46.115546Z",
     "start_time": "2019-02-19T14:27:46.108633Z"
    }
   },
   "outputs": [],
   "source": [
    "# Configure JanusGraph instance to talk to:\n",
    "JANUSGRAPH_SERVICE_HOST = 'localhost'\n",
    "\n",
    "# For directly talking to test environment, uncomment the following line:\n",
    "#JANUSGRAPH_SERVICE_HOST = 'janusgraph.test.thoth-station.ninja'"
   ]
  },
  {
   "cell_type": "markdown",
   "metadata": {},
   "source": [
    "Now let's connect to desired JanusGraph database and check if we are properly connected:"
   ]
  },
  {
   "cell_type": "code",
   "execution_count": 2,
   "metadata": {
    "ExecuteTime": {
     "end_time": "2019-02-19T14:28:35.525376Z",
     "start_time": "2019-02-19T14:28:35.500350Z"
    }
   },
   "outputs": [
    {
     "data": {
      "text/plain": [
       "True"
      ]
     },
     "execution_count": 2,
     "metadata": {},
     "output_type": "execute_result"
    }
   ],
   "source": [
    "from thoth.storages import GraphDatabase\n",
    "\n",
    "# Instantiate and connect the JanusGraph database.\n",
    "graph = GraphDatabase.create(JANUSGRAPH_SERVICE_HOST)\n",
    "graph.connect()\n",
    "\n",
    "graph.is_connected()"
   ]
  },
  {
   "cell_type": "markdown",
   "metadata": {},
   "source": [
    "To let Thoth give you guidenance, there is a need to have some data precomputed. One of such data are solver results which resolve dependencies and observe whether packages are installable into a specific environment, what are dependencies of packages and how these dependencies are structured respecting transitive dependency graphs.\n",
    "\n",
    "There is [prepared a solver result in a form of a JSON](https://github.com/thoth-station/misc/tree/master/examples/lockdown). The solver is run in Thoth deployment based on monitored packages (packages used by users in images or explictly monitored packages by Thoth) and is something end-user does not interact with. Let's download it for our demo and store these observations into our graph database instance. "
   ]
  },
  {
   "cell_type": "code",
   "execution_count": 3,
   "metadata": {},
   "outputs": [],
   "source": [
    "import requests\n",
    "\n",
    "SOLVER_DOCUMENT_URL = 'https://raw.githubusercontent.com/thoth-station/misc/master/examples/lockdown/resolved.json'\n",
    "\n",
    "response = requests.get(SOLVER_DOCUMENT_URL)\n",
    "response.raise_for_status()\n",
    "solver_document = response.json()"
   ]
  },
  {
   "cell_type": "markdown",
   "metadata": {},
   "source": [
    "Let's check for which packages was the given solver run made:"
   ]
  },
  {
   "cell_type": "code",
   "execution_count": 4,
   "metadata": {},
   "outputs": [
    {
     "name": "stdout",
     "output_type": "stream",
     "text": [
      "daiquiri\n",
      "flask\n"
     ]
    }
   ],
   "source": [
    "print(solver_document[\"metadata\"][\"arguments\"][\"pypi\"][\"requirements\"].replace(\"\\\\n\", \"\\n\"))"
   ]
  },
  {
   "cell_type": "markdown",
   "metadata": {},
   "source": [
    "Also, do not forget that `Python` package resolution is dependent on environment (requirements can dynamically change based on `setup.py`/`setup.cfg` configuration). Let's check the environment for which resolution was done:"
   ]
  },
  {
   "cell_type": "code",
   "execution_count": 5,
   "metadata": {},
   "outputs": [
    {
     "data": {
      "text/plain": [
       "{'os_name': 'fedora', 'os_version': '29', 'python_version': '3.6'}"
      ]
     },
     "execution_count": 5,
     "metadata": {},
     "output_type": "execute_result"
    }
   ],
   "source": [
    "from  thoth.storages import SolverResultsStore\n",
    "\n",
    "document_id = SolverResultsStore.get_document_id(solver_document)\n",
    "solver_name = SolverResultsStore.get_solver_name_from_document_id(document_id)\n",
    "graph.parse_python_solver_name(solver_name)"
   ]
  },
  {
   "cell_type": "markdown",
   "metadata": {},
   "source": [
    "The above step is done internally in Thoth to obtain information about solver environment. Finally, let's sync solver results into graph database."
   ]
  },
  {
   "cell_type": "code",
   "execution_count": 6,
   "metadata": {},
   "outputs": [
    {
     "name": "stdout",
     "output_type": "stream",
     "text": [
      "CPU times: user 6.81 s, sys: 428 ms, total: 7.23 s\n",
      "Wall time: 18.3 s\n"
     ]
    }
   ],
   "source": [
    "%%time\n",
    "\n",
    "graph.sync_solver_result(solver_document)"
   ]
  },
  {
   "cell_type": "markdown",
   "metadata": {},
   "source": [
    "As a next step, we will obtain `Pipfile` from Thamos repo with examples. In this case we have just `Pipfile`, the `Pipfile.lock` file will be generated at the bottom of this notebook by Thoth respecting environment and observations Thoth internally has to provide stack guidenance."
   ]
  },
  {
   "cell_type": "code",
   "execution_count": 7,
   "metadata": {},
   "outputs": [],
   "source": [
    "PIPFILE_URL = \"https://raw.githubusercontent.com/thoth-station/thamos/master/examples/lockdown/Pipfile\"\n",
    "\n",
    "response = requests.get(PIPFILE_URL)\n",
    "response.raise_for_status()\n",
    "pipfile_str = response.text"
   ]
  },
  {
   "cell_type": "markdown",
   "metadata": {},
   "source": [
    "The `Project` abstraction carries information about the project a user has. It wraps some additional logic to provide guidenance on project configuration as well as support for different package managers in future. This way we can transparently other managers such as `requirements.txt` or (better case) `pyproject.toml` as stated in [PEP-518](https://www.python.org/dev/peps/pep-0518/)."
   ]
  },
  {
   "cell_type": "code",
   "execution_count": 8,
   "metadata": {},
   "outputs": [
    {
     "data": {
      "text/plain": [
       "{'requirements': {'packages': {'daiquiri': '*', 'flask': '<=0.12.4'},\n",
       "  'dev-packages': {},\n",
       "  'source': [{'url': 'https://pypi.org/simple',\n",
       "    'verify_ssl': True,\n",
       "    'name': 'pypi'}],\n",
       "  'requires': {'python_version': '3.6'}},\n",
       " 'requirements_locked': None}"
      ]
     },
     "execution_count": 8,
     "metadata": {},
     "output_type": "execute_result"
    }
   ],
   "source": [
    "from thoth.python import Project\n",
    "\n",
    "project = Project.from_strings(pipfile_str)\n",
    "project.to_dict()"
   ]
  },
  {
   "cell_type": "markdown",
   "metadata": {},
   "source": [
    "The next input for Thoth are information about environment - if they are omitted, there is done generic resolution as in case of `Pipenv` for example. If this configuration is additionally supplied, Thoth can provide additional guidenance on software stack for the given runtime environment. For example pick software stacks with great performance for CUDA or specific CPU a user uses. This configuration is part of `.thoth.yaml` file (configuration for Thoth and Thamos inside user's repositories). Let's download it and use it interactively from within this notebook:"
   ]
  },
  {
   "cell_type": "code",
   "execution_count": 9,
   "metadata": {},
   "outputs": [
    {
     "data": {
      "text/plain": [
       "{'host': 'test.thoth-station.ninja',\n",
       " 'tls_verify': False,\n",
       " 'requirements_format': 'pipenv',\n",
       " 'runtime_environments': [{'name': 'fedora:29',\n",
       "   'recommendation_type': 'latest',\n",
       "   'operating_system': {'name': 'fedora', 'version': '29'}}]}"
      ]
     },
     "execution_count": 9,
     "metadata": {},
     "output_type": "execute_result"
    }
   ],
   "source": [
    "import yaml\n",
    "\n",
    "THOTH_YAML_URL = \"https://raw.githubusercontent.com/thoth-station/thamos/master/examples/lockdown/.thoth.yaml\"\n",
    "\n",
    "response = requests.get(THOTH_YAML_URL)\n",
    "response.raise_for_status()\n",
    "config_content = yaml.load(response.text)\n",
    "\n",
    "config_content"
   ]
  },
  {
   "cell_type": "markdown",
   "metadata": {},
   "source": [
    "Now, let's transfer this runtime environment configuration to Thoth's internal structures which provide addional checks and report any issues with user's configuration if any. We will stick with the first runtime environment stated in the configuration file (there is one stated anyway)."
   ]
  },
  {
   "cell_type": "code",
   "execution_count": 10,
   "metadata": {},
   "outputs": [
    {
     "name": "stderr",
     "output_type": "stream",
     "text": [
      "Unknown configuration entry in the configuration file recommendation_type with value latest\n"
     ]
    }
   ],
   "source": [
    "from thoth.common import RuntimeEnvironment\n",
    "\n",
    "runtime_environment = RuntimeEnvironment.from_dict(config_content[\"runtime_environments\"][0])"
   ]
  },
  {
   "cell_type": "markdown",
   "metadata": {},
   "source": [
    "The warning reported can be omitted. The `recommendation_type` configuration option in the configuration file is used in Thamos to override default `recommendation_type` if needed (for a specific runtime environment entry).\n",
    "\n",
    "Finally, let's compute some advises:"
   ]
  },
  {
   "cell_type": "code",
   "execution_count": 11,
   "metadata": {},
   "outputs": [
    {
     "name": "stdout",
     "output_type": "stream",
     "text": [
      "env: THOTH_ADVISER_SHOW_PACKAGES=1\n"
     ]
    },
    {
     "name": "stderr",
     "output_type": "stream",
     "text": [
      "2019-03-06 10:40:09,880 [18482] INFO     root:126: Logging to a Sentry instance is turned off\n",
      "2019-03-06 10:40:09,881 [18482] INFO     root:148: Logging to rsyslog endpoint is turned off\n",
      "2019-03-06 10:40:09,898 [18482] INFO     thoth.adviser.python.scoring:60: Using scoring function that will generate latest stacks\n",
      "2019-03-06 10:40:09,899 [18482] INFO     thoth.adviser.python.dependency_graph:375: Parsing and solving direct dependencies of the requested project\n",
      "2019-03-06 10:40:09,901 [18482] INFO     thoth.solver.python.python_solver:113: Parsing dependency 'daiquiri'\n",
      "2019-03-06 10:40:09,964 [18482] INFO     thoth.solver.python.python_solver:113: Parsing dependency 'flask<=0.12.4'\n",
      "2019-03-06 10:40:10,008 [18482] INFO     thoth.adviser.python.dependency_graph:390: Retrieving transitive dependencies of direct dependencies\n",
      "2019-03-06 10:40:12,054 [18482] INFO     thoth.adviser.python.dependency_graph:498: Cutting off unwanted dependencies\n",
      "2019-03-06 10:40:12,259 [18482] INFO     thoth.adviser.python.dependency_graph:508: Creating dependency graph\n",
      "2019-03-06 10:40:12,260 [18482] INFO     thoth.adviser.python.dependency_graph:631: Computing possible stack candidates, estimated stacks count: 761035500\n",
      "2019-03-06 10:40:12,261 [18482] INFO     thoth.adviser.python.dependency_graph:537: Package 'daiquiri': 18\n",
      "2019-03-06 10:40:12,261 [18482] INFO     thoth.adviser.python.dependency_graph:549: \t'0.0.0' from https://pypi.org/simple\n",
      "2019-03-06 10:40:12,262 [18482] INFO     thoth.adviser.python.dependency_graph:549: \t'0.0.1' from https://pypi.org/simple\n",
      "2019-03-06 10:40:12,262 [18482] INFO     thoth.adviser.python.dependency_graph:549: \t'0.0.2' from https://pypi.org/simple\n",
      "2019-03-06 10:40:12,263 [18482] INFO     thoth.adviser.python.dependency_graph:549: \t'0.0.4' from https://pypi.org/simple\n",
      "2019-03-06 10:40:12,264 [18482] INFO     thoth.adviser.python.dependency_graph:549: \t'0.1.0' from https://pypi.org/simple\n",
      "2019-03-06 10:40:12,264 [18482] INFO     thoth.adviser.python.dependency_graph:549: \t'0.1.1' from https://pypi.org/simple\n",
      "2019-03-06 10:40:12,264 [18482] INFO     thoth.adviser.python.dependency_graph:549: \t'1.0.0' from https://pypi.org/simple\n",
      "2019-03-06 10:40:12,265 [18482] INFO     thoth.adviser.python.dependency_graph:549: \t'1.0.1' from https://pypi.org/simple\n",
      "2019-03-06 10:40:12,265 [18482] INFO     thoth.adviser.python.dependency_graph:549: \t'1.1.0' from https://pypi.org/simple\n",
      "2019-03-06 10:40:12,266 [18482] INFO     thoth.adviser.python.dependency_graph:549: \t'1.2.0' from https://pypi.org/simple\n",
      "2019-03-06 10:40:12,266 [18482] INFO     thoth.adviser.python.dependency_graph:549: \t'1.2.1' from https://pypi.org/simple\n",
      "2019-03-06 10:40:12,267 [18482] INFO     thoth.adviser.python.dependency_graph:549: \t'1.2.2' from https://pypi.org/simple\n",
      "2019-03-06 10:40:12,267 [18482] INFO     thoth.adviser.python.dependency_graph:549: \t'1.3.0' from https://pypi.org/simple\n",
      "2019-03-06 10:40:12,271 [18482] INFO     thoth.adviser.python.dependency_graph:549: \t'1.3.1.dev7' from https://pypi.org/simple\n",
      "2019-03-06 10:40:12,273 [18482] INFO     thoth.adviser.python.dependency_graph:549: \t'1.3.1.dev5' from https://pypi.org/simple\n",
      "2019-03-06 10:40:12,273 [18482] INFO     thoth.adviser.python.dependency_graph:549: \t'1.3.1.dev1' from https://pypi.org/simple\n",
      "2019-03-06 10:40:12,274 [18482] INFO     thoth.adviser.python.dependency_graph:549: \t'1.4.0' from https://pypi.org/simple\n",
      "2019-03-06 10:40:12,276 [18482] INFO     thoth.adviser.python.dependency_graph:549: \t'1.5.0' from https://pypi.org/simple\n",
      "2019-03-06 10:40:12,277 [18482] INFO     thoth.adviser.python.dependency_graph:537: Package 'flask': 19\n",
      "2019-03-06 10:40:12,277 [18482] INFO     thoth.adviser.python.dependency_graph:549: \t'0.1' from https://pypi.org/simple\n",
      "2019-03-06 10:40:12,280 [18482] INFO     thoth.adviser.python.dependency_graph:549: \t'0.2' from https://pypi.org/simple\n",
      "2019-03-06 10:40:12,283 [18482] INFO     thoth.adviser.python.dependency_graph:549: \t'0.3' from https://pypi.org/simple\n",
      "2019-03-06 10:40:12,286 [18482] INFO     thoth.adviser.python.dependency_graph:549: \t'0.3.1' from https://pypi.org/simple\n",
      "2019-03-06 10:40:12,288 [18482] INFO     thoth.adviser.python.dependency_graph:549: \t'0.4' from https://pypi.org/simple\n",
      "2019-03-06 10:40:12,289 [18482] INFO     thoth.adviser.python.dependency_graph:549: \t'0.5' from https://pypi.org/simple\n",
      "2019-03-06 10:40:12,290 [18482] INFO     thoth.adviser.python.dependency_graph:549: \t'0.5.1' from https://pypi.org/simple\n",
      "2019-03-06 10:40:12,291 [18482] INFO     thoth.adviser.python.dependency_graph:549: \t'0.5.2' from https://pypi.org/simple\n",
      "2019-03-06 10:40:12,291 [18482] INFO     thoth.adviser.python.dependency_graph:549: \t'0.6' from https://pypi.org/simple\n",
      "2019-03-06 10:40:12,294 [18482] INFO     thoth.adviser.python.dependency_graph:549: \t'0.6.1' from https://pypi.org/simple\n",
      "2019-03-06 10:40:12,295 [18482] INFO     thoth.adviser.python.dependency_graph:549: \t'0.10' from https://pypi.org/simple\n",
      "2019-03-06 10:40:12,295 [18482] INFO     thoth.adviser.python.dependency_graph:549: \t'0.10.1' from https://pypi.org/simple\n",
      "2019-03-06 10:40:12,297 [18482] INFO     thoth.adviser.python.dependency_graph:549: \t'0.11' from https://pypi.org/simple\n",
      "2019-03-06 10:40:12,298 [18482] INFO     thoth.adviser.python.dependency_graph:549: \t'0.11.1' from https://pypi.org/simple\n",
      "2019-03-06 10:40:12,299 [18482] INFO     thoth.adviser.python.dependency_graph:549: \t'0.12' from https://pypi.org/simple\n",
      "2019-03-06 10:40:12,299 [18482] INFO     thoth.adviser.python.dependency_graph:549: \t'0.12.1' from https://pypi.org/simple\n",
      "2019-03-06 10:40:12,300 [18482] INFO     thoth.adviser.python.dependency_graph:549: \t'0.12.2' from https://pypi.org/simple\n",
      "2019-03-06 10:40:12,302 [18482] INFO     thoth.adviser.python.dependency_graph:549: \t'0.12.3' from https://pypi.org/simple\n",
      "2019-03-06 10:40:12,303 [18482] INFO     thoth.adviser.python.dependency_graph:549: \t'0.12.4' from https://pypi.org/simple\n",
      "2019-03-06 10:40:12,303 [18482] INFO     thoth.adviser.python.dependency_graph:537: Package 'jinja2': 23\n",
      "2019-03-06 10:40:12,305 [18482] INFO     thoth.adviser.python.dependency_graph:549: \t'2.8' from https://pypi.org/simple\n",
      "2019-03-06 10:40:12,306 [18482] INFO     thoth.adviser.python.dependency_graph:549: \t'2.7.1' from https://pypi.org/simple\n",
      "2019-03-06 10:40:12,307 [18482] INFO     thoth.adviser.python.dependency_graph:549: \t'2.9.3' from https://pypi.org/simple\n",
      "2019-03-06 10:40:12,309 [18482] INFO     thoth.adviser.python.dependency_graph:549: \t'2.9' from https://pypi.org/simple\n",
      "2019-03-06 10:40:12,312 [18482] INFO     thoth.adviser.python.dependency_graph:549: \t'2.7.3' from https://pypi.org/simple\n",
      "2019-03-06 10:40:12,313 [18482] INFO     thoth.adviser.python.dependency_graph:549: \t'2.10' from https://pypi.org/simple\n",
      "2019-03-06 10:40:12,314 [18482] INFO     thoth.adviser.python.dependency_graph:549: \t'2.8.1' from https://pypi.org/simple\n",
      "2019-03-06 10:40:12,315 [18482] INFO     thoth.adviser.python.dependency_graph:549: \t'2.9.6' from https://pypi.org/simple\n",
      "2019-03-06 10:40:12,315 [18482] INFO     thoth.adviser.python.dependency_graph:549: \t'2.7.2' from https://pypi.org/simple\n",
      "2019-03-06 10:40:12,316 [18482] INFO     thoth.adviser.python.dependency_graph:549: \t'2.9.2' from https://pypi.org/simple\n",
      "2019-03-06 10:40:12,317 [18482] INFO     thoth.adviser.python.dependency_graph:549: \t'2.5.4' from https://pypi.org/simple\n",
      "2019-03-06 10:40:12,317 [18482] INFO     thoth.adviser.python.dependency_graph:549: \t'2.7' from https://pypi.org/simple\n",
      "2019-03-06 10:40:12,318 [18482] INFO     thoth.adviser.python.dependency_graph:549: \t'2.9.5' from https://pypi.org/simple\n",
      "2019-03-06 10:40:12,318 [18482] INFO     thoth.adviser.python.dependency_graph:549: \t'2.9.1' from https://pypi.org/simple\n",
      "2019-03-06 10:40:12,319 [18482] INFO     thoth.adviser.python.dependency_graph:549: \t'2.5.2' from https://pypi.org/simple\n",
      "2019-03-06 10:40:12,320 [18482] INFO     thoth.adviser.python.dependency_graph:549: \t'2.4.1' from https://pypi.org/simple\n",
      "2019-03-06 10:40:12,320 [18482] INFO     thoth.adviser.python.dependency_graph:549: \t'2.9.4' from https://pypi.org/simple\n",
      "2019-03-06 10:40:12,321 [18482] INFO     thoth.adviser.python.dependency_graph:549: \t'2.5.5' from https://pypi.org/simple\n"
     ]
    },
    {
     "name": "stderr",
     "output_type": "stream",
     "text": [
      "2019-03-06 10:40:12,321 [18482] INFO     thoth.adviser.python.dependency_graph:549: \t'2.5.3' from https://pypi.org/simple\n",
      "2019-03-06 10:40:12,322 [18482] INFO     thoth.adviser.python.dependency_graph:549: \t'2.5' from https://pypi.org/simple\n",
      "2019-03-06 10:40:12,323 [18482] INFO     thoth.adviser.python.dependency_graph:549: \t'2.4' from https://pypi.org/simple\n",
      "2019-03-06 10:40:12,323 [18482] INFO     thoth.adviser.python.dependency_graph:549: \t'2.5.1' from https://pypi.org/simple\n",
      "2019-03-06 10:40:12,324 [18482] INFO     thoth.adviser.python.dependency_graph:549: \t'2.6' from https://pypi.org/simple\n",
      "2019-03-06 10:40:12,324 [18482] INFO     thoth.adviser.python.dependency_graph:537: Package 'markupsafe': 18\n",
      "2019-03-06 10:40:12,325 [18482] INFO     thoth.adviser.python.dependency_graph:549: \t'1.1.1' from https://pypi.org/simple\n",
      "2019-03-06 10:40:12,325 [18482] INFO     thoth.adviser.python.dependency_graph:549: \t'0.21' from https://pypi.org/simple\n",
      "2019-03-06 10:40:12,326 [18482] INFO     thoth.adviser.python.dependency_graph:549: \t'0.23' from https://pypi.org/simple\n",
      "2019-03-06 10:40:12,326 [18482] INFO     thoth.adviser.python.dependency_graph:549: \t'1.0' from https://pypi.org/simple\n",
      "2019-03-06 10:40:12,327 [18482] INFO     thoth.adviser.python.dependency_graph:549: \t'0.13' from https://pypi.org/simple\n",
      "2019-03-06 10:40:12,327 [18482] INFO     thoth.adviser.python.dependency_graph:549: \t'0.18' from https://pypi.org/simple\n",
      "2019-03-06 10:40:12,328 [18482] INFO     thoth.adviser.python.dependency_graph:549: \t'0.22' from https://pypi.org/simple\n",
      "2019-03-06 10:40:12,329 [18482] INFO     thoth.adviser.python.dependency_graph:549: \t'0.9.2' from https://pypi.org/simple\n",
      "2019-03-06 10:40:12,330 [18482] INFO     thoth.adviser.python.dependency_graph:549: \t'0.9.3' from https://pypi.org/simple\n",
      "2019-03-06 10:40:12,332 [18482] INFO     thoth.adviser.python.dependency_graph:549: \t'1.1.0' from https://pypi.org/simple\n",
      "2019-03-06 10:40:12,333 [18482] INFO     thoth.adviser.python.dependency_graph:549: \t'0.12' from https://pypi.org/simple\n",
      "2019-03-06 10:40:12,334 [18482] INFO     thoth.adviser.python.dependency_graph:549: \t'0.16' from https://pypi.org/simple\n",
      "2019-03-06 10:40:12,334 [18482] INFO     thoth.adviser.python.dependency_graph:549: \t'0.17' from https://pypi.org/simple\n",
      "2019-03-06 10:40:12,335 [18482] INFO     thoth.adviser.python.dependency_graph:549: \t'0.14' from https://pypi.org/simple\n",
      "2019-03-06 10:40:12,335 [18482] INFO     thoth.adviser.python.dependency_graph:549: \t'0.15' from https://pypi.org/simple\n",
      "2019-03-06 10:40:12,336 [18482] INFO     thoth.adviser.python.dependency_graph:549: \t'0.20' from https://pypi.org/simple\n",
      "2019-03-06 10:40:12,336 [18482] INFO     thoth.adviser.python.dependency_graph:549: \t'0.11' from https://pypi.org/simple\n",
      "2019-03-06 10:40:12,337 [18482] INFO     thoth.adviser.python.dependency_graph:549: \t'0.19' from https://pypi.org/simple\n",
      "2019-03-06 10:40:12,337 [18482] INFO     thoth.adviser.python.dependency_graph:537: Package 'werkzeug': 43\n",
      "2019-03-06 10:40:12,338 [18482] INFO     thoth.adviser.python.dependency_graph:549: \t'0.10.3' from https://pypi.org/simple\n",
      "2019-03-06 10:40:12,338 [18482] INFO     thoth.adviser.python.dependency_graph:549: \t'0.8' from https://pypi.org/simple\n",
      "2019-03-06 10:40:12,339 [18482] INFO     thoth.adviser.python.dependency_graph:549: \t'0.10.1' from https://pypi.org/simple\n",
      "2019-03-06 10:40:12,340 [18482] INFO     thoth.adviser.python.dependency_graph:549: \t'0.11.6' from https://pypi.org/simple\n",
      "2019-03-06 10:40:12,345 [18482] INFO     thoth.adviser.python.dependency_graph:549: \t'0.11.4' from https://pypi.org/simple\n",
      "2019-03-06 10:40:12,346 [18482] INFO     thoth.adviser.python.dependency_graph:549: \t'0.12' from https://pypi.org/simple\n",
      "2019-03-06 10:40:12,346 [18482] INFO     thoth.adviser.python.dependency_graph:549: \t'0.9.3' from https://pypi.org/simple\n",
      "2019-03-06 10:40:12,347 [18482] INFO     thoth.adviser.python.dependency_graph:549: \t'0.12.1' from https://pypi.org/simple\n",
      "2019-03-06 10:40:12,348 [18482] INFO     thoth.adviser.python.dependency_graph:549: \t'0.7' from https://pypi.org/simple\n",
      "2019-03-06 10:40:12,348 [18482] INFO     thoth.adviser.python.dependency_graph:549: \t'0.11.10' from https://pypi.org/simple\n",
      "2019-03-06 10:40:12,349 [18482] INFO     thoth.adviser.python.dependency_graph:549: \t'0.12.2' from https://pypi.org/simple\n",
      "2019-03-06 10:40:12,349 [18482] INFO     thoth.adviser.python.dependency_graph:549: \t'0.11.5' from https://pypi.org/simple\n",
      "2019-03-06 10:40:12,350 [18482] INFO     thoth.adviser.python.dependency_graph:549: \t'0.9.2' from https://pypi.org/simple\n",
      "2019-03-06 10:40:12,350 [18482] INFO     thoth.adviser.python.dependency_graph:549: \t'0.9' from https://pypi.org/simple\n",
      "2019-03-06 10:40:12,351 [18482] INFO     thoth.adviser.python.dependency_graph:549: \t'0.10.2' from https://pypi.org/simple\n",
      "2019-03-06 10:40:12,352 [18482] INFO     thoth.adviser.python.dependency_graph:549: \t'0.9.1' from https://pypi.org/simple\n",
      "2019-03-06 10:40:12,352 [18482] INFO     thoth.adviser.python.dependency_graph:549: \t'0.11.3' from https://pypi.org/simple\n",
      "2019-03-06 10:40:12,353 [18482] INFO     thoth.adviser.python.dependency_graph:549: \t'0.10.4' from https://pypi.org/simple\n",
      "2019-03-06 10:40:12,353 [18482] INFO     thoth.adviser.python.dependency_graph:549: \t'0.14' from https://pypi.org/simple\n",
      "2019-03-06 10:40:12,354 [18482] INFO     thoth.adviser.python.dependency_graph:549: \t'0.11.1' from https://pypi.org/simple\n",
      "2019-03-06 10:40:12,355 [18482] INFO     thoth.adviser.python.dependency_graph:549: \t'0.11.14' from https://pypi.org/simple\n",
      "2019-03-06 10:40:12,355 [18482] INFO     thoth.adviser.python.dependency_graph:549: \t'0.11.2' from https://pypi.org/simple\n",
      "2019-03-06 10:40:12,356 [18482] INFO     thoth.adviser.python.dependency_graph:549: \t'0.11.7' from https://pypi.org/simple\n",
      "2019-03-06 10:40:12,356 [18482] INFO     thoth.adviser.python.dependency_graph:549: \t'0.9.5' from https://pypi.org/simple\n",
      "2019-03-06 10:40:12,357 [18482] INFO     thoth.adviser.python.dependency_graph:549: \t'0.8.3' from https://pypi.org/simple\n",
      "2019-03-06 10:40:12,358 [18482] INFO     thoth.adviser.python.dependency_graph:549: \t'0.6.1' from https://pypi.org/simple\n",
      "2019-03-06 10:40:12,358 [18482] INFO     thoth.adviser.python.dependency_graph:549: \t'0.11.12' from https://pypi.org/simple\n",
      "2019-03-06 10:40:12,359 [18482] INFO     thoth.adviser.python.dependency_graph:549: \t'0.13' from https://pypi.org/simple\n",
      "2019-03-06 10:40:12,359 [18482] INFO     thoth.adviser.python.dependency_graph:549: \t'0.6.2' from https://pypi.org/simple\n",
      "2019-03-06 10:40:12,360 [18482] INFO     thoth.adviser.python.dependency_graph:549: \t'0.14.1' from https://pypi.org/simple\n",
      "2019-03-06 10:40:12,360 [18482] INFO     thoth.adviser.python.dependency_graph:549: \t'0.8.1' from https://pypi.org/simple\n",
      "2019-03-06 10:40:12,361 [18482] INFO     thoth.adviser.python.dependency_graph:549: \t'0.8.2' from https://pypi.org/simple\n",
      "2019-03-06 10:40:12,361 [18482] INFO     thoth.adviser.python.dependency_graph:549: \t'0.11' from https://pypi.org/simple\n",
      "2019-03-06 10:40:12,362 [18482] INFO     thoth.adviser.python.dependency_graph:549: \t'0.9.6' from https://pypi.org/simple\n",
      "2019-03-06 10:40:12,362 [18482] INFO     thoth.adviser.python.dependency_graph:549: \t'0.11.15' from https://pypi.org/simple\n",
      "2019-03-06 10:40:12,363 [18482] INFO     thoth.adviser.python.dependency_graph:549: \t'0.11.11' from https://pypi.org/simple\n",
      "2019-03-06 10:40:12,364 [18482] INFO     thoth.adviser.python.dependency_graph:549: \t'0.7.2' from https://pypi.org/simple\n",
      "2019-03-06 10:40:12,364 [18482] INFO     thoth.adviser.python.dependency_graph:549: \t'0.10' from https://pypi.org/simple\n",
      "2019-03-06 10:40:12,365 [18482] INFO     thoth.adviser.python.dependency_graph:549: \t'0.9.4' from https://pypi.org/simple\n",
      "2019-03-06 10:40:12,365 [18482] INFO     thoth.adviser.python.dependency_graph:549: \t'0.7.1' from https://pypi.org/simple\n",
      "2019-03-06 10:40:12,366 [18482] INFO     thoth.adviser.python.dependency_graph:549: \t'0.11.9' from https://pypi.org/simple\n",
      "2019-03-06 10:40:12,370 [18482] INFO     thoth.adviser.python.dependency_graph:549: \t'0.11.8' from https://pypi.org/simple\n",
      "2019-03-06 10:40:12,370 [18482] INFO     thoth.adviser.python.dependency_graph:549: \t'0.11.13' from https://pypi.org/simple\n"
     ]
    },
    {
     "name": "stderr",
     "output_type": "stream",
     "text": [
      "2019-03-06 10:40:12,371 [18482] INFO     thoth.adviser.python.dependency_graph:537: Package 'click': 25\n",
      "2019-03-06 10:40:12,371 [18482] INFO     thoth.adviser.python.dependency_graph:549: \t'6.3' from https://pypi.org/simple\n",
      "2019-03-06 10:40:12,372 [18482] INFO     thoth.adviser.python.dependency_graph:549: \t'6.2' from https://pypi.org/simple\n",
      "2019-03-06 10:40:12,372 [18482] INFO     thoth.adviser.python.dependency_graph:549: \t'5.0' from https://pypi.org/simple\n",
      "2019-03-06 10:40:12,373 [18482] INFO     thoth.adviser.python.dependency_graph:549: \t'7.0' from https://pypi.org/simple\n",
      "2019-03-06 10:40:12,373 [18482] INFO     thoth.adviser.python.dependency_graph:549: \t'6.4' from https://pypi.org/simple\n",
      "2019-03-06 10:40:12,374 [18482] INFO     thoth.adviser.python.dependency_graph:549: \t'4.1' from https://pypi.org/simple\n",
      "2019-03-06 10:40:12,374 [18482] INFO     thoth.adviser.python.dependency_graph:549: \t'2.4' from https://pypi.org/simple\n",
      "2019-03-06 10:40:12,375 [18482] INFO     thoth.adviser.python.dependency_graph:549: \t'2.0' from https://pypi.org/simple\n",
      "2019-03-06 10:40:12,375 [18482] INFO     thoth.adviser.python.dependency_graph:549: \t'3.1' from https://pypi.org/simple\n",
      "2019-03-06 10:40:12,376 [18482] INFO     thoth.adviser.python.dependency_graph:549: \t'6.1' from https://pypi.org/simple\n",
      "2019-03-06 10:40:12,376 [18482] INFO     thoth.adviser.python.dependency_graph:549: \t'2.6' from https://pypi.org/simple\n",
      "2019-03-06 10:40:12,377 [18482] INFO     thoth.adviser.python.dependency_graph:549: \t'2.5' from https://pypi.org/simple\n",
      "2019-03-06 10:40:12,377 [18482] INFO     thoth.adviser.python.dependency_graph:549: \t'3.0' from https://pypi.org/simple\n",
      "2019-03-06 10:40:12,378 [18482] INFO     thoth.adviser.python.dependency_graph:549: \t'6.7.dev0' from https://pypi.org/simple\n",
      "2019-03-06 10:40:12,378 [18482] INFO     thoth.adviser.python.dependency_graph:549: \t'2.3' from https://pypi.org/simple\n",
      "2019-03-06 10:40:12,379 [18482] INFO     thoth.adviser.python.dependency_graph:549: \t'3.2' from https://pypi.org/simple\n",
      "2019-03-06 10:40:12,379 [18482] INFO     thoth.adviser.python.dependency_graph:549: \t'6.5' from https://pypi.org/simple\n",
      "2019-03-06 10:40:12,380 [18482] INFO     thoth.adviser.python.dependency_graph:549: \t'4.0' from https://pypi.org/simple\n",
      "2019-03-06 10:40:12,380 [18482] INFO     thoth.adviser.python.dependency_graph:549: \t'3.3' from https://pypi.org/simple\n",
      "2019-03-06 10:40:12,381 [18482] INFO     thoth.adviser.python.dependency_graph:549: \t'6.6' from https://pypi.org/simple\n",
      "2019-03-06 10:40:12,382 [18482] INFO     thoth.adviser.python.dependency_graph:549: \t'2.1' from https://pypi.org/simple\n",
      "2019-03-06 10:40:12,382 [18482] INFO     thoth.adviser.python.dependency_graph:549: \t'6.7' from https://pypi.org/simple\n",
      "2019-03-06 10:40:12,382 [18482] INFO     thoth.adviser.python.dependency_graph:549: \t'5.1' from https://pypi.org/simple\n",
      "2019-03-06 10:40:12,383 [18482] INFO     thoth.adviser.python.dependency_graph:549: \t'2.2' from https://pypi.org/simple\n",
      "2019-03-06 10:40:12,383 [18482] INFO     thoth.adviser.python.dependency_graph:549: \t'6.0' from https://pypi.org/simple\n",
      "2019-03-06 10:40:12,384 [18482] INFO     thoth.adviser.python.dependency_graph:537: Package 'itsdangerous': 5\n",
      "2019-03-06 10:40:12,384 [18482] INFO     thoth.adviser.python.dependency_graph:549: \t'0.23' from https://pypi.org/simple\n",
      "2019-03-06 10:40:12,385 [18482] INFO     thoth.adviser.python.dependency_graph:549: \t'0.22' from https://pypi.org/simple\n",
      "2019-03-06 10:40:12,385 [18482] INFO     thoth.adviser.python.dependency_graph:549: \t'1.1.0' from https://pypi.org/simple\n",
      "2019-03-06 10:40:12,386 [18482] INFO     thoth.adviser.python.dependency_graph:549: \t'0.24' from https://pypi.org/simple\n",
      "2019-03-06 10:40:12,386 [18482] INFO     thoth.adviser.python.dependency_graph:549: \t'0.21' from https://pypi.org/simple\n",
      "2019-03-06 10:40:12,409 [18482] DEBUG    thoth.adviser.python.bin.dependency_graph:185: Reading from pipe, item size: 4\n",
      "2019-03-06 10:40:12,409 [18708] INFO     thoth.adviser.python.bin.dependency_graph:132: Starting stack producer from '/home/fpokorny/github.com/thoth-station/adviser/thoth/adviser/python/bin/libdependency_graph.so' library...\n",
      "2019-03-06 10:40:12,418 [18708] DEBUG    thoth.adviser.python.bin.dependency_graph:152: Calling dependency graph constructor\n",
      "2019-03-06 10:40:12,419 [18708] DEBUG    thoth.adviser.python.bin.dependency_graph:153: Dependencies list size: 1589\n",
      "2019-03-06 10:40:12,421 [18708] DEBUG    thoth.adviser.python.bin.dependency_graph:154: Number of direct dependencies: 37\n",
      "2019-03-06 10:40:12,422 [18708] DEBUG    thoth.adviser.python.bin.dependency_graph:155: Total number of packages considered: 151\n",
      "2019-03-06 10:40:12,425 [18708] DEBUG    thoth.adviser.python.bin.dependency_graph:165: Starting dependency graph walk...\n",
      "2019-03-06 10:40:12,774 [18482] DEBUG    thoth.adviser.python.bin.dependency_graph:195: Reached stack delimiter, yielding stack\n",
      "2019-03-06 10:40:12,775 [18482] INFO     thoth.adviser.python.dependency_graph:642: Found a new stack, asking decision function for inclusion\n",
      "2019-03-06 10:40:12,776 [18482] INFO     thoth.adviser.python.dependency_graph:648: Decision function included the computed stack - result was 1.0\n",
      "2019-03-06 10:40:12,778 [18482] INFO     thoth.adviser.python.advise:108: Reached graph traversal limit (1), stopping dependency graph traversal\n",
      "2019-03-06 10:40:12,780 [18482] INFO     thoth.adviser.python.advise:115: Scored 1 stacks in total\n",
      "2019-03-06 10:40:12,781 [18482] INFO     thoth.adviser.python.advise:122: Filling package digests to software stacks\n",
      "2019-03-06 10:40:12,781 [18482] INFO     thoth.adviser.python.helpers:84: Retrieving package digests from graph database for package 'daiquiri' in version '1.5.0' from index 'https://pypi.org/simple'\n",
      "2019-03-06 10:40:12,849 [18482] INFO     thoth.adviser.python.helpers:84: Retrieving package digests from graph database for package 'flask' in version '0.12.4' from index 'https://pypi.org/simple'\n",
      "2019-03-06 10:40:12,916 [18482] INFO     thoth.adviser.python.helpers:84: Retrieving package digests from graph database for package 'jinja2' in version '2.10' from index 'https://pypi.org/simple'\n",
      "2019-03-06 10:40:12,986 [18482] INFO     thoth.adviser.python.helpers:84: Retrieving package digests from graph database for package 'markupsafe' in version '1.1.1' from index 'https://pypi.org/simple'\n",
      "2019-03-06 10:40:13,053 [18482] INFO     thoth.adviser.python.helpers:84: Retrieving package digests from graph database for package 'werkzeug' in version '0.14.1' from index 'https://pypi.org/simple'\n",
      "2019-03-06 10:40:13,116 [18482] INFO     thoth.adviser.python.helpers:84: Retrieving package digests from graph database for package 'click' in version '7.0' from index 'https://pypi.org/simple'\n",
      "2019-03-06 10:40:13,176 [18482] INFO     thoth.adviser.python.helpers:84: Retrieving package digests from graph database for package 'itsdangerous' in version '1.1.0' from index 'https://pypi.org/simple'\n"
     ]
    },
    {
     "name": "stdout",
     "output_type": "stream",
     "text": [
      "CPU times: user 2.17 s, sys: 119 ms, total: 2.29 s\n",
      "Wall time: 3.75 s\n"
     ]
    }
   ],
   "source": [
    "%%time\n",
    "%env THOTH_ADVISER_SHOW_PACKAGES=1\n",
    "\n",
    "import logging\n",
    "\n",
    "from thoth.common import init_logging\n",
    "from thoth.adviser.python import Adviser\n",
    "from thoth.adviser.enums import RecommendationType\n",
    "\n",
    "# Adjust to DEBUG for more verbose output.\n",
    "logging.getLogger(\"thoth.adviser\").setLevel(logging.INFO)\n",
    "\n",
    "stack_info, report = Adviser.compute_on_project(\n",
    "    project,\n",
    "    runtime_environment=runtime_environment,\n",
    "    recommendation_type=RecommendationType.LATEST,\n",
    "    count=1,\n",
    "    limit=1,\n",
    "    dry_run=False,\n",
    "    graph=graph\n",
    ")"
   ]
  },
  {
   "cell_type": "markdown",
   "metadata": {},
   "source": [
    "After the above call, there are present two variables `stack_info` and `report`. The stack info hods some generic reports for the provided stack (such as warnings on wrong conifiguration, warnings on direct dependencies stated and so). In this demo, we will focus more on report. The report of adviser output is a list of stacks with some additional guidenance/information or justification why a user should use the computed stack.\n",
    "\n",
    "Each entry in report is a tuple made of two items - justification (a list of reports and information about the computed stack) and the generated stack in a form of direct dependencies as well as generated lockfile (in this case this output is serialized into `Pipfile` and `Pipfile.lock`, but later there can be supported other output formats as stated above - like `pyproject.toml`)."
   ]
  },
  {
   "cell_type": "code",
   "execution_count": 12,
   "metadata": {},
   "outputs": [
    {
     "data": {
      "text/plain": [
       "{'requirements': {'packages': {'daiquiri': '*', 'flask': '<=0.12.4'},\n",
       "  'dev-packages': {},\n",
       "  'source': [{'url': 'https://pypi.org/simple',\n",
       "    'verify_ssl': True,\n",
       "    'name': 'pypi-org'}],\n",
       "  'requires': {'python_version': '3.6'}},\n",
       " 'requirements_locked': {'_meta': {'sources': [{'url': 'https://pypi.org/simple',\n",
       "     'verify_ssl': True,\n",
       "     'name': 'pypi-org'}],\n",
       "   'requires': {'python_version': '3.6'},\n",
       "   'hash': {'sha256': '09e4195b3fc6e06bd5ba3a9a641b6bd3e3b036256850507e18e37aaf7294f148'},\n",
       "   'pipfile-spec': 6},\n",
       "  'default': {'daiquiri': {'version': '==1.5.0',\n",
       "    'hashes': ['sha256:8832f28e110165b905993b4bdab638a3c245f5671d5976f226f2628e7d2e7862',\n",
       "     'sha256:ac0e69ac0a8c4ceabcf57f14ba4dc7b5940dc2bf9d1ee620d2ae9fa8f78c7891'],\n",
       "    'index': 'pypi-org'},\n",
       "   'flask': {'version': '==0.12.4',\n",
       "    'hashes': ['sha256:2ea22336f6d388b4b242bc3abf8a01244a8aa3e236e7407469ef78c16ba355dd',\n",
       "     'sha256:6c02dbaa5a9ef790d8219bdced392e2d549c10cd5a5ba4b6aa65126b2271af29'],\n",
       "    'index': 'pypi-org'},\n",
       "   'jinja2': {'version': '==2.10',\n",
       "    'hashes': ['sha256:74c935a1b8bb9a3947c50a54766a969d4846290e1e788ea44c1392163723c3bd',\n",
       "     'sha256:f84be1bb0040caca4cea721fcbbbbd61f9be9464ca236387158b0feea01914a4'],\n",
       "    'index': 'pypi-org'},\n",
       "   'markupsafe': {'version': '==1.1.1',\n",
       "    'hashes': ['sha256:09027a7803a62ca78792ad89403b1b7a73a01c8cb65909cd876f7fcebd79b161',\n",
       "     'sha256:09c4b7f37d6c648cb13f9230d847adf22f8171b1ccc4d5682398e77f40309235',\n",
       "     'sha256:79855e1c5b8da654cf486b830bd42c06e8780cea587384cf6545b7d9ac013a0b',\n",
       "     'sha256:7c1699dfe0cf8ff607dbdcc1e9b9af1755371f92a68f706051cc8c37d447c905',\n",
       "     'sha256:00bc623926325b26bb9605ae9eae8a215691f33cae5df11ca5424f06f2d1f473',\n",
       "     'sha256:88e5fcfb52ee7b911e8bb6d6aa2fd21fbecc674eadd44118a9cc3863f938e735',\n",
       "     'sha256:9add70b36c5666a2ed02b43b335fe19002ee5235efd4b8a89bfcf9005bebac0d',\n",
       "     'sha256:cd5df75523866410809ca100dc9681e301e3c27567cf498077e8551b6d20e42f',\n",
       "     'sha256:24982cc2533820871eba85ba648cd53d8623687ff11cbb805be4ff7b4c971aff',\n",
       "     'sha256:29872e92839765e546828bb7754a68c418d927cd064fd4708fab9fe9c8bb116b',\n",
       "     'sha256:98c7086708b163d425c67c7a91bad6e466bb99d797aa64f965e9d25c12111a5e',\n",
       "     'sha256:6dd73240d2af64df90aa7c4e7481e23825ea70af4b4922f8ede5b9e35f78a3b1',\n",
       "     'sha256:1027c282dad077d0bae18be6794e6b6b8c91d58ed8a8d89a89d59693b9131db5',\n",
       "     'sha256:535f6fc4d397c1563d08b88e485c3496cf5784e927af890fb3c3aac7f933ec66',\n",
       "     'sha256:43a55c2930bbc139570ac2452adf3d70cdbb3cfe5912c71cdce1c2c6bbd9c5d1',\n",
       "     'sha256:c8716a48d94b06bb3b2524c2b77e055fb313aeb4ea620c8dd03a105574ba704f',\n",
       "     'sha256:8defac2f2ccd6805ebf65f5eeb132adcf2ab57aa11fdf4c0dd5169a004710e7d',\n",
       "     'sha256:46c99d2de99945ec5cb54f23c8cd5689f6d7177305ebff350a58ce5f8de1669e',\n",
       "     'sha256:ba59edeaa2fc6114428f1637ffff42da1e311e29382d81b339c1817d37ec93c6',\n",
       "     'sha256:b00c1de48212e4cc9603895652c5c410df699856a2853135b3967591e4beebc2',\n",
       "     'sha256:b2051432115498d3562c084a49bba65d97cf251f5a331c64a12ee7e04dacc51b',\n",
       "     'sha256:ade5e387d2ad0d7ebf59146cc00c8044acbd863725f887353a10df825fc8ae21',\n",
       "     'sha256:500d4957e52ddc3351cabf489e79c91c17f6e0899158447047588650b5e69183',\n",
       "     'sha256:b1282f8c00509d99fef04d8ba936b156d419be841854fe901d8ae224c59f0be5',\n",
       "     'sha256:62fe6c95e3ec8a7fad637b7f3d372c15ec1caa01ab47926cfdf7a75b40e0eac1',\n",
       "     'sha256:e249096428b3ae81b08327a63a485ad0878de3fb939049038579ac0ef61e17e7',\n",
       "     'sha256:717ba8fe3ae9cc0006d7c451f0bb265ee07739daf76355d06366154ee68d221e',\n",
       "     'sha256:9bf40443012702a1d2070043cb6291650a0841ece432556f784f004937f0f32c'],\n",
       "    'index': 'pypi-org'},\n",
       "   'werkzeug': {'version': '==0.14.1',\n",
       "    'hashes': ['sha256:d5da73735293558eb1651ee2fddc4d0dedcfa06538b8813a2e20011583c9e49b',\n",
       "     'sha256:c3fd7a7d41976d9f44db327260e263132466836cef6f91512889ed60ad26557c'],\n",
       "    'index': 'pypi-org'},\n",
       "   'click': {'version': '==7.0',\n",
       "    'hashes': ['sha256:5b94b49521f6456670fdb30cd82a4eca9412788a93fa6dd6df72c94d5a8ff2d7',\n",
       "     'sha256:2335065e6395b9e67ca716de5f7526736bfa6ceead690adf616d925bdc622b13'],\n",
       "    'index': 'pypi-org'},\n",
       "   'itsdangerous': {'version': '==1.1.0',\n",
       "    'hashes': ['sha256:321b033d07f2a4136d3ec762eac9f16a10ccd60f53c0c91af90217ace7ba1f19',\n",
       "     'sha256:b12271b2047cb23eeb98c8b5622e2e5c5e9abd9784a153e9d8ef9cb4dd09d749'],\n",
       "    'index': 'pypi-org'}},\n",
       "  'develop': {}}}"
      ]
     },
     "execution_count": 12,
     "metadata": {},
     "output_type": "execute_result"
    }
   ],
   "source": [
    "from pprint import pprint\n",
    "\n",
    "project = report[0][1]\n",
    "project.to_dict()"
   ]
  },
  {
   "cell_type": "markdown",
   "metadata": {},
   "source": [
    "Having the result wrapped in the `Project` instance conforms to good API design practices and we can provide guidenance not only on locked dependencies, but also on direct dependencies and additional configuration as provided in appropriate files (`Pipfile` in this case).\n",
    "\n",
    "You can try generated stack by placing `Pipfile` and `Pipfile.lock` files into a directory [running a Flask application](https://github.com/thoth-station/thamos/blob/master/examples/lockdown/hello.py)."
   ]
  },
  {
   "cell_type": "code",
   "execution_count": 13,
   "metadata": {},
   "outputs": [
    {
     "name": "stdout",
     "output_type": "stream",
     "text": [
      "[packages]\n",
      "daiquiri = \"*\"\n",
      "flask = \"<=0.12.4\"\n",
      "\n",
      "[dev-packages]\n",
      "\n",
      "[[source]]\n",
      "url = \"https://pypi.org/simple\"\n",
      "verify_ssl = true\n",
      "name = \"pypi-org\"\n",
      "\n",
      "[requires]\n",
      "python_version = \"3.6\"\n",
      "\n",
      "\n"
     ]
    }
   ],
   "source": [
    "# Pipfile\n",
    "\n",
    "print(project.pipfile.to_string())"
   ]
  },
  {
   "cell_type": "code",
   "execution_count": 14,
   "metadata": {},
   "outputs": [
    {
     "name": "stdout",
     "output_type": "stream",
     "text": [
      "{\n",
      "    \"_meta\": {\n",
      "        \"hash\": {\n",
      "            \"sha256\": \"09e4195b3fc6e06bd5ba3a9a641b6bd3e3b036256850507e18e37aaf7294f148\"\n",
      "        },\n",
      "        \"pipfile-spec\": 6,\n",
      "        \"requires\": {\n",
      "            \"python_version\": \"3.6\"\n",
      "        },\n",
      "        \"sources\": [\n",
      "            {\n",
      "                \"name\": \"pypi-org\",\n",
      "                \"url\": \"https://pypi.org/simple\",\n",
      "                \"verify_ssl\": true\n",
      "            }\n",
      "        ]\n",
      "    },\n",
      "    \"default\": {\n",
      "        \"click\": {\n",
      "            \"hashes\": [\n",
      "                \"sha256:5b94b49521f6456670fdb30cd82a4eca9412788a93fa6dd6df72c94d5a8ff2d7\",\n",
      "                \"sha256:2335065e6395b9e67ca716de5f7526736bfa6ceead690adf616d925bdc622b13\"\n",
      "            ],\n",
      "            \"index\": \"pypi-org\",\n",
      "            \"version\": \"==7.0\"\n",
      "        },\n",
      "        \"daiquiri\": {\n",
      "            \"hashes\": [\n",
      "                \"sha256:8832f28e110165b905993b4bdab638a3c245f5671d5976f226f2628e7d2e7862\",\n",
      "                \"sha256:ac0e69ac0a8c4ceabcf57f14ba4dc7b5940dc2bf9d1ee620d2ae9fa8f78c7891\"\n",
      "            ],\n",
      "            \"index\": \"pypi-org\",\n",
      "            \"version\": \"==1.5.0\"\n",
      "        },\n",
      "        \"flask\": {\n",
      "            \"hashes\": [\n",
      "                \"sha256:2ea22336f6d388b4b242bc3abf8a01244a8aa3e236e7407469ef78c16ba355dd\",\n",
      "                \"sha256:6c02dbaa5a9ef790d8219bdced392e2d549c10cd5a5ba4b6aa65126b2271af29\"\n",
      "            ],\n",
      "            \"index\": \"pypi-org\",\n",
      "            \"version\": \"==0.12.4\"\n",
      "        },\n",
      "        \"itsdangerous\": {\n",
      "            \"hashes\": [\n",
      "                \"sha256:321b033d07f2a4136d3ec762eac9f16a10ccd60f53c0c91af90217ace7ba1f19\",\n",
      "                \"sha256:b12271b2047cb23eeb98c8b5622e2e5c5e9abd9784a153e9d8ef9cb4dd09d749\"\n",
      "            ],\n",
      "            \"index\": \"pypi-org\",\n",
      "            \"version\": \"==1.1.0\"\n",
      "        },\n",
      "        \"jinja2\": {\n",
      "            \"hashes\": [\n",
      "                \"sha256:74c935a1b8bb9a3947c50a54766a969d4846290e1e788ea44c1392163723c3bd\",\n",
      "                \"sha256:f84be1bb0040caca4cea721fcbbbbd61f9be9464ca236387158b0feea01914a4\"\n",
      "            ],\n",
      "            \"index\": \"pypi-org\",\n",
      "            \"version\": \"==2.10\"\n",
      "        },\n",
      "        \"markupsafe\": {\n",
      "            \"hashes\": [\n",
      "                \"sha256:09027a7803a62ca78792ad89403b1b7a73a01c8cb65909cd876f7fcebd79b161\",\n",
      "                \"sha256:09c4b7f37d6c648cb13f9230d847adf22f8171b1ccc4d5682398e77f40309235\",\n",
      "                \"sha256:79855e1c5b8da654cf486b830bd42c06e8780cea587384cf6545b7d9ac013a0b\",\n",
      "                \"sha256:7c1699dfe0cf8ff607dbdcc1e9b9af1755371f92a68f706051cc8c37d447c905\",\n",
      "                \"sha256:00bc623926325b26bb9605ae9eae8a215691f33cae5df11ca5424f06f2d1f473\",\n",
      "                \"sha256:88e5fcfb52ee7b911e8bb6d6aa2fd21fbecc674eadd44118a9cc3863f938e735\",\n",
      "                \"sha256:9add70b36c5666a2ed02b43b335fe19002ee5235efd4b8a89bfcf9005bebac0d\",\n",
      "                \"sha256:cd5df75523866410809ca100dc9681e301e3c27567cf498077e8551b6d20e42f\",\n",
      "                \"sha256:24982cc2533820871eba85ba648cd53d8623687ff11cbb805be4ff7b4c971aff\",\n",
      "                \"sha256:29872e92839765e546828bb7754a68c418d927cd064fd4708fab9fe9c8bb116b\",\n",
      "                \"sha256:98c7086708b163d425c67c7a91bad6e466bb99d797aa64f965e9d25c12111a5e\",\n",
      "                \"sha256:6dd73240d2af64df90aa7c4e7481e23825ea70af4b4922f8ede5b9e35f78a3b1\",\n",
      "                \"sha256:1027c282dad077d0bae18be6794e6b6b8c91d58ed8a8d89a89d59693b9131db5\",\n",
      "                \"sha256:535f6fc4d397c1563d08b88e485c3496cf5784e927af890fb3c3aac7f933ec66\",\n",
      "                \"sha256:43a55c2930bbc139570ac2452adf3d70cdbb3cfe5912c71cdce1c2c6bbd9c5d1\",\n",
      "                \"sha256:c8716a48d94b06bb3b2524c2b77e055fb313aeb4ea620c8dd03a105574ba704f\",\n",
      "                \"sha256:8defac2f2ccd6805ebf65f5eeb132adcf2ab57aa11fdf4c0dd5169a004710e7d\",\n",
      "                \"sha256:46c99d2de99945ec5cb54f23c8cd5689f6d7177305ebff350a58ce5f8de1669e\",\n",
      "                \"sha256:ba59edeaa2fc6114428f1637ffff42da1e311e29382d81b339c1817d37ec93c6\",\n",
      "                \"sha256:b00c1de48212e4cc9603895652c5c410df699856a2853135b3967591e4beebc2\",\n",
      "                \"sha256:b2051432115498d3562c084a49bba65d97cf251f5a331c64a12ee7e04dacc51b\",\n",
      "                \"sha256:ade5e387d2ad0d7ebf59146cc00c8044acbd863725f887353a10df825fc8ae21\",\n",
      "                \"sha256:500d4957e52ddc3351cabf489e79c91c17f6e0899158447047588650b5e69183\",\n",
      "                \"sha256:b1282f8c00509d99fef04d8ba936b156d419be841854fe901d8ae224c59f0be5\",\n",
      "                \"sha256:62fe6c95e3ec8a7fad637b7f3d372c15ec1caa01ab47926cfdf7a75b40e0eac1\",\n",
      "                \"sha256:e249096428b3ae81b08327a63a485ad0878de3fb939049038579ac0ef61e17e7\",\n",
      "                \"sha256:717ba8fe3ae9cc0006d7c451f0bb265ee07739daf76355d06366154ee68d221e\",\n",
      "                \"sha256:9bf40443012702a1d2070043cb6291650a0841ece432556f784f004937f0f32c\"\n",
      "            ],\n",
      "            \"index\": \"pypi-org\",\n",
      "            \"version\": \"==1.1.1\"\n",
      "        },\n",
      "        \"werkzeug\": {\n",
      "            \"hashes\": [\n",
      "                \"sha256:d5da73735293558eb1651ee2fddc4d0dedcfa06538b8813a2e20011583c9e49b\",\n",
      "                \"sha256:c3fd7a7d41976d9f44db327260e263132466836cef6f91512889ed60ad26557c\"\n",
      "            ],\n",
      "            \"index\": \"pypi-org\",\n",
      "            \"version\": \"==0.14.1\"\n",
      "        }\n",
      "    },\n",
      "    \"develop\": {}\n",
      "}\n",
      "\n"
     ]
    }
   ],
   "source": [
    "# Pipfile.lock\n",
    "\n",
    "print(project.pipfile_lock.to_string())"
   ]
  },
  {
   "cell_type": "markdown",
   "metadata": {},
   "source": [
    "Now, let's print our justification - score of stack and stack number. Thoth generates stacks from the latest first (at least tries to do that, this is not easy to accomplish given the computation restrictions we have so a simple heuristic is used). "
   ]
  },
  {
   "cell_type": "code",
   "execution_count": 15,
   "metadata": {},
   "outputs": [
    {
     "data": {
      "text/plain": [
       "[{'Latest stack': 1}, {'score': 1.0}]"
      ]
     },
     "execution_count": 15,
     "metadata": {},
     "output_type": "execute_result"
    }
   ],
   "source": [
    "report[0][0]"
   ]
  },
  {
   "cell_type": "markdown",
   "metadata": {},
   "source": [
    "Feel free to experiment with additional configuration options, e.g.:"
   ]
  },
  {
   "cell_type": "code",
   "execution_count": 16,
   "metadata": {},
   "outputs": [
    {
     "data": {
      "text/plain": [
       "['STABLE', 'TESTING', 'LATEST']"
      ]
     },
     "execution_count": 16,
     "metadata": {},
     "output_type": "execute_result"
    }
   ],
   "source": [
    "# Set recommendation type to one of the following:\n",
    "\n",
    "[e.name for e in RecommendationType]"
   ]
  },
  {
   "cell_type": "code",
   "execution_count": 17,
   "metadata": {},
   "outputs": [
    {
     "data": {
      "text/plain": [
       "{'hardware': {'cpu_family': None, 'cpu_model': None},\n",
       " 'operating_system': {'name': None, 'version': None},\n",
       " 'python_version': None,\n",
       " 'cuda_version': None,\n",
       " 'name': None}"
      ]
     },
     "execution_count": 17,
     "metadata": {},
     "output_type": "execute_result"
    }
   ],
   "source": [
    "# Adjust runtime specific information (e.g. provide CPU, CUDA information, ...)\n",
    "\n",
    "RuntimeEnvironment.from_dict({}).to_dict(without_none=False)"
   ]
  },
  {
   "cell_type": "code",
   "execution_count": 18,
   "metadata": {},
   "outputs": [
    {
     "data": {
      "text/plain": [
       "{'requirements': {'packages': {'daiquiri': '*', 'flask': '*'},\n",
       "  'dev-packages': {},\n",
       "  'source': [{'url': 'https://pypi.org/simple',\n",
       "    'verify_ssl': True,\n",
       "    'name': 'pypi'}],\n",
       "  'requires': {'python_version': '3.6'}},\n",
       " 'requirements_locked': None}"
      ]
     },
     "execution_count": 18,
     "metadata": {},
     "output_type": "execute_result"
    }
   ],
   "source": [
    "# Adjust version ranges of Python packages being installed. These versions are resolved using\n",
    "# pip's internal algorithm, so anything which is compatible with PEP-440 (and Pipfile compatible\n",
    "# for Pipfile inputs) works out of box. Note this resolution is not done by installing\n",
    "# dependencies (as in case of Pip/Pipenv), but there is implemented resolver on top of\n",
    "# graph database which can resolve dependencies much faster as all the data are pre-computed.\n",
    "\n",
    "PIPFILE_STR = \"\"\"\n",
    "\n",
    "[[source]]\n",
    "url = \"https://pypi.org/simple\"\n",
    "verify_ssl = true\n",
    "name = \"pypi\"\n",
    "\n",
    "[packages]\n",
    "daiquiri = \"*\"\n",
    "# Any flask version:\n",
    "flask = \"*\"\n",
    "\n",
    "[requires]\n",
    "python_version = \"3.6\"\n",
    "\"\"\"\n",
    "\n",
    "Project.from_strings(PIPFILE_STR).to_dict()\n",
    "\n",
    "# Mind dependencies resolved in solver run, unknown dependencies to Thoth, obviusly, cannot be resolved by Thoth."
   ]
  },
  {
   "cell_type": "markdown",
   "metadata": {},
   "source": [
    "Parameter `count` limits number of stacks provided in the output, parameter `limit` limits numbef of stacks scored in total.\n",
    "\n",
    "All of the above can be accomplished using Thamos CLI (as the above is more in-depth description what Thoth does on lower level). From user's perspective a user just installs `Thamos`, adjusts configuration via `thamos config` (automatic discovery of available hardware is performed) and issues `thamos advise`. All of the above is transparent to the user, the report is shown in a well formatted table. [Follow instructions in Thamos repository to make this happen](https://github.com/thoth-station/thamos/tree/master/examples/lockdown)."
   ]
  },
  {
   "cell_type": "markdown",
   "metadata": {},
   "source": [
    "Happy hacking! ;-)"
   ]
  },
  {
   "cell_type": "code",
   "execution_count": 19,
   "metadata": {},
   "outputs": [
    {
     "name": "stderr",
     "output_type": "stream",
     "text": [
      "2019-03-06 10:40:13,981 [18482] INFO     root:126: Logging to a Sentry instance is turned off\n",
      "2019-03-06 10:40:13,982 [18482] INFO     root:148: Logging to rsyslog endpoint is turned off\n"
     ]
    },
    {
     "data": {
      "text/html": [
       "<div>\n",
       "<style scoped>\n",
       "    .dataframe tbody tr th:only-of-type {\n",
       "        vertical-align: middle;\n",
       "    }\n",
       "\n",
       "    .dataframe tbody tr th {\n",
       "        vertical-align: top;\n",
       "    }\n",
       "\n",
       "    .dataframe thead th {\n",
       "        text-align: right;\n",
       "    }\n",
       "</style>\n",
       "<table border=\"1\" class=\"dataframe\">\n",
       "  <thead>\n",
       "    <tr style=\"text-align: right;\">\n",
       "      <th></th>\n",
       "      <th>package</th>\n",
       "      <th>version</th>\n",
       "      <th>importable</th>\n",
       "    </tr>\n",
       "  </thead>\n",
       "  <tbody>\n",
       "    <tr>\n",
       "      <th>0</th>\n",
       "      <td>thoth.adviser</td>\n",
       "      <td>0.3.0</td>\n",
       "      <td>True</td>\n",
       "    </tr>\n",
       "    <tr>\n",
       "      <th>1</th>\n",
       "      <td>thoth.analyzer</td>\n",
       "      <td>0.1.2</td>\n",
       "      <td>True</td>\n",
       "    </tr>\n",
       "    <tr>\n",
       "      <th>2</th>\n",
       "      <td>thoth.common</td>\n",
       "      <td>0.7.1</td>\n",
       "      <td>True</td>\n",
       "    </tr>\n",
       "    <tr>\n",
       "      <th>3</th>\n",
       "      <td>thoth.lab</td>\n",
       "      <td>0.0.3</td>\n",
       "      <td>True</td>\n",
       "    </tr>\n",
       "    <tr>\n",
       "      <th>4</th>\n",
       "      <td>thoth.package_extract</td>\n",
       "      <td>1.0.1</td>\n",
       "      <td>True</td>\n",
       "    </tr>\n",
       "    <tr>\n",
       "      <th>5</th>\n",
       "      <td>thoth.python</td>\n",
       "      <td>0.4.6</td>\n",
       "      <td>True</td>\n",
       "    </tr>\n",
       "    <tr>\n",
       "      <th>6</th>\n",
       "      <td>thoth.solver</td>\n",
       "      <td>1.1.0</td>\n",
       "      <td>True</td>\n",
       "    </tr>\n",
       "    <tr>\n",
       "      <th>7</th>\n",
       "      <td>thoth.storages</td>\n",
       "      <td>0.9.6</td>\n",
       "      <td>True</td>\n",
       "    </tr>\n",
       "    <tr>\n",
       "      <th>8</th>\n",
       "      <td>thoth.worker</td>\n",
       "      <td>0.0.2</td>\n",
       "      <td>True</td>\n",
       "    </tr>\n",
       "  </tbody>\n",
       "</table>\n",
       "</div>"
      ],
      "text/plain": [
       "                 package version  importable\n",
       "0          thoth.adviser   0.3.0        True\n",
       "1         thoth.analyzer   0.1.2        True\n",
       "2           thoth.common   0.7.1        True\n",
       "3              thoth.lab   0.0.3        True\n",
       "4  thoth.package_extract   1.0.1        True\n",
       "5           thoth.python   0.4.6        True\n",
       "6           thoth.solver   1.1.0        True\n",
       "7         thoth.storages   0.9.6        True\n",
       "8           thoth.worker   0.0.2        True"
      ]
     },
     "execution_count": 19,
     "metadata": {},
     "output_type": "execute_result"
    }
   ],
   "source": [
    "from thoth.lab import packages_info\n",
    "\n",
    "# Let's state Thoth's package versions for reproducible next runs of this Jupyter Notebook.\n",
    "packages_info()"
   ]
  }
 ],
 "metadata": {
  "hide_input": false,
  "kernelspec": {
   "display_name": "Python 3",
   "language": "python",
   "name": "python3"
  },
  "language_info": {
   "codemirror_mode": {
    "name": "ipython",
    "version": 3
   },
   "file_extension": ".py",
   "mimetype": "text/x-python",
   "name": "python",
   "nbconvert_exporter": "python",
   "pygments_lexer": "ipython3",
   "version": "3.6.8"
  },
  "varInspector": {
   "cols": {
    "lenName": 16,
    "lenType": 16,
    "lenVar": 40
   },
   "kernels_config": {
    "python": {
     "delete_cmd_postfix": "",
     "delete_cmd_prefix": "del ",
     "library": "var_list.py",
     "varRefreshCmd": "print(var_dic_list())"
    },
    "r": {
     "delete_cmd_postfix": ") ",
     "delete_cmd_prefix": "rm(",
     "library": "var_list.r",
     "varRefreshCmd": "cat(var_dic_list()) "
    }
   },
   "types_to_exclude": [
    "module",
    "function",
    "builtin_function_or_method",
    "instance",
    "_Feature"
   ],
   "window_display": false
  }
 },
 "nbformat": 4,
 "nbformat_minor": 2
}
