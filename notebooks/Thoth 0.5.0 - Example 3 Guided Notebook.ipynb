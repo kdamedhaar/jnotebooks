{
 "cells": [
  {
   "cell_type": "markdown",
   "metadata": {},
   "source": [
    "# Thoth 0.5.0 - Example 3 Guided Notebook - Scoring"
   ]
  },
  {
   "cell_type": "markdown",
   "metadata": {},
   "source": [
    "This notebook is a supportive material for example 3 of Thoth's 0.5.0 release. You can follow instructions in [Thamos repository with examples](https://github.com/thoth-station/thamos/tree/master/examples/scoring) if you would like to use Thamos CLI and communicate with a deployed Thoth backend.\n",
    "\n",
    "See internal document for more info and clarification in [Google Docs](https://docs.google.com/document/d/1QflQpGXtOuHFFC2hkEFBlu0JmCQWEnXdgryvwxCNXpQ/edit#) - section \"Example 3\"."
   ]
  },
  {
   "cell_type": "markdown",
   "metadata": {},
   "source": [
    "## Initial graph database setup"
   ]
  },
  {
   "cell_type": "markdown",
   "metadata": {},
   "source": [
    "In order to go through this scenario, first we need to connect to a graph database instance. This notebook is playeble from within your computer, it inserts all the data into a provided JanusGraph instance, so select a graph database instance you would like to use. If you want to run this script purely on your local machine, setup your local graph database as [described in the README file of thoth-station/janusgraph-thoth-config repo](https://github.com/thoth-station/janusgraph-thoth-config#running-janusgraph-instance-locally). Ideally, just clone the repo and issue the following command to setup your local JanusGraph database instance:\n",
    "\n",
    "```\n",
    "sudo ./local.sh all\n",
    "```"
   ]
  },
  {
   "cell_type": "code",
   "execution_count": 1,
   "metadata": {
    "ExecuteTime": {
     "end_time": "2019-02-19T14:27:46.115546Z",
     "start_time": "2019-02-19T14:27:46.108633Z"
    }
   },
   "outputs": [],
   "source": [
    "# Configure JanusGraph instance to talk to:\n",
    "JANUSGRAPH_SERVICE_HOST = 'localhost'\n",
    "\n",
    "# For directly talking to test environment, uncomment the following line:\n",
    "# JANUSGRAPH_SERVICE_HOST = 'janusgraph.test.thoth-station.ninja'"
   ]
  },
  {
   "cell_type": "markdown",
   "metadata": {},
   "source": [
    "Now let's connect to desired JanusGraph database and check if we are properly connected:"
   ]
  },
  {
   "cell_type": "code",
   "execution_count": 2,
   "metadata": {
    "ExecuteTime": {
     "end_time": "2019-02-19T14:28:35.525376Z",
     "start_time": "2019-02-19T14:28:35.500350Z"
    }
   },
   "outputs": [
    {
     "data": {
      "text/plain": [
       "True"
      ]
     },
     "execution_count": 2,
     "metadata": {},
     "output_type": "execute_result"
    }
   ],
   "source": [
    "from thoth.storages import GraphDatabase\n",
    "\n",
    "# Instantiate and connect the JanusGraph database.\n",
    "graph = GraphDatabase.create(JANUSGRAPH_SERVICE_HOST)\n",
    "graph.connect()\n",
    "\n",
    "graph.is_connected()"
   ]
  },
  {
   "cell_type": "markdown",
   "metadata": {},
   "source": [
    "In the next step we download result of a [thoth-solver](https://github.com/thoth-station/solver) run which resolved all the required stacks (Flask, PyYAML and all their transitive dependencies) to this date."
   ]
  },
  {
   "cell_type": "code",
   "execution_count": 3,
   "metadata": {},
   "outputs": [
    {
     "name": "stdout",
     "output_type": "stream",
     "text": [
      "Document covers all transitive packages which can be installed when 'flask\\\\npyyaml\\\\n' is installed (no version specifier, any version).\n",
      "Stacks were resolved at 2019-03-12 12:42:04+00:00\n"
     ]
    }
   ],
   "source": [
    "import requests\n",
    "from thoth.common import timestamp2datetime\n",
    "\n",
    "SOLVER_DOCUMENT_URL = 'https://raw.githubusercontent.com/thoth-station/misc/master/examples/scoring/resolved.json'\n",
    "\n",
    "response = requests.get(SOLVER_DOCUMENT_URL)\n",
    "response.raise_for_status()\n",
    "solver_document = response.json()\n",
    "\n",
    "print(\"Document covers all transitive packages which can be installed when %r is installed (no version specifier, any version).\" % solver_document[\"metadata\"][\"arguments\"][\"pypi\"][\"requirements\"])\n",
    "print(\"Stacks were resolved at\", timestamp2datetime(solver_document[\"metadata\"][\"timestamp\"]))"
   ]
  },
  {
   "cell_type": "markdown",
   "metadata": {},
   "source": [
    "This document states packages and resolved dependencies. These data are used to construct entries inside graph database which are used by Thoth's resolver to construct software stacks. Note the construction of stacks is done offline on high frequencies (installation of Python packages is slow). The solver document captures environment details for which solver was run (see other Thoth notebooks for clarification why is that happening)."
   ]
  },
  {
   "cell_type": "code",
   "execution_count": 4,
   "metadata": {},
   "outputs": [
    {
     "data": {
      "text/plain": [
       "{'os_name': 'fedora', 'os_version': '29', 'python_version': '3.6'}"
      ]
     },
     "execution_count": 4,
     "metadata": {},
     "output_type": "execute_result"
    }
   ],
   "source": [
    "from thoth.storages import SolverResultsStore\n",
    "\n",
    "document_id = SolverResultsStore.get_document_id(solver_document)\n",
    "solver_name = SolverResultsStore.get_solver_name_from_document_id(document_id)\n",
    "graph.parse_python_solver_name(solver_name)"
   ]
  },
  {
   "cell_type": "markdown",
   "metadata": {},
   "source": [
    "Let's sync the solver document into graph so we can later on use these dependency graphs:"
   ]
  },
  {
   "cell_type": "code",
   "execution_count": 5,
   "metadata": {},
   "outputs": [
    {
     "name": "stdout",
     "output_type": "stream",
     "text": [
      "CPU times: user 17.1 s, sys: 1 s, total: 18.1 s\n",
      "Wall time: 44.2 s\n"
     ]
    }
   ],
   "source": [
    "%%time\n",
    "\n",
    "graph.sync_solver_result(solver_document)"
   ]
  },
  {
   "cell_type": "markdown",
   "metadata": {},
   "source": [
    "## Stack generation and scoring"
   ]
  },
  {
   "cell_type": "markdown",
   "metadata": {},
   "source": [
    "In this noteboook we will show scoring of a software stack and how Thoth finds an optimal stack for you.\n",
    "\n",
    "Imagine a stack made out of two libraries \"`simplelib`\" and \"`anotherlib`\". They together influence how software which uses them works. On the figure below, there are shown scores a scoring function gave when there were used different versions of libraries mentioned above.\n",
    "\n",
    "![alt text](https://raw.githubusercontent.com/thoth-station/misc/master/fig/score_3d_raw.png \"Scoring function visualization\")"
   ]
  },
  {
   "cell_type": "markdown",
   "metadata": {},
   "source": [
    "As the image above is not easily readable (discrete values), let's interpolate results - this way we will see a surface the scoring function is creating considering different versions of `simplelib` and `anotherlib`. \n",
    "\n",
    "![alt text](https://raw.githubusercontent.com/thoth-station/misc/master/fig/score_3d.png \"Scoring function visualization\")"
   ]
  },
  {
   "cell_type": "markdown",
   "metadata": {},
   "source": [
    "With the theoretical example above, let's demo this using Thoth. Our scoring function will be \"how many CVEs are present in a software stack\". Even though CVEs are \"low hanging fruit\", they can nicely show approaches Thoth is performing. In chapters below, we will show how this approach can be extended considering additional vector in the scoring function, such as performance characteristicts of a software stack. From now on, let's imagine `simplelib` is Flask and `anotherlib` is PyYAML. Let's assume other dependencies (the transitive ones of Flask and PyYAML) do not have any CVEs so we can project stacks into a 3D space as shown above (if there would be another library with a CVE, we would need to add a new dimension).\n",
    "\n",
    "To demo the use case, let's create an application which uses Python libraries - [Flask](https://pypi.org/project/Flask/) and [PyYAML](https://pypi.org/project/PyYAML/). As Thoth has a resolver implemented on top of graph database, it can generate software stacks and score them on high frequencies (see for example [`libdependency_graph.so` library which Thoth uses under the hood](https://github.com/thoth-station/adviser/blob/master/docs/libdependency_graph.md)) and perform scoring based on observations.\n",
    "\n",
    "In one of the cells above, we fed [thoth-solver](https://github.com/thoth-station/solver/) results into graph database so that we have a notion about all the transitive dependencies of Python packages our user's application uses. \n",
    "\n",
    "Next, let's insert some CVE related information.\n",
    "\n",
    "Thoth, as of now, uses [pyup.io](https://pyup.io/)'s safety database which curates CVEs in Python ecosystem. The  sync of this database into Thoth's knowledge base is done by Thoth's [cve-update-job](https://github.com/thoth-station/cve-update-job) component in a deployment. As we work in a Jupyter Notebook, possibly talking to originally un-initialized graph database instance, let's manually insert some CVEs into our database:"
   ]
  },
  {
   "cell_type": "code",
   "execution_count": 6,
   "metadata": {},
   "outputs": [
    {
     "name": "stderr",
     "output_type": "stream",
     "text": [
      "2019-03-13 09:06:50,607 [20383] INFO     root:126: Logging to a Sentry instance is turned off\n",
      "2019-03-13 09:06:50,609 [20383] INFO     root:148: Logging to rsyslog endpoint is turned off\n",
      "2019-03-13 09:06:50,635 [20383] INFO     thoth.solver.python.python_solver:113: Parsing dependency 'flask<0.12.3'\n"
     ]
    },
    {
     "name": "stdout",
     "output_type": "stream",
     "text": [
      "---> Syncing Flask CVE record into graph database, cve: 'pyup.io-36388' (CVE id: 'CVE-2018-1000656')\n",
      "CVE 'pyup.io-36388' is affecting Flask versions '<0.12.3'\n",
      "\tCreating record for affected Flask version: '0.1'\n",
      "\tCreating record for affected Flask version: '0.2'\n",
      "\tCreating record for affected Flask version: '0.3'\n",
      "\tCreating record for affected Flask version: '0.3.1'\n",
      "\tCreating record for affected Flask version: '0.4'\n",
      "\tCreating record for affected Flask version: '0.5'\n",
      "\tCreating record for affected Flask version: '0.5.1'\n",
      "\tCreating record for affected Flask version: '0.5.2'\n",
      "\tCreating record for affected Flask version: '0.6'\n",
      "\tCreating record for affected Flask version: '0.6.1'\n",
      "\tCreating record for affected Flask version: '0.10'\n",
      "\tCreating record for affected Flask version: '0.10.1'\n",
      "\tCreating record for affected Flask version: '0.11'\n",
      "\tCreating record for affected Flask version: '0.11.1'\n",
      "\tCreating record for affected Flask version: '0.12'\n"
     ]
    },
    {
     "name": "stderr",
     "output_type": "stream",
     "text": [
      "2019-03-13 09:06:51,135 [20383] INFO     thoth.solver.python.python_solver:113: Parsing dependency 'flask<0.6.1'\n"
     ]
    },
    {
     "name": "stdout",
     "output_type": "stream",
     "text": [
      "\tCreating record for affected Flask version: '0.12.1'\n",
      "\tCreating record for affected Flask version: '0.12.2'\n",
      "---> Syncing Flask CVE record into graph database, cve: 'pyup.io-25820' (CVE id: None)\n",
      "CVE 'pyup.io-25820' is affecting Flask versions '<0.6.1'\n",
      "\tCreating record for affected Flask version: '0.1'\n",
      "\tCreating record for affected Flask version: '0.2'\n",
      "\tCreating record for affected Flask version: '0.3'\n",
      "\tCreating record for affected Flask version: '0.3.1'\n",
      "\tCreating record for affected Flask version: '0.4'\n",
      "\tCreating record for affected Flask version: '0.5'\n",
      "\tCreating record for affected Flask version: '0.5.1'\n",
      "\tCreating record for affected Flask version: '0.5.2'\n",
      "\tCreating record for affected Flask version: '0.6'\n"
     ]
    }
   ],
   "source": [
    "# Download pyup.io safety database:\n",
    "import requests\n",
    "\n",
    "SAFETY_DB_URL = \"https://raw.githubusercontent.com/pyupio/safety-db/master/data/insecure_full.json\"\n",
    "\n",
    "response = requests.get(SAFETY_DB_URL)\n",
    "response.raise_for_status()\n",
    "cve_database = response.json()\n",
    "\n",
    "# We will use Thoth's resolver implemented on top of graph\n",
    "# database to resolve packages which are affected by CVEs we are interest in to demo:\n",
    "from thoth.python import PackageVersion\n",
    "from thoth.adviser.python.solver import PythonPackageGraphSolver\n",
    "\n",
    "# Instantiate Thoth's graph solver:\n",
    "graph_solver = PythonPackageGraphSolver(graph_db=graph)\n",
    "\n",
    "for cve in cve_database.get(\"flask\", []):\n",
    "    print(\"---> Syncing Flask CVE record into graph database, cve: %r (CVE id: %r)\" % (cve[\"id\"], cve[\"cve\"]))\n",
    "    print(\"CVE %r is affecting Flask versions %r\" % (cve[\"id\"], cve[\"v\"]))\n",
    "    \n",
    "    # Resolve versions of affected Flask versions:\n",
    "    versions = graph_solver.solve([PackageVersion(name=\"flask\", version=cve[\"v\"], develop=False)], all_versions=True)\n",
    "    for package_version in versions['flask']:\n",
    "        print(\"\\tCreating record for affected Flask version: %r\" % (package_version.locked_version))\n",
    "        graph.create_python_cve_record(\n",
    "            package_name=package_version.name,\n",
    "            package_version=package_version.locked_version,\n",
    "            index_url=\"https://pypi.org/simple\",  # This is the index monitored by pyup.io safety db.\n",
    "            record_id=cve[\"id\"],\n",
    "            version_range=cve[\"v\"],\n",
    "            advisory=cve[\"advisory\"],\n",
    "            cve=cve[\"cve\"] or \"N/A\",\n",
    "        )"
   ]
  },
  {
   "cell_type": "markdown",
   "metadata": {},
   "source": [
    "There is also a CVE with CVE ID [CVE-2017-18342](https://nvd.nist.gov/vuln/detail/CVE-2017-18342) which is affecting the most recent versions of PyYAML (version lower than 4.1 and, for our use case, higher than 3.05). The fix is present also in pre-releases of PyYaml and [the most recent version of PyYAML to this date 3.13](https://pypi.org/project/PyYAML/#history) is also vulnarable by this CVE.\n",
    "\n",
    "The pyup.io does not state this CVE (too recent probably?), so let's insert it manually for now to the graph database:"
   ]
  },
  {
   "cell_type": "code",
   "execution_count": 7,
   "metadata": {},
   "outputs": [
    {
     "name": "stderr",
     "output_type": "stream",
     "text": [
      "2019-03-13 09:06:51,377 [20383] INFO     thoth.solver.python.python_solver:113: Parsing dependency 'pyyaml<4.1,>3.05'\n"
     ]
    },
    {
     "name": "stdout",
     "output_type": "stream",
     "text": [
      "---> Syncing PyYAML CVE record into graph database, cve: CVE-2017-18342\n",
      "\tCreating record for affected PyYAML version: '3.13rc1'\n",
      "\tCreating record for affected PyYAML version: '3.13b1'\n",
      "\tCreating record for affected PyYAML version: '3.10'\n",
      "\tCreating record for affected PyYAML version: '3.11'\n",
      "\tCreating record for affected PyYAML version: '3.12'\n",
      "\tCreating record for affected PyYAML version: '3.13'\n"
     ]
    }
   ],
   "source": [
    "print(\"---> Syncing PyYAML CVE record into graph database, cve: CVE-2017-18342\")\n",
    "\n",
    "# Resolve versions of affected PyYAML versions:\n",
    "versions = graph_solver.solve([PackageVersion(name=\"pyyaml\", version=\"<4.1,>3.05\", develop=False)], all_versions=True)\n",
    "for package_version in versions['pyyaml']:\n",
    "    print(\"\\tCreating record for affected PyYAML version: %r\" % (package_version.locked_version))\n",
    "    graph.create_python_cve_record(\n",
    "        package_name=package_version.name,\n",
    "        package_version=package_version.locked_version,\n",
    "        index_url=\"https://pypi.org/simple\",\n",
    "        record_id=\"CVE-2017-18342\",\n",
    "        version_range=\"<4.1,>3.05\",\n",
    "        advisory=\"In PyYAML before 4.1, the yaml.load() API could execute arbitrary code. In other words, yaml.safe_load is not used.\",\n",
    "        cve=\"CVE-2017-18342\",\n",
    "    )"
   ]
  },
  {
   "cell_type": "markdown",
   "metadata": {},
   "source": [
    "We have fed all the data necessary for this notebook into our graph database instance. Let's have a look at user's stack by inspecting `Pipfile` and `Pipfile.lock`:"
   ]
  },
  {
   "cell_type": "code",
   "execution_count": 8,
   "metadata": {},
   "outputs": [],
   "source": [
    "PIPFILE_URL = \"https://raw.githubusercontent.com/thoth-station/thamos/master/examples/scoring/Pipfile\"\n",
    "PIPFILE_LOCK_URL = \"https://raw.githubusercontent.com/thoth-station/thamos/master/examples/scoring/Pipfile.lock\"\n",
    "\n",
    "response = requests.get(PIPFILE_URL)\n",
    "response.raise_for_status()\n",
    "pipfile_str = response.text\n",
    "\n",
    "response = requests.get(PIPFILE_LOCK_URL)\n",
    "response.raise_for_status()\n",
    "\n",
    "pipfile_lock_str = response.text"
   ]
  },
  {
   "cell_type": "markdown",
   "metadata": {},
   "source": [
    "Direct dependencies which user directly uses in her/his application with configured index:"
   ]
  },
  {
   "cell_type": "code",
   "execution_count": 9,
   "metadata": {
    "scrolled": true
   },
   "outputs": [
    {
     "name": "stdout",
     "output_type": "stream",
     "text": [
      "[[source]]\n",
      "url = \"https://pypi.org/simple\"\n",
      "verify_ssl = true\n",
      "name = \"pypi\"\n",
      "\n",
      "[packages]\n",
      "flask = \"*\"\n",
      "pyyaml = \"*\"\n",
      "\n",
      "\n"
     ]
    }
   ],
   "source": [
    "print(pipfile_str)"
   ]
  },
  {
   "cell_type": "markdown",
   "metadata": {},
   "source": [
    "And the corresponding lockfile for user's stack."
   ]
  },
  {
   "cell_type": "code",
   "execution_count": 10,
   "metadata": {},
   "outputs": [
    {
     "name": "stdout",
     "output_type": "stream",
     "text": [
      "{\n",
      "    \"_meta\": {\n",
      "        \"hash\": {\n",
      "            \"sha256\": \"0fd39b0c8e7bc29f982d3de717ad9aa6c4f70d82b71ef2bee404f7c4a49487a8\"\n",
      "        },\n",
      "        \"pipfile-spec\": 6,\n",
      "        \"requires\": {},\n",
      "        \"sources\": [\n",
      "            {\n",
      "                \"name\": \"pypi\",\n",
      "                \"url\": \"https://pypi.org/simple\",\n",
      "                \"verify_ssl\": true\n",
      "            }\n",
      "        ]\n",
      "    },\n",
      "    \"default\": {\n",
      "        \"click\": {\n",
      "            \"hashes\": [\n",
      "                \"sha256:2335065e6395b9e67ca716de5f7526736bfa6ceead690adf616d925bdc622b13\",\n",
      "                \"sha256:5b94b49521f6456670fdb30cd82a4eca9412788a93fa6dd6df72c94d5a8ff2d7\"\n",
      "            ],\n",
      "            \"version\": \"==7.0\"\n",
      "        },\n",
      "        \"flask\": {\n",
      "            \"hashes\": [\n",
      "                \"sha256:9dc18a7c673bf0a6fada51e011fc411285a8301f6dfc1c000ebfa272b5e609e4\"\n",
      "            ],\n",
      "            \"index\": \"pypi\",\n",
      "            \"version\": \"==0.6\"\n",
      "        },\n",
      "        \"itsdangerous\": {\n",
      "            \"hashes\": [\n",
      "                \"sha256:321b033d07f2a4136d3ec762eac9f16a10ccd60f53c0c91af90217ace7ba1f19\",\n",
      "                \"sha256:b12271b2047cb23eeb98c8b5622e2e5c5e9abd9784a153e9d8ef9cb4dd09d749\"\n",
      "            ],\n",
      "            \"version\": \"==1.1.0\"\n",
      "        },\n",
      "        \"jinja2\": {\n",
      "            \"hashes\": [\n",
      "                \"sha256:74c935a1b8bb9a3947c50a54766a969d4846290e1e788ea44c1392163723c3bd\",\n",
      "                \"sha256:f84be1bb0040caca4cea721fcbbbbd61f9be9464ca236387158b0feea01914a4\"\n",
      "            ],\n",
      "            \"version\": \"==2.10\"\n",
      "        },\n",
      "        \"markupsafe\": {\n",
      "            \"hashes\": [\n",
      "                \"sha256:00bc623926325b26bb9605ae9eae8a215691f33cae5df11ca5424f06f2d1f473\",\n",
      "                \"sha256:09027a7803a62ca78792ad89403b1b7a73a01c8cb65909cd876f7fcebd79b161\",\n",
      "                \"sha256:09c4b7f37d6c648cb13f9230d847adf22f8171b1ccc4d5682398e77f40309235\",\n",
      "                \"sha256:1027c282dad077d0bae18be6794e6b6b8c91d58ed8a8d89a89d59693b9131db5\",\n",
      "                \"sha256:24982cc2533820871eba85ba648cd53d8623687ff11cbb805be4ff7b4c971aff\",\n",
      "                \"sha256:29872e92839765e546828bb7754a68c418d927cd064fd4708fab9fe9c8bb116b\",\n",
      "                \"sha256:43a55c2930bbc139570ac2452adf3d70cdbb3cfe5912c71cdce1c2c6bbd9c5d1\",\n",
      "                \"sha256:46c99d2de99945ec5cb54f23c8cd5689f6d7177305ebff350a58ce5f8de1669e\",\n",
      "                \"sha256:500d4957e52ddc3351cabf489e79c91c17f6e0899158447047588650b5e69183\",\n",
      "                \"sha256:535f6fc4d397c1563d08b88e485c3496cf5784e927af890fb3c3aac7f933ec66\",\n",
      "                \"sha256:62fe6c95e3ec8a7fad637b7f3d372c15ec1caa01ab47926cfdf7a75b40e0eac1\",\n",
      "                \"sha256:6dd73240d2af64df90aa7c4e7481e23825ea70af4b4922f8ede5b9e35f78a3b1\",\n",
      "                \"sha256:717ba8fe3ae9cc0006d7c451f0bb265ee07739daf76355d06366154ee68d221e\",\n",
      "                \"sha256:79855e1c5b8da654cf486b830bd42c06e8780cea587384cf6545b7d9ac013a0b\",\n",
      "                \"sha256:7c1699dfe0cf8ff607dbdcc1e9b9af1755371f92a68f706051cc8c37d447c905\",\n",
      "                \"sha256:88e5fcfb52ee7b911e8bb6d6aa2fd21fbecc674eadd44118a9cc3863f938e735\",\n",
      "                \"sha256:8defac2f2ccd6805ebf65f5eeb132adcf2ab57aa11fdf4c0dd5169a004710e7d\",\n",
      "                \"sha256:98c7086708b163d425c67c7a91bad6e466bb99d797aa64f965e9d25c12111a5e\",\n",
      "                \"sha256:9add70b36c5666a2ed02b43b335fe19002ee5235efd4b8a89bfcf9005bebac0d\",\n",
      "                \"sha256:9bf40443012702a1d2070043cb6291650a0841ece432556f784f004937f0f32c\",\n",
      "                \"sha256:ade5e387d2ad0d7ebf59146cc00c8044acbd863725f887353a10df825fc8ae21\",\n",
      "                \"sha256:b00c1de48212e4cc9603895652c5c410df699856a2853135b3967591e4beebc2\",\n",
      "                \"sha256:b1282f8c00509d99fef04d8ba936b156d419be841854fe901d8ae224c59f0be5\",\n",
      "                \"sha256:b2051432115498d3562c084a49bba65d97cf251f5a331c64a12ee7e04dacc51b\",\n",
      "                \"sha256:ba59edeaa2fc6114428f1637ffff42da1e311e29382d81b339c1817d37ec93c6\",\n",
      "                \"sha256:c8716a48d94b06bb3b2524c2b77e055fb313aeb4ea620c8dd03a105574ba704f\",\n",
      "                \"sha256:cd5df75523866410809ca100dc9681e301e3c27567cf498077e8551b6d20e42f\",\n",
      "                \"sha256:e249096428b3ae81b08327a63a485ad0878de3fb939049038579ac0ef61e17e7\"\n",
      "            ],\n",
      "            \"version\": \"==1.1.1\"\n",
      "        },\n",
      "        \"pyyaml\": {\n",
      "            \"hashes\": [\n",
      "                \"sha256:3d7da3009c0f3e783b2c873687652d83b1bbfd5c88e9813fb7e5b03c0dd3108b\",\n",
      "                \"sha256:3ef3092145e9b70e3ddd2c7ad59bdd0252a94dfe3949721633e41344de00a6bf\",\n",
      "                \"sha256:40c71b8e076d0550b2e6380bada1f1cd1017b882f7e16f09a65be98e017f211a\",\n",
      "                \"sha256:558dd60b890ba8fd982e05941927a3911dc409a63dcb8b634feaa0cda69330d3\",\n",
      "                \"sha256:a7c28b45d9f99102fa092bb213aa12e0aaf9a6a1f5e395d36166639c1f96c3a1\",\n",
      "                \"sha256:aa7dd4a6a427aed7df6fb7f08a580d68d9b118d90310374716ae90b710280af1\",\n",
      "                \"sha256:bc558586e6045763782014934bfaf39d48b8ae85a2713117d16c39864085c613\",\n",
      "                \"sha256:d46d7982b62e0729ad0175a9bc7e10a566fc07b224d2c79fafb5e032727eaa04\",\n",
      "                \"sha256:d5eef459e30b09f5a098b9cea68bebfeb268697f78d647bd255a085371ac7f3f\",\n",
      "                \"sha256:e01d3203230e1786cd91ccfdc8f8454c8069c91bee3962ad93b87a4b2860f537\",\n",
      "                \"sha256:e170a9e6fcfd19021dd29845af83bb79236068bf5fd4df3327c1be18182b2531\"\n",
      "            ],\n",
      "            \"index\": \"pypi\",\n",
      "            \"version\": \"==3.13\"\n",
      "        },\n",
      "        \"werkzeug\": {\n",
      "            \"hashes\": [\n",
      "                \"sha256:c3fd7a7d41976d9f44db327260e263132466836cef6f91512889ed60ad26557c\",\n",
      "                \"sha256:d5da73735293558eb1651ee2fddc4d0dedcfa06538b8813a2e20011583c9e49b\"\n",
      "            ],\n",
      "            \"version\": \"==0.14.1\"\n",
      "        }\n",
      "    },\n",
      "    \"develop\": {}\n",
      "}\n",
      "\n"
     ]
    }
   ],
   "source": [
    "print(pipfile_lock_str)"
   ]
  },
  {
   "cell_type": "markdown",
   "metadata": {},
   "source": [
    "Thoth internally operates on \"Project\" abstraction, so let's instantiate one:"
   ]
  },
  {
   "cell_type": "code",
   "execution_count": 11,
   "metadata": {},
   "outputs": [
    {
     "data": {
      "text/plain": [
       "{'requirements': {'packages': {'flask': '*', 'pyyaml': '*'},\n",
       "  'dev-packages': {},\n",
       "  'source': [{'url': 'https://pypi.org/simple',\n",
       "    'verify_ssl': True,\n",
       "    'name': 'pypi'}]},\n",
       " 'requirements_locked': {'_meta': {'sources': [{'url': 'https://pypi.org/simple',\n",
       "     'verify_ssl': True,\n",
       "     'name': 'pypi'}],\n",
       "   'requires': {},\n",
       "   'hash': {'sha256': '0fd39b0c8e7bc29f982d3de717ad9aa6c4f70d82b71ef2bee404f7c4a49487a8'},\n",
       "   'pipfile-spec': 6},\n",
       "  'default': {'click': {'version': '==7.0',\n",
       "    'hashes': ['sha256:2335065e6395b9e67ca716de5f7526736bfa6ceead690adf616d925bdc622b13',\n",
       "     'sha256:5b94b49521f6456670fdb30cd82a4eca9412788a93fa6dd6df72c94d5a8ff2d7']},\n",
       "   'flask': {'version': '==0.6',\n",
       "    'hashes': ['sha256:9dc18a7c673bf0a6fada51e011fc411285a8301f6dfc1c000ebfa272b5e609e4'],\n",
       "    'index': 'pypi'},\n",
       "   'itsdangerous': {'version': '==1.1.0',\n",
       "    'hashes': ['sha256:321b033d07f2a4136d3ec762eac9f16a10ccd60f53c0c91af90217ace7ba1f19',\n",
       "     'sha256:b12271b2047cb23eeb98c8b5622e2e5c5e9abd9784a153e9d8ef9cb4dd09d749']},\n",
       "   'jinja2': {'version': '==2.10',\n",
       "    'hashes': ['sha256:74c935a1b8bb9a3947c50a54766a969d4846290e1e788ea44c1392163723c3bd',\n",
       "     'sha256:f84be1bb0040caca4cea721fcbbbbd61f9be9464ca236387158b0feea01914a4']},\n",
       "   'markupsafe': {'version': '==1.1.1',\n",
       "    'hashes': ['sha256:00bc623926325b26bb9605ae9eae8a215691f33cae5df11ca5424f06f2d1f473',\n",
       "     'sha256:09027a7803a62ca78792ad89403b1b7a73a01c8cb65909cd876f7fcebd79b161',\n",
       "     'sha256:09c4b7f37d6c648cb13f9230d847adf22f8171b1ccc4d5682398e77f40309235',\n",
       "     'sha256:1027c282dad077d0bae18be6794e6b6b8c91d58ed8a8d89a89d59693b9131db5',\n",
       "     'sha256:24982cc2533820871eba85ba648cd53d8623687ff11cbb805be4ff7b4c971aff',\n",
       "     'sha256:29872e92839765e546828bb7754a68c418d927cd064fd4708fab9fe9c8bb116b',\n",
       "     'sha256:43a55c2930bbc139570ac2452adf3d70cdbb3cfe5912c71cdce1c2c6bbd9c5d1',\n",
       "     'sha256:46c99d2de99945ec5cb54f23c8cd5689f6d7177305ebff350a58ce5f8de1669e',\n",
       "     'sha256:500d4957e52ddc3351cabf489e79c91c17f6e0899158447047588650b5e69183',\n",
       "     'sha256:535f6fc4d397c1563d08b88e485c3496cf5784e927af890fb3c3aac7f933ec66',\n",
       "     'sha256:62fe6c95e3ec8a7fad637b7f3d372c15ec1caa01ab47926cfdf7a75b40e0eac1',\n",
       "     'sha256:6dd73240d2af64df90aa7c4e7481e23825ea70af4b4922f8ede5b9e35f78a3b1',\n",
       "     'sha256:717ba8fe3ae9cc0006d7c451f0bb265ee07739daf76355d06366154ee68d221e',\n",
       "     'sha256:79855e1c5b8da654cf486b830bd42c06e8780cea587384cf6545b7d9ac013a0b',\n",
       "     'sha256:7c1699dfe0cf8ff607dbdcc1e9b9af1755371f92a68f706051cc8c37d447c905',\n",
       "     'sha256:88e5fcfb52ee7b911e8bb6d6aa2fd21fbecc674eadd44118a9cc3863f938e735',\n",
       "     'sha256:8defac2f2ccd6805ebf65f5eeb132adcf2ab57aa11fdf4c0dd5169a004710e7d',\n",
       "     'sha256:98c7086708b163d425c67c7a91bad6e466bb99d797aa64f965e9d25c12111a5e',\n",
       "     'sha256:9add70b36c5666a2ed02b43b335fe19002ee5235efd4b8a89bfcf9005bebac0d',\n",
       "     'sha256:9bf40443012702a1d2070043cb6291650a0841ece432556f784f004937f0f32c',\n",
       "     'sha256:ade5e387d2ad0d7ebf59146cc00c8044acbd863725f887353a10df825fc8ae21',\n",
       "     'sha256:b00c1de48212e4cc9603895652c5c410df699856a2853135b3967591e4beebc2',\n",
       "     'sha256:b1282f8c00509d99fef04d8ba936b156d419be841854fe901d8ae224c59f0be5',\n",
       "     'sha256:b2051432115498d3562c084a49bba65d97cf251f5a331c64a12ee7e04dacc51b',\n",
       "     'sha256:ba59edeaa2fc6114428f1637ffff42da1e311e29382d81b339c1817d37ec93c6',\n",
       "     'sha256:c8716a48d94b06bb3b2524c2b77e055fb313aeb4ea620c8dd03a105574ba704f',\n",
       "     'sha256:cd5df75523866410809ca100dc9681e301e3c27567cf498077e8551b6d20e42f',\n",
       "     'sha256:e249096428b3ae81b08327a63a485ad0878de3fb939049038579ac0ef61e17e7']},\n",
       "   'pyyaml': {'version': '==3.13',\n",
       "    'hashes': ['sha256:3d7da3009c0f3e783b2c873687652d83b1bbfd5c88e9813fb7e5b03c0dd3108b',\n",
       "     'sha256:3ef3092145e9b70e3ddd2c7ad59bdd0252a94dfe3949721633e41344de00a6bf',\n",
       "     'sha256:40c71b8e076d0550b2e6380bada1f1cd1017b882f7e16f09a65be98e017f211a',\n",
       "     'sha256:558dd60b890ba8fd982e05941927a3911dc409a63dcb8b634feaa0cda69330d3',\n",
       "     'sha256:a7c28b45d9f99102fa092bb213aa12e0aaf9a6a1f5e395d36166639c1f96c3a1',\n",
       "     'sha256:aa7dd4a6a427aed7df6fb7f08a580d68d9b118d90310374716ae90b710280af1',\n",
       "     'sha256:bc558586e6045763782014934bfaf39d48b8ae85a2713117d16c39864085c613',\n",
       "     'sha256:d46d7982b62e0729ad0175a9bc7e10a566fc07b224d2c79fafb5e032727eaa04',\n",
       "     'sha256:d5eef459e30b09f5a098b9cea68bebfeb268697f78d647bd255a085371ac7f3f',\n",
       "     'sha256:e01d3203230e1786cd91ccfdc8f8454c8069c91bee3962ad93b87a4b2860f537',\n",
       "     'sha256:e170a9e6fcfd19021dd29845af83bb79236068bf5fd4df3327c1be18182b2531'],\n",
       "    'index': 'pypi'},\n",
       "   'werkzeug': {'version': '==0.14.1',\n",
       "    'hashes': ['sha256:c3fd7a7d41976d9f44db327260e263132466836cef6f91512889ed60ad26557c',\n",
       "     'sha256:d5da73735293558eb1651ee2fddc4d0dedcfa06538b8813a2e20011583c9e49b']}},\n",
       "  'develop': {}}}"
      ]
     },
     "execution_count": 11,
     "metadata": {},
     "output_type": "execute_result"
    }
   ],
   "source": [
    "from thoth.python import Project\n",
    "\n",
    "project = Project.from_strings(pipfile_str, pipfile_lock_str)\n",
    "project.to_dict()"
   ]
  },
  {
   "cell_type": "markdown",
   "metadata": {},
   "source": [
    "Let's have a look what versions of PyYAML and Flask libraries are used:"
   ]
  },
  {
   "cell_type": "code",
   "execution_count": 12,
   "metadata": {},
   "outputs": [
    {
     "name": "stdout",
     "output_type": "stream",
     "text": [
      "Flask is used in version '0.6' \n"
     ]
    }
   ],
   "source": [
    "print(\"Flask is used in version %r \" % project.get_locked_package_version(\"flask\").locked_version)"
   ]
  },
  {
   "cell_type": "code",
   "execution_count": 13,
   "metadata": {},
   "outputs": [
    {
     "name": "stdout",
     "output_type": "stream",
     "text": [
      "PyYAML is used in version '3.13' \n"
     ]
    }
   ],
   "source": [
    "print(\"PyYAML is used in version %r \" % project.get_locked_package_version(\"pyyaml\").locked_version)"
   ]
  },
  {
   "cell_type": "markdown",
   "metadata": {},
   "source": [
    "As you can see, CVEs known affect both versions of Flask and PyYAML. If you would take a closer look at stacks, evaluate version ranges of CVEs manually for the affected packages, you would come up with a solution to have a CVE-free software stack. The solution would be:\n",
    "\n",
    "* Update Flask to version >0.12.2\n",
    "* Downgrage PyYAML to lower version without CVE\n",
    "\n",
    "Or:\n",
    "\n",
    "* Update Flask to version >0.12.2\n",
    "* Use a pre-release of PyYAML to get rid of PyYAML CVE vulnerability\n",
    "\n",
    "As user did not configured pre-releases (`allow_prereleases` configuration option in Pipfile file, or run `pipenv install --pre` - see `Pipfile` at the end of this notebook as an example).\n",
    "\n",
    "Now, we can let Thoth compute the best possible software stack. You can adjust configuration options for `Adviser`. Without any limitations, there are possibly 46,997,280 different stacks (upper bound, estimated based on number of packages and all the combinations they can create). Howerver, you can adjust parameters so that this number is lower (e.g. reducing number of recent versions for each package - `limit_latest_versions`).\n",
    "\n",
    "Let's give adviser a try:"
   ]
  },
  {
   "cell_type": "code",
   "execution_count": 14,
   "metadata": {
    "scrolled": true
   },
   "outputs": [
    {
     "name": "stderr",
     "output_type": "stream",
     "text": [
      "2019-03-13 09:06:52,482 [20383] INFO     thoth.adviser.python.scoring:54: Using scoring function obtaining stable software stacks\n",
      "2019-03-13 09:06:52,484 [20383] INFO     thoth.adviser.python.dependency_graph:440: Parsing and solving direct dependencies of the requested project\n",
      "2019-03-13 09:06:52,485 [20383] INFO     thoth.solver.python.python_solver:113: Parsing dependency 'flask'\n"
     ]
    },
    {
     "name": "stdout",
     "output_type": "stream",
     "text": [
      "env: THOTH_ADVISER_SHOW_PACKAGES=1\n"
     ]
    },
    {
     "name": "stderr",
     "output_type": "stream",
     "text": [
      "2019-03-13 09:06:52,573 [20383] INFO     thoth.solver.python.python_solver:113: Parsing dependency 'pyyaml'\n",
      "2019-03-13 09:06:52,652 [20383] INFO     thoth.adviser.python.dependency_graph:455: Retrieving transitive dependencies of direct dependencies\n",
      "2019-03-13 09:06:54,395 [20383] INFO     thoth.adviser.python.dependency_graph:558: Sorting dependencies to preserve order of generated stacks\n",
      "2019-03-13 09:06:56,191 [20383] INFO     thoth.adviser.python.dependency_graph:563: Cutting off unwanted dependencies\n",
      "2019-03-13 09:06:56,527 [20383] WARNING  thoth.adviser.python.dependency_graph:573: Sorting dependencies to preserve order of generated stacks\n",
      "2019-03-13 09:06:56,711 [20383] WARNING  thoth.adviser.python.dependency_graph:581: Removing older versions of packages, considering only 4 latest versions for each package\n",
      "2019-03-13 09:06:56,741 [20383] INFO     thoth.adviser.python.dependency_graph:609: Creating dependency graph\n",
      "2019-03-13 09:06:56,743 [20383] INFO     thoth.adviser.python.dependency_graph:733: Computing possible stack candidates, estimated stacks count: 4096\n",
      "2019-03-13 09:06:56,746 [20383] INFO     thoth.adviser.python.dependency_graph:639: Package 'flask': 4\n",
      "2019-03-13 09:06:56,747 [20383] INFO     thoth.adviser.python.dependency_graph:651: \t'0.12.4' from https://pypi.org/simple\n",
      "2019-03-13 09:06:56,748 [20383] INFO     thoth.adviser.python.dependency_graph:651: \t'1.0' from https://pypi.org/simple\n",
      "2019-03-13 09:06:56,750 [20383] INFO     thoth.adviser.python.dependency_graph:651: \t'1.0.1' from https://pypi.org/simple\n",
      "2019-03-13 09:06:56,751 [20383] INFO     thoth.adviser.python.dependency_graph:651: \t'1.0.2' from https://pypi.org/simple\n",
      "2019-03-13 09:06:56,753 [20383] INFO     thoth.adviser.python.dependency_graph:639: Package 'werkzeug': 4\n",
      "2019-03-13 09:06:56,755 [20383] INFO     thoth.adviser.python.dependency_graph:651: \t'0.12.2' from https://pypi.org/simple\n",
      "2019-03-13 09:06:56,756 [20383] INFO     thoth.adviser.python.dependency_graph:651: \t'0.13' from https://pypi.org/simple\n",
      "2019-03-13 09:06:56,757 [20383] INFO     thoth.adviser.python.dependency_graph:651: \t'0.14' from https://pypi.org/simple\n",
      "2019-03-13 09:06:56,758 [20383] INFO     thoth.adviser.python.dependency_graph:651: \t'0.14.1' from https://pypi.org/simple\n",
      "2019-03-13 09:06:56,760 [20383] INFO     thoth.adviser.python.dependency_graph:639: Package 'jinja2': 4\n",
      "2019-03-13 09:06:56,766 [20383] INFO     thoth.adviser.python.dependency_graph:651: \t'2.9.4' from https://pypi.org/simple\n",
      "2019-03-13 09:06:56,768 [20383] INFO     thoth.adviser.python.dependency_graph:651: \t'2.9.5' from https://pypi.org/simple\n",
      "2019-03-13 09:06:56,772 [20383] INFO     thoth.adviser.python.dependency_graph:651: \t'2.9.6' from https://pypi.org/simple\n",
      "2019-03-13 09:06:56,775 [20383] INFO     thoth.adviser.python.dependency_graph:651: \t'2.10' from https://pypi.org/simple\n",
      "2019-03-13 09:06:56,777 [20383] INFO     thoth.adviser.python.dependency_graph:639: Package 'itsdangerous': 4\n",
      "2019-03-13 09:06:56,779 [20383] INFO     thoth.adviser.python.dependency_graph:651: \t'0.22' from https://pypi.org/simple\n",
      "2019-03-13 09:06:56,780 [20383] INFO     thoth.adviser.python.dependency_graph:651: \t'0.23' from https://pypi.org/simple\n",
      "2019-03-13 09:06:56,781 [20383] INFO     thoth.adviser.python.dependency_graph:651: \t'0.24' from https://pypi.org/simple\n",
      "2019-03-13 09:06:56,782 [20383] INFO     thoth.adviser.python.dependency_graph:651: \t'1.1.0' from https://pypi.org/simple\n",
      "2019-03-13 09:06:56,783 [20383] INFO     thoth.adviser.python.dependency_graph:639: Package 'click': 4\n",
      "2019-03-13 09:06:56,784 [20383] INFO     thoth.adviser.python.dependency_graph:651: \t'6.5' from https://pypi.org/simple\n",
      "2019-03-13 09:06:56,785 [20383] INFO     thoth.adviser.python.dependency_graph:651: \t'6.6' from https://pypi.org/simple\n",
      "2019-03-13 09:06:56,786 [20383] INFO     thoth.adviser.python.dependency_graph:651: \t'6.7' from https://pypi.org/simple\n",
      "2019-03-13 09:06:56,787 [20383] INFO     thoth.adviser.python.dependency_graph:651: \t'7.0' from https://pypi.org/simple\n",
      "2019-03-13 09:06:56,788 [20383] INFO     thoth.adviser.python.dependency_graph:639: Package 'markupsafe': 4\n",
      "2019-03-13 09:06:56,789 [20383] INFO     thoth.adviser.python.dependency_graph:651: \t'0.23' from https://pypi.org/simple\n",
      "2019-03-13 09:06:56,790 [20383] INFO     thoth.adviser.python.dependency_graph:651: \t'1.0' from https://pypi.org/simple\n",
      "2019-03-13 09:06:56,790 [20383] INFO     thoth.adviser.python.dependency_graph:651: \t'1.1.0' from https://pypi.org/simple\n",
      "2019-03-13 09:06:56,791 [20383] INFO     thoth.adviser.python.dependency_graph:651: \t'1.1.1' from https://pypi.org/simple\n",
      "2019-03-13 09:06:56,799 [20383] DEBUG    thoth.adviser.python.bin.dependency_graph:185: Reading from pipe, item size: 4\n",
      "2019-03-13 09:06:56,799 [20575] INFO     thoth.adviser.python.bin.dependency_graph:132: Starting stack producer from '/home/fpokorny/github.com/thoth-station/adviser/thoth/adviser/python/bin/libdependency_graph.so' library...\n",
      "2019-03-13 09:06:56,806 [20575] DEBUG    thoth.adviser.python.bin.dependency_graph:152: Calling dependency graph constructor\n",
      "2019-03-13 09:06:56,810 [20575] DEBUG    thoth.adviser.python.bin.dependency_graph:153: Dependencies list size: 47\n",
      "2019-03-13 09:06:56,812 [20575] DEBUG    thoth.adviser.python.bin.dependency_graph:154: Number of direct dependencies: 4\n",
      "2019-03-13 09:06:56,814 [20575] DEBUG    thoth.adviser.python.bin.dependency_graph:155: Total number of packages considered: 24\n",
      "2019-03-13 09:06:56,816 [20575] DEBUG    thoth.adviser.python.bin.dependency_graph:165: Starting dependency graph walk...\n",
      "2019-03-13 09:06:56,821 [20383] DEBUG    thoth.adviser.python.bin.dependency_graph:195: Reached stack delimiter, yielding stack\n",
      "2019-03-13 09:06:56,823 [20383] INFO     thoth.adviser.python.dependency_graph:744: Found a new stack, asking decision function for inclusion\n",
      "2019-03-13 09:06:56,824 [20383] WARNING  thoth.adviser.isis:53: No Isis API configured, all performance related requests will have value 1.000000\n",
      "2019-03-13 09:06:56,838 [20575] DEBUG    thoth.adviser.python.bin.dependency_graph:177: Generation of stacks has finished, waiting passively for parent\n",
      "2019-03-13 09:06:56,846 [20383] INFO     thoth.adviser.python.scoring:226: Performance index for stack: nan\n",
      "2019-03-13 09:06:56,887 [20383] INFO     thoth.adviser.python.dependency_graph:750: Decision function included the computed stack - result was 0.0\n",
      "2019-03-13 09:06:56,890 [20383] DEBUG    thoth.adviser.python.bin.dependency_graph:195: Reached stack delimiter, yielding stack\n",
      "2019-03-13 09:06:56,895 [20383] INFO     thoth.adviser.python.dependency_graph:744: Found a new stack, asking decision function for inclusion\n",
      "2019-03-13 09:06:56,907 [20383] INFO     thoth.adviser.python.scoring:226: Performance index for stack: nan\n",
      "2019-03-13 09:06:56,932 [20383] INFO     thoth.adviser.python.dependency_graph:750: Decision function included the computed stack - result was 0.0\n",
      "2019-03-13 09:06:56,933 [20383] DEBUG    thoth.adviser.python.bin.dependency_graph:195: Reached stack delimiter, yielding stack\n",
      "2019-03-13 09:06:56,934 [20383] INFO     thoth.adviser.python.dependency_graph:744: Found a new stack, asking decision function for inclusion\n",
      "2019-03-13 09:06:56,944 [20383] INFO     thoth.adviser.python.scoring:226: Performance index for stack: nan\n",
      "2019-03-13 09:06:56,971 [20383] INFO     thoth.adviser.python.dependency_graph:750: Decision function included the computed stack - result was 0.0\n",
      "2019-03-13 09:06:56,973 [20383] DEBUG    thoth.adviser.python.bin.dependency_graph:195: Reached stack delimiter, yielding stack\n",
      "2019-03-13 09:06:56,977 [20383] INFO     thoth.adviser.python.dependency_graph:744: Found a new stack, asking decision function for inclusion\n",
      "2019-03-13 09:06:56,989 [20383] INFO     thoth.adviser.python.scoring:226: Performance index for stack: nan\n",
      "2019-03-13 09:06:57,016 [20383] INFO     thoth.adviser.python.dependency_graph:750: Decision function included the computed stack - result was 0.0\n",
      "2019-03-13 09:06:57,018 [20383] DEBUG    thoth.adviser.python.bin.dependency_graph:195: Reached stack delimiter, yielding stack\n",
      "2019-03-13 09:06:57,019 [20383] INFO     thoth.adviser.python.dependency_graph:744: Found a new stack, asking decision function for inclusion\n"
     ]
    },
    {
     "name": "stderr",
     "output_type": "stream",
     "text": [
      "2019-03-13 09:06:57,031 [20383] INFO     thoth.adviser.python.scoring:226: Performance index for stack: nan\n",
      "2019-03-13 09:06:57,058 [20383] INFO     thoth.adviser.python.dependency_graph:750: Decision function included the computed stack - result was 0.0\n",
      "2019-03-13 09:06:57,060 [20383] DEBUG    thoth.adviser.python.bin.dependency_graph:195: Reached stack delimiter, yielding stack\n",
      "2019-03-13 09:06:57,065 [20383] INFO     thoth.adviser.python.dependency_graph:744: Found a new stack, asking decision function for inclusion\n",
      "2019-03-13 09:06:57,078 [20383] INFO     thoth.adviser.python.scoring:226: Performance index for stack: nan\n",
      "2019-03-13 09:06:57,104 [20383] INFO     thoth.adviser.python.dependency_graph:750: Decision function included the computed stack - result was 0.0\n",
      "2019-03-13 09:06:57,106 [20383] DEBUG    thoth.adviser.python.bin.dependency_graph:195: Reached stack delimiter, yielding stack\n",
      "2019-03-13 09:06:57,110 [20383] INFO     thoth.adviser.python.dependency_graph:744: Found a new stack, asking decision function for inclusion\n",
      "2019-03-13 09:06:57,125 [20383] INFO     thoth.adviser.python.scoring:226: Performance index for stack: nan\n",
      "2019-03-13 09:06:57,151 [20383] INFO     thoth.adviser.python.dependency_graph:750: Decision function included the computed stack - result was 0.0\n",
      "2019-03-13 09:06:57,152 [20383] DEBUG    thoth.adviser.python.bin.dependency_graph:195: Reached stack delimiter, yielding stack\n",
      "2019-03-13 09:06:57,153 [20383] INFO     thoth.adviser.python.dependency_graph:744: Found a new stack, asking decision function for inclusion\n",
      "2019-03-13 09:06:57,171 [20383] INFO     thoth.adviser.python.scoring:226: Performance index for stack: nan\n",
      "2019-03-13 09:06:57,197 [20383] INFO     thoth.adviser.python.dependency_graph:750: Decision function included the computed stack - result was 0.0\n",
      "2019-03-13 09:06:57,199 [20383] DEBUG    thoth.adviser.python.bin.dependency_graph:195: Reached stack delimiter, yielding stack\n",
      "2019-03-13 09:06:57,200 [20383] INFO     thoth.adviser.python.dependency_graph:744: Found a new stack, asking decision function for inclusion\n",
      "2019-03-13 09:06:57,214 [20383] INFO     thoth.adviser.python.scoring:226: Performance index for stack: nan\n",
      "2019-03-13 09:06:57,241 [20383] INFO     thoth.adviser.python.dependency_graph:750: Decision function included the computed stack - result was 0.0\n",
      "2019-03-13 09:06:57,243 [20383] DEBUG    thoth.adviser.python.bin.dependency_graph:195: Reached stack delimiter, yielding stack\n",
      "2019-03-13 09:06:57,244 [20383] INFO     thoth.adviser.python.dependency_graph:744: Found a new stack, asking decision function for inclusion\n",
      "2019-03-13 09:06:57,255 [20383] INFO     thoth.adviser.python.scoring:226: Performance index for stack: nan\n",
      "2019-03-13 09:06:57,281 [20383] INFO     thoth.adviser.python.dependency_graph:750: Decision function included the computed stack - result was 0.0\n",
      "2019-03-13 09:06:57,283 [20383] DEBUG    thoth.adviser.python.bin.dependency_graph:195: Reached stack delimiter, yielding stack\n",
      "2019-03-13 09:06:57,284 [20383] INFO     thoth.adviser.python.dependency_graph:744: Found a new stack, asking decision function for inclusion\n",
      "2019-03-13 09:06:57,300 [20383] INFO     thoth.adviser.python.scoring:226: Performance index for stack: nan\n",
      "2019-03-13 09:06:57,326 [20383] INFO     thoth.adviser.python.dependency_graph:750: Decision function included the computed stack - result was 0.0\n",
      "2019-03-13 09:06:57,328 [20383] DEBUG    thoth.adviser.python.bin.dependency_graph:195: Reached stack delimiter, yielding stack\n",
      "2019-03-13 09:06:57,329 [20383] INFO     thoth.adviser.python.dependency_graph:744: Found a new stack, asking decision function for inclusion\n",
      "2019-03-13 09:06:57,339 [20383] INFO     thoth.adviser.python.scoring:226: Performance index for stack: nan\n",
      "2019-03-13 09:06:57,365 [20383] INFO     thoth.adviser.python.dependency_graph:750: Decision function included the computed stack - result was 0.0\n",
      "2019-03-13 09:06:57,367 [20383] DEBUG    thoth.adviser.python.bin.dependency_graph:195: Reached stack delimiter, yielding stack\n",
      "2019-03-13 09:06:57,368 [20383] INFO     thoth.adviser.python.dependency_graph:744: Found a new stack, asking decision function for inclusion\n",
      "2019-03-13 09:06:57,378 [20383] INFO     thoth.adviser.python.scoring:226: Performance index for stack: nan\n",
      "2019-03-13 09:06:57,403 [20383] INFO     thoth.adviser.python.dependency_graph:750: Decision function included the computed stack - result was 0.0\n",
      "2019-03-13 09:06:57,405 [20383] DEBUG    thoth.adviser.python.bin.dependency_graph:195: Reached stack delimiter, yielding stack\n",
      "2019-03-13 09:06:57,406 [20383] INFO     thoth.adviser.python.dependency_graph:744: Found a new stack, asking decision function for inclusion\n",
      "2019-03-13 09:06:57,416 [20383] INFO     thoth.adviser.python.scoring:226: Performance index for stack: nan\n",
      "2019-03-13 09:06:57,443 [20383] INFO     thoth.adviser.python.dependency_graph:750: Decision function included the computed stack - result was 0.0\n",
      "2019-03-13 09:06:57,445 [20383] DEBUG    thoth.adviser.python.bin.dependency_graph:195: Reached stack delimiter, yielding stack\n",
      "2019-03-13 09:06:57,450 [20383] INFO     thoth.adviser.python.dependency_graph:744: Found a new stack, asking decision function for inclusion\n",
      "2019-03-13 09:06:57,463 [20383] INFO     thoth.adviser.python.scoring:226: Performance index for stack: nan\n",
      "2019-03-13 09:06:57,495 [20383] INFO     thoth.adviser.python.dependency_graph:750: Decision function included the computed stack - result was 0.0\n",
      "2019-03-13 09:06:57,497 [20383] DEBUG    thoth.adviser.python.bin.dependency_graph:195: Reached stack delimiter, yielding stack\n",
      "2019-03-13 09:06:57,498 [20383] INFO     thoth.adviser.python.dependency_graph:744: Found a new stack, asking decision function for inclusion\n",
      "2019-03-13 09:06:57,509 [20383] INFO     thoth.adviser.python.scoring:226: Performance index for stack: nan\n",
      "2019-03-13 09:06:57,533 [20383] INFO     thoth.adviser.python.dependency_graph:750: Decision function included the computed stack - result was 0.0\n",
      "2019-03-13 09:06:57,534 [20383] DEBUG    thoth.adviser.python.bin.dependency_graph:195: Reached stack delimiter, yielding stack\n",
      "2019-03-13 09:06:57,535 [20383] INFO     thoth.adviser.python.dependency_graph:744: Found a new stack, asking decision function for inclusion\n",
      "2019-03-13 09:06:57,546 [20383] INFO     thoth.adviser.python.scoring:226: Performance index for stack: nan\n",
      "2019-03-13 09:06:57,570 [20383] INFO     thoth.adviser.python.dependency_graph:750: Decision function included the computed stack - result was 0.0\n",
      "2019-03-13 09:06:57,571 [20383] DEBUG    thoth.adviser.python.bin.dependency_graph:195: Reached stack delimiter, yielding stack\n",
      "2019-03-13 09:06:57,573 [20383] INFO     thoth.adviser.python.dependency_graph:744: Found a new stack, asking decision function for inclusion\n",
      "2019-03-13 09:06:57,585 [20383] INFO     thoth.adviser.python.scoring:226: Performance index for stack: nan\n",
      "2019-03-13 09:06:57,619 [20383] INFO     thoth.adviser.python.dependency_graph:750: Decision function included the computed stack - result was 0.0\n",
      "2019-03-13 09:06:57,620 [20383] DEBUG    thoth.adviser.python.bin.dependency_graph:195: Reached stack delimiter, yielding stack\n",
      "2019-03-13 09:06:57,622 [20383] INFO     thoth.adviser.python.dependency_graph:744: Found a new stack, asking decision function for inclusion\n",
      "2019-03-13 09:06:57,631 [20383] INFO     thoth.adviser.python.scoring:226: Performance index for stack: nan\n",
      "2019-03-13 09:06:57,656 [20383] INFO     thoth.adviser.python.dependency_graph:750: Decision function included the computed stack - result was 0.0\n",
      "2019-03-13 09:06:57,658 [20383] DEBUG    thoth.adviser.python.bin.dependency_graph:195: Reached stack delimiter, yielding stack\n",
      "2019-03-13 09:06:57,659 [20383] INFO     thoth.adviser.python.dependency_graph:744: Found a new stack, asking decision function for inclusion\n",
      "2019-03-13 09:06:57,689 [20383] INFO     thoth.adviser.python.scoring:226: Performance index for stack: nan\n",
      "2019-03-13 09:06:57,716 [20383] INFO     thoth.adviser.python.dependency_graph:750: Decision function included the computed stack - result was 0.0\n",
      "2019-03-13 09:06:57,718 [20383] DEBUG    thoth.adviser.python.bin.dependency_graph:195: Reached stack delimiter, yielding stack\n"
     ]
    },
    {
     "name": "stderr",
     "output_type": "stream",
     "text": [
      "2019-03-13 09:06:57,719 [20383] INFO     thoth.adviser.python.dependency_graph:744: Found a new stack, asking decision function for inclusion\n",
      "2019-03-13 09:06:57,730 [20383] INFO     thoth.adviser.python.scoring:226: Performance index for stack: nan\n",
      "2019-03-13 09:06:57,755 [20383] INFO     thoth.adviser.python.dependency_graph:750: Decision function included the computed stack - result was 0.0\n",
      "2019-03-13 09:06:57,756 [20383] DEBUG    thoth.adviser.python.bin.dependency_graph:195: Reached stack delimiter, yielding stack\n",
      "2019-03-13 09:06:57,757 [20383] INFO     thoth.adviser.python.dependency_graph:744: Found a new stack, asking decision function for inclusion\n",
      "2019-03-13 09:06:57,769 [20383] INFO     thoth.adviser.python.scoring:226: Performance index for stack: nan\n",
      "2019-03-13 09:06:57,793 [20383] INFO     thoth.adviser.python.dependency_graph:750: Decision function included the computed stack - result was 0.0\n",
      "2019-03-13 09:06:57,794 [20383] DEBUG    thoth.adviser.python.bin.dependency_graph:195: Reached stack delimiter, yielding stack\n",
      "2019-03-13 09:06:57,795 [20383] INFO     thoth.adviser.python.dependency_graph:744: Found a new stack, asking decision function for inclusion\n",
      "2019-03-13 09:06:57,806 [20383] INFO     thoth.adviser.python.scoring:226: Performance index for stack: nan\n",
      "2019-03-13 09:06:57,830 [20383] INFO     thoth.adviser.python.dependency_graph:750: Decision function included the computed stack - result was 0.0\n",
      "2019-03-13 09:06:57,832 [20383] DEBUG    thoth.adviser.python.bin.dependency_graph:195: Reached stack delimiter, yielding stack\n",
      "2019-03-13 09:06:57,833 [20383] INFO     thoth.adviser.python.dependency_graph:744: Found a new stack, asking decision function for inclusion\n",
      "2019-03-13 09:06:57,843 [20383] INFO     thoth.adviser.python.scoring:226: Performance index for stack: nan\n",
      "2019-03-13 09:06:57,869 [20383] INFO     thoth.adviser.python.dependency_graph:750: Decision function included the computed stack - result was 0.0\n",
      "2019-03-13 09:06:57,871 [20383] DEBUG    thoth.adviser.python.bin.dependency_graph:195: Reached stack delimiter, yielding stack\n",
      "2019-03-13 09:06:57,872 [20383] INFO     thoth.adviser.python.dependency_graph:744: Found a new stack, asking decision function for inclusion\n",
      "2019-03-13 09:06:57,882 [20383] INFO     thoth.adviser.python.scoring:226: Performance index for stack: nan\n",
      "2019-03-13 09:06:57,906 [20383] INFO     thoth.adviser.python.dependency_graph:750: Decision function included the computed stack - result was 0.0\n",
      "2019-03-13 09:06:57,908 [20383] DEBUG    thoth.adviser.python.bin.dependency_graph:195: Reached stack delimiter, yielding stack\n",
      "2019-03-13 09:06:57,913 [20383] INFO     thoth.adviser.python.dependency_graph:744: Found a new stack, asking decision function for inclusion\n",
      "2019-03-13 09:06:57,924 [20383] INFO     thoth.adviser.python.scoring:226: Performance index for stack: nan\n",
      "2019-03-13 09:06:57,949 [20383] INFO     thoth.adviser.python.dependency_graph:750: Decision function included the computed stack - result was 0.0\n",
      "2019-03-13 09:06:57,950 [20383] DEBUG    thoth.adviser.python.bin.dependency_graph:195: Reached stack delimiter, yielding stack\n",
      "2019-03-13 09:06:57,951 [20383] INFO     thoth.adviser.python.dependency_graph:744: Found a new stack, asking decision function for inclusion\n",
      "2019-03-13 09:06:57,963 [20383] INFO     thoth.adviser.python.scoring:226: Performance index for stack: nan\n",
      "2019-03-13 09:06:57,989 [20383] INFO     thoth.adviser.python.dependency_graph:750: Decision function included the computed stack - result was 0.0\n",
      "2019-03-13 09:06:57,991 [20383] DEBUG    thoth.adviser.python.bin.dependency_graph:195: Reached stack delimiter, yielding stack\n",
      "2019-03-13 09:06:57,997 [20383] INFO     thoth.adviser.python.dependency_graph:744: Found a new stack, asking decision function for inclusion\n",
      "2019-03-13 09:06:58,013 [20383] INFO     thoth.adviser.python.scoring:226: Performance index for stack: nan\n",
      "2019-03-13 09:06:58,051 [20383] INFO     thoth.adviser.python.dependency_graph:750: Decision function included the computed stack - result was 0.0\n",
      "2019-03-13 09:06:58,052 [20383] DEBUG    thoth.adviser.python.bin.dependency_graph:195: Reached stack delimiter, yielding stack\n",
      "2019-03-13 09:06:58,054 [20383] INFO     thoth.adviser.python.dependency_graph:744: Found a new stack, asking decision function for inclusion\n",
      "2019-03-13 09:06:58,066 [20383] INFO     thoth.adviser.python.scoring:226: Performance index for stack: nan\n",
      "2019-03-13 09:06:58,101 [20383] INFO     thoth.adviser.python.dependency_graph:750: Decision function included the computed stack - result was 0.0\n",
      "2019-03-13 09:06:58,104 [20383] DEBUG    thoth.adviser.python.bin.dependency_graph:195: Reached stack delimiter, yielding stack\n",
      "2019-03-13 09:06:58,106 [20383] INFO     thoth.adviser.python.dependency_graph:744: Found a new stack, asking decision function for inclusion\n",
      "2019-03-13 09:06:58,119 [20383] INFO     thoth.adviser.python.scoring:226: Performance index for stack: nan\n",
      "2019-03-13 09:06:58,145 [20383] INFO     thoth.adviser.python.dependency_graph:750: Decision function included the computed stack - result was 0.0\n",
      "2019-03-13 09:06:58,146 [20383] DEBUG    thoth.adviser.python.bin.dependency_graph:195: Reached stack delimiter, yielding stack\n",
      "2019-03-13 09:06:58,148 [20383] INFO     thoth.adviser.python.dependency_graph:744: Found a new stack, asking decision function for inclusion\n",
      "2019-03-13 09:06:58,159 [20383] INFO     thoth.adviser.python.scoring:226: Performance index for stack: nan\n",
      "2019-03-13 09:06:58,183 [20383] INFO     thoth.adviser.python.dependency_graph:750: Decision function included the computed stack - result was 0.0\n",
      "2019-03-13 09:06:58,185 [20383] DEBUG    thoth.adviser.python.bin.dependency_graph:195: Reached stack delimiter, yielding stack\n",
      "2019-03-13 09:06:58,189 [20383] INFO     thoth.adviser.python.dependency_graph:744: Found a new stack, asking decision function for inclusion\n",
      "2019-03-13 09:06:58,199 [20383] INFO     thoth.adviser.python.scoring:226: Performance index for stack: nan\n",
      "2019-03-13 09:06:58,224 [20383] INFO     thoth.adviser.python.dependency_graph:750: Decision function included the computed stack - result was 0.0\n",
      "2019-03-13 09:06:58,225 [20383] DEBUG    thoth.adviser.python.bin.dependency_graph:195: Reached stack delimiter, yielding stack\n",
      "2019-03-13 09:06:58,226 [20383] INFO     thoth.adviser.python.dependency_graph:744: Found a new stack, asking decision function for inclusion\n",
      "2019-03-13 09:06:58,239 [20383] INFO     thoth.adviser.python.scoring:226: Performance index for stack: nan\n",
      "2019-03-13 09:06:58,263 [20383] INFO     thoth.adviser.python.dependency_graph:750: Decision function included the computed stack - result was 0.0\n",
      "2019-03-13 09:06:58,265 [20383] DEBUG    thoth.adviser.python.bin.dependency_graph:195: Reached stack delimiter, yielding stack\n",
      "2019-03-13 09:06:58,268 [20383] INFO     thoth.adviser.python.dependency_graph:744: Found a new stack, asking decision function for inclusion\n",
      "2019-03-13 09:06:58,280 [20383] INFO     thoth.adviser.python.scoring:226: Performance index for stack: nan\n",
      "2019-03-13 09:06:58,306 [20383] INFO     thoth.adviser.python.dependency_graph:750: Decision function included the computed stack - result was 0.0\n",
      "2019-03-13 09:06:58,308 [20383] DEBUG    thoth.adviser.python.bin.dependency_graph:195: Reached stack delimiter, yielding stack\n",
      "2019-03-13 09:06:58,309 [20383] INFO     thoth.adviser.python.dependency_graph:744: Found a new stack, asking decision function for inclusion\n",
      "2019-03-13 09:06:58,323 [20383] INFO     thoth.adviser.python.scoring:226: Performance index for stack: nan\n",
      "2019-03-13 09:06:58,347 [20383] INFO     thoth.adviser.python.dependency_graph:750: Decision function included the computed stack - result was 0.0\n",
      "2019-03-13 09:06:58,349 [20383] DEBUG    thoth.adviser.python.bin.dependency_graph:195: Reached stack delimiter, yielding stack\n",
      "2019-03-13 09:06:58,350 [20383] INFO     thoth.adviser.python.dependency_graph:744: Found a new stack, asking decision function for inclusion\n",
      "2019-03-13 09:06:58,401 [20383] INFO     thoth.adviser.python.scoring:226: Performance index for stack: nan\n",
      "2019-03-13 09:06:58,425 [20383] INFO     thoth.adviser.python.dependency_graph:750: Decision function included the computed stack - result was 0.0\n"
     ]
    },
    {
     "name": "stderr",
     "output_type": "stream",
     "text": [
      "2019-03-13 09:06:58,427 [20383] DEBUG    thoth.adviser.python.bin.dependency_graph:195: Reached stack delimiter, yielding stack\n",
      "2019-03-13 09:06:58,428 [20383] INFO     thoth.adviser.python.dependency_graph:744: Found a new stack, asking decision function for inclusion\n",
      "2019-03-13 09:06:58,438 [20383] INFO     thoth.adviser.python.scoring:226: Performance index for stack: nan\n",
      "2019-03-13 09:06:58,463 [20383] INFO     thoth.adviser.python.dependency_graph:750: Decision function included the computed stack - result was 0.0\n",
      "2019-03-13 09:06:58,465 [20383] DEBUG    thoth.adviser.python.bin.dependency_graph:195: Reached stack delimiter, yielding stack\n",
      "2019-03-13 09:06:58,466 [20383] INFO     thoth.adviser.python.dependency_graph:744: Found a new stack, asking decision function for inclusion\n",
      "2019-03-13 09:06:58,480 [20383] INFO     thoth.adviser.python.scoring:226: Performance index for stack: nan\n",
      "2019-03-13 09:06:58,504 [20383] INFO     thoth.adviser.python.dependency_graph:750: Decision function included the computed stack - result was 0.0\n",
      "2019-03-13 09:06:58,506 [20383] DEBUG    thoth.adviser.python.bin.dependency_graph:195: Reached stack delimiter, yielding stack\n",
      "2019-03-13 09:06:58,507 [20383] INFO     thoth.adviser.python.dependency_graph:744: Found a new stack, asking decision function for inclusion\n",
      "2019-03-13 09:06:58,517 [20383] INFO     thoth.adviser.python.scoring:226: Performance index for stack: nan\n",
      "2019-03-13 09:06:58,548 [20383] INFO     thoth.adviser.python.dependency_graph:750: Decision function included the computed stack - result was 0.0\n",
      "2019-03-13 09:06:58,550 [20383] DEBUG    thoth.adviser.python.bin.dependency_graph:195: Reached stack delimiter, yielding stack\n",
      "2019-03-13 09:06:58,551 [20383] INFO     thoth.adviser.python.dependency_graph:744: Found a new stack, asking decision function for inclusion\n",
      "2019-03-13 09:06:58,564 [20383] INFO     thoth.adviser.python.scoring:226: Performance index for stack: nan\n",
      "2019-03-13 09:06:58,590 [20383] INFO     thoth.adviser.python.dependency_graph:750: Decision function included the computed stack - result was 0.0\n",
      "2019-03-13 09:06:58,593 [20383] DEBUG    thoth.adviser.python.bin.dependency_graph:195: Reached stack delimiter, yielding stack\n",
      "2019-03-13 09:06:58,594 [20383] INFO     thoth.adviser.python.dependency_graph:744: Found a new stack, asking decision function for inclusion\n",
      "2019-03-13 09:06:58,604 [20383] INFO     thoth.adviser.python.scoring:226: Performance index for stack: nan\n",
      "2019-03-13 09:06:58,627 [20383] INFO     thoth.adviser.python.dependency_graph:750: Decision function included the computed stack - result was 0.0\n",
      "2019-03-13 09:06:58,629 [20383] DEBUG    thoth.adviser.python.bin.dependency_graph:195: Reached stack delimiter, yielding stack\n",
      "2019-03-13 09:06:58,630 [20383] INFO     thoth.adviser.python.dependency_graph:744: Found a new stack, asking decision function for inclusion\n",
      "2019-03-13 09:06:58,641 [20383] INFO     thoth.adviser.python.scoring:226: Performance index for stack: nan\n",
      "2019-03-13 09:06:58,667 [20383] INFO     thoth.adviser.python.dependency_graph:750: Decision function included the computed stack - result was 0.0\n",
      "2019-03-13 09:06:58,670 [20383] DEBUG    thoth.adviser.python.bin.dependency_graph:195: Reached stack delimiter, yielding stack\n",
      "2019-03-13 09:06:58,675 [20383] INFO     thoth.adviser.python.dependency_graph:744: Found a new stack, asking decision function for inclusion\n",
      "2019-03-13 09:06:58,687 [20383] INFO     thoth.adviser.python.scoring:226: Performance index for stack: nan\n",
      "2019-03-13 09:06:58,713 [20383] INFO     thoth.adviser.python.dependency_graph:750: Decision function included the computed stack - result was 0.0\n",
      "2019-03-13 09:06:58,714 [20383] DEBUG    thoth.adviser.python.bin.dependency_graph:195: Reached stack delimiter, yielding stack\n",
      "2019-03-13 09:06:58,716 [20383] INFO     thoth.adviser.python.dependency_graph:744: Found a new stack, asking decision function for inclusion\n",
      "2019-03-13 09:06:58,730 [20383] INFO     thoth.adviser.python.scoring:226: Performance index for stack: nan\n",
      "2019-03-13 09:06:58,755 [20383] INFO     thoth.adviser.python.dependency_graph:750: Decision function included the computed stack - result was 0.0\n",
      "2019-03-13 09:06:58,756 [20383] DEBUG    thoth.adviser.python.bin.dependency_graph:195: Reached stack delimiter, yielding stack\n",
      "2019-03-13 09:06:58,761 [20383] INFO     thoth.adviser.python.dependency_graph:744: Found a new stack, asking decision function for inclusion\n",
      "2019-03-13 09:06:58,773 [20383] INFO     thoth.adviser.python.scoring:226: Performance index for stack: nan\n",
      "2019-03-13 09:06:58,799 [20383] INFO     thoth.adviser.python.dependency_graph:750: Decision function included the computed stack - result was 0.0\n",
      "2019-03-13 09:06:58,801 [20383] DEBUG    thoth.adviser.python.bin.dependency_graph:195: Reached stack delimiter, yielding stack\n",
      "2019-03-13 09:06:58,802 [20383] INFO     thoth.adviser.python.dependency_graph:744: Found a new stack, asking decision function for inclusion\n",
      "2019-03-13 09:06:58,814 [20383] INFO     thoth.adviser.python.scoring:226: Performance index for stack: nan\n",
      "2019-03-13 09:06:58,839 [20383] INFO     thoth.adviser.python.dependency_graph:750: Decision function included the computed stack - result was 0.0\n",
      "2019-03-13 09:06:58,841 [20383] DEBUG    thoth.adviser.python.bin.dependency_graph:195: Reached stack delimiter, yielding stack\n",
      "2019-03-13 09:06:58,845 [20383] INFO     thoth.adviser.python.dependency_graph:744: Found a new stack, asking decision function for inclusion\n",
      "2019-03-13 09:06:58,855 [20383] INFO     thoth.adviser.python.scoring:226: Performance index for stack: nan\n",
      "2019-03-13 09:06:58,882 [20383] INFO     thoth.adviser.python.dependency_graph:750: Decision function included the computed stack - result was 0.0\n",
      "2019-03-13 09:06:58,884 [20383] DEBUG    thoth.adviser.python.bin.dependency_graph:195: Reached stack delimiter, yielding stack\n",
      "2019-03-13 09:06:58,885 [20383] INFO     thoth.adviser.python.dependency_graph:744: Found a new stack, asking decision function for inclusion\n",
      "2019-03-13 09:06:58,898 [20383] INFO     thoth.adviser.python.scoring:226: Performance index for stack: nan\n",
      "2019-03-13 09:06:58,924 [20383] INFO     thoth.adviser.python.dependency_graph:750: Decision function included the computed stack - result was 0.0\n",
      "2019-03-13 09:06:58,926 [20383] DEBUG    thoth.adviser.python.bin.dependency_graph:195: Reached stack delimiter, yielding stack\n",
      "2019-03-13 09:06:58,927 [20383] INFO     thoth.adviser.python.dependency_graph:744: Found a new stack, asking decision function for inclusion\n",
      "2019-03-13 09:06:58,940 [20383] INFO     thoth.adviser.python.scoring:226: Performance index for stack: nan\n",
      "2019-03-13 09:06:58,964 [20383] INFO     thoth.adviser.python.dependency_graph:750: Decision function included the computed stack - result was 0.0\n",
      "2019-03-13 09:06:58,965 [20383] DEBUG    thoth.adviser.python.bin.dependency_graph:195: Reached stack delimiter, yielding stack\n",
      "2019-03-13 09:06:58,966 [20383] INFO     thoth.adviser.python.dependency_graph:744: Found a new stack, asking decision function for inclusion\n",
      "2019-03-13 09:06:58,980 [20383] INFO     thoth.adviser.python.scoring:226: Performance index for stack: nan\n",
      "2019-03-13 09:06:59,005 [20383] INFO     thoth.adviser.python.dependency_graph:750: Decision function included the computed stack - result was 0.0\n",
      "2019-03-13 09:06:59,006 [20383] DEBUG    thoth.adviser.python.bin.dependency_graph:195: Reached stack delimiter, yielding stack\n",
      "2019-03-13 09:06:59,007 [20383] INFO     thoth.adviser.python.dependency_graph:744: Found a new stack, asking decision function for inclusion\n",
      "2019-03-13 09:06:59,018 [20383] INFO     thoth.adviser.python.scoring:226: Performance index for stack: nan\n",
      "2019-03-13 09:06:59,042 [20383] INFO     thoth.adviser.python.dependency_graph:750: Decision function included the computed stack - result was 0.0\n",
      "2019-03-13 09:06:59,043 [20383] DEBUG    thoth.adviser.python.bin.dependency_graph:195: Reached stack delimiter, yielding stack\n",
      "2019-03-13 09:06:59,044 [20383] INFO     thoth.adviser.python.dependency_graph:744: Found a new stack, asking decision function for inclusion\n",
      "2019-03-13 09:06:59,054 [20383] INFO     thoth.adviser.python.scoring:226: Performance index for stack: nan\n"
     ]
    },
    {
     "name": "stderr",
     "output_type": "stream",
     "text": [
      "2019-03-13 09:06:59,078 [20383] INFO     thoth.adviser.python.dependency_graph:750: Decision function included the computed stack - result was 0.0\n",
      "2019-03-13 09:06:59,079 [20383] DEBUG    thoth.adviser.python.bin.dependency_graph:195: Reached stack delimiter, yielding stack\n",
      "2019-03-13 09:06:59,082 [20383] INFO     thoth.adviser.python.dependency_graph:744: Found a new stack, asking decision function for inclusion\n",
      "2019-03-13 09:06:59,092 [20383] INFO     thoth.adviser.python.scoring:226: Performance index for stack: nan\n",
      "2019-03-13 09:06:59,132 [20383] INFO     thoth.adviser.python.dependency_graph:750: Decision function included the computed stack - result was 0.0\n",
      "2019-03-13 09:06:59,133 [20383] DEBUG    thoth.adviser.python.bin.dependency_graph:195: Reached stack delimiter, yielding stack\n",
      "2019-03-13 09:06:59,135 [20383] INFO     thoth.adviser.python.dependency_graph:744: Found a new stack, asking decision function for inclusion\n",
      "2019-03-13 09:06:59,150 [20383] INFO     thoth.adviser.python.scoring:226: Performance index for stack: nan\n",
      "2019-03-13 09:06:59,174 [20383] INFO     thoth.adviser.python.dependency_graph:750: Decision function included the computed stack - result was 0.0\n",
      "2019-03-13 09:06:59,176 [20383] DEBUG    thoth.adviser.python.bin.dependency_graph:195: Reached stack delimiter, yielding stack\n",
      "2019-03-13 09:06:59,177 [20383] INFO     thoth.adviser.python.dependency_graph:744: Found a new stack, asking decision function for inclusion\n",
      "2019-03-13 09:06:59,188 [20383] INFO     thoth.adviser.python.scoring:226: Performance index for stack: nan\n",
      "2019-03-13 09:06:59,213 [20383] INFO     thoth.adviser.python.dependency_graph:750: Decision function included the computed stack - result was 0.0\n",
      "2019-03-13 09:06:59,214 [20383] DEBUG    thoth.adviser.python.bin.dependency_graph:195: Reached stack delimiter, yielding stack\n",
      "2019-03-13 09:06:59,215 [20383] INFO     thoth.adviser.python.dependency_graph:744: Found a new stack, asking decision function for inclusion\n",
      "2019-03-13 09:06:59,225 [20383] INFO     thoth.adviser.python.scoring:226: Performance index for stack: nan\n",
      "2019-03-13 09:06:59,249 [20383] INFO     thoth.adviser.python.dependency_graph:750: Decision function included the computed stack - result was 0.0\n",
      "2019-03-13 09:06:59,251 [20383] DEBUG    thoth.adviser.python.bin.dependency_graph:195: Reached stack delimiter, yielding stack\n",
      "2019-03-13 09:06:59,255 [20383] INFO     thoth.adviser.python.dependency_graph:744: Found a new stack, asking decision function for inclusion\n",
      "2019-03-13 09:06:59,268 [20383] INFO     thoth.adviser.python.scoring:226: Performance index for stack: nan\n",
      "2019-03-13 09:06:59,292 [20383] INFO     thoth.adviser.python.dependency_graph:750: Decision function included the computed stack - result was 0.0\n",
      "2019-03-13 09:06:59,294 [20383] DEBUG    thoth.adviser.python.bin.dependency_graph:195: Reached stack delimiter, yielding stack\n",
      "2019-03-13 09:06:59,295 [20383] INFO     thoth.adviser.python.dependency_graph:744: Found a new stack, asking decision function for inclusion\n",
      "2019-03-13 09:06:59,307 [20383] INFO     thoth.adviser.python.scoring:226: Performance index for stack: nan\n",
      "2019-03-13 09:06:59,332 [20383] INFO     thoth.adviser.python.dependency_graph:750: Decision function included the computed stack - result was 0.0\n",
      "2019-03-13 09:06:59,333 [20383] DEBUG    thoth.adviser.python.bin.dependency_graph:195: Reached stack delimiter, yielding stack\n",
      "2019-03-13 09:06:59,334 [20383] INFO     thoth.adviser.python.dependency_graph:744: Found a new stack, asking decision function for inclusion\n",
      "2019-03-13 09:06:59,346 [20383] INFO     thoth.adviser.python.scoring:226: Performance index for stack: nan\n",
      "2019-03-13 09:06:59,369 [20383] INFO     thoth.adviser.python.dependency_graph:750: Decision function included the computed stack - result was 0.0\n",
      "2019-03-13 09:06:59,371 [20383] DEBUG    thoth.adviser.python.bin.dependency_graph:195: Reached stack delimiter, yielding stack\n",
      "2019-03-13 09:06:59,372 [20383] INFO     thoth.adviser.python.dependency_graph:744: Found a new stack, asking decision function for inclusion\n",
      "2019-03-13 09:06:59,383 [20383] INFO     thoth.adviser.python.scoring:226: Performance index for stack: nan\n",
      "2019-03-13 09:06:59,408 [20383] INFO     thoth.adviser.python.dependency_graph:750: Decision function included the computed stack - result was 0.0\n",
      "2019-03-13 09:06:59,409 [20383] DEBUG    thoth.adviser.python.bin.dependency_graph:195: Reached stack delimiter, yielding stack\n",
      "2019-03-13 09:06:59,413 [20383] INFO     thoth.adviser.python.dependency_graph:744: Found a new stack, asking decision function for inclusion\n",
      "2019-03-13 09:06:59,426 [20383] INFO     thoth.adviser.python.scoring:226: Performance index for stack: nan\n",
      "2019-03-13 09:06:59,449 [20383] INFO     thoth.adviser.python.dependency_graph:750: Decision function included the computed stack - result was 0.0\n",
      "2019-03-13 09:06:59,451 [20383] DEBUG    thoth.adviser.python.bin.dependency_graph:195: Reached stack delimiter, yielding stack\n",
      "2019-03-13 09:06:59,455 [20383] INFO     thoth.adviser.python.dependency_graph:744: Found a new stack, asking decision function for inclusion\n",
      "2019-03-13 09:06:59,472 [20383] INFO     thoth.adviser.python.scoring:226: Performance index for stack: nan\n",
      "2019-03-13 09:06:59,498 [20383] INFO     thoth.adviser.python.dependency_graph:750: Decision function included the computed stack - result was 0.0\n",
      "2019-03-13 09:06:59,499 [20383] DEBUG    thoth.adviser.python.bin.dependency_graph:195: Reached stack delimiter, yielding stack\n",
      "2019-03-13 09:06:59,501 [20383] INFO     thoth.adviser.python.dependency_graph:744: Found a new stack, asking decision function for inclusion\n",
      "2019-03-13 09:06:59,510 [20383] INFO     thoth.adviser.python.scoring:226: Performance index for stack: nan\n",
      "2019-03-13 09:06:59,535 [20383] INFO     thoth.adviser.python.dependency_graph:750: Decision function included the computed stack - result was 0.0\n",
      "2019-03-13 09:06:59,537 [20383] DEBUG    thoth.adviser.python.bin.dependency_graph:195: Reached stack delimiter, yielding stack\n",
      "2019-03-13 09:06:59,541 [20383] INFO     thoth.adviser.python.dependency_graph:744: Found a new stack, asking decision function for inclusion\n",
      "2019-03-13 09:06:59,550 [20383] INFO     thoth.adviser.python.scoring:226: Performance index for stack: nan\n",
      "2019-03-13 09:06:59,574 [20383] INFO     thoth.adviser.python.dependency_graph:750: Decision function included the computed stack - result was 0.0\n",
      "2019-03-13 09:06:59,576 [20383] DEBUG    thoth.adviser.python.bin.dependency_graph:195: Reached stack delimiter, yielding stack\n",
      "2019-03-13 09:06:59,577 [20383] INFO     thoth.adviser.python.dependency_graph:744: Found a new stack, asking decision function for inclusion\n",
      "2019-03-13 09:06:59,588 [20383] INFO     thoth.adviser.python.scoring:226: Performance index for stack: nan\n",
      "2019-03-13 09:06:59,621 [20383] INFO     thoth.adviser.python.dependency_graph:750: Decision function included the computed stack - result was 0.0\n",
      "2019-03-13 09:06:59,622 [20383] DEBUG    thoth.adviser.python.bin.dependency_graph:195: Reached stack delimiter, yielding stack\n",
      "2019-03-13 09:06:59,623 [20383] INFO     thoth.adviser.python.dependency_graph:744: Found a new stack, asking decision function for inclusion\n",
      "2019-03-13 09:06:59,637 [20383] INFO     thoth.adviser.python.scoring:226: Performance index for stack: nan\n",
      "2019-03-13 09:06:59,662 [20383] INFO     thoth.adviser.python.dependency_graph:750: Decision function included the computed stack - result was 0.0\n",
      "2019-03-13 09:06:59,664 [20383] DEBUG    thoth.adviser.python.bin.dependency_graph:195: Reached stack delimiter, yielding stack\n",
      "2019-03-13 09:06:59,665 [20383] INFO     thoth.adviser.python.dependency_graph:744: Found a new stack, asking decision function for inclusion\n",
      "2019-03-13 09:06:59,687 [20383] INFO     thoth.adviser.python.scoring:226: Performance index for stack: nan\n",
      "2019-03-13 09:06:59,721 [20383] INFO     thoth.adviser.python.dependency_graph:750: Decision function included the computed stack - result was 0.0\n",
      "2019-03-13 09:06:59,722 [20383] DEBUG    thoth.adviser.python.bin.dependency_graph:195: Reached stack delimiter, yielding stack\n",
      "2019-03-13 09:06:59,723 [20383] INFO     thoth.adviser.python.dependency_graph:744: Found a new stack, asking decision function for inclusion\n"
     ]
    },
    {
     "name": "stderr",
     "output_type": "stream",
     "text": [
      "2019-03-13 09:06:59,734 [20383] INFO     thoth.adviser.python.scoring:226: Performance index for stack: nan\n",
      "2019-03-13 09:06:59,758 [20383] INFO     thoth.adviser.python.dependency_graph:750: Decision function included the computed stack - result was 0.0\n",
      "2019-03-13 09:06:59,760 [20383] DEBUG    thoth.adviser.python.bin.dependency_graph:195: Reached stack delimiter, yielding stack\n",
      "2019-03-13 09:06:59,761 [20383] INFO     thoth.adviser.python.dependency_graph:744: Found a new stack, asking decision function for inclusion\n",
      "2019-03-13 09:06:59,773 [20383] INFO     thoth.adviser.python.scoring:226: Performance index for stack: nan\n",
      "2019-03-13 09:06:59,796 [20383] INFO     thoth.adviser.python.dependency_graph:750: Decision function included the computed stack - result was 0.0\n",
      "2019-03-13 09:06:59,798 [20383] DEBUG    thoth.adviser.python.bin.dependency_graph:195: Reached stack delimiter, yielding stack\n",
      "2019-03-13 09:06:59,799 [20383] INFO     thoth.adviser.python.dependency_graph:744: Found a new stack, asking decision function for inclusion\n",
      "2019-03-13 09:06:59,810 [20383] INFO     thoth.adviser.python.scoring:226: Performance index for stack: nan\n",
      "2019-03-13 09:06:59,835 [20383] INFO     thoth.adviser.python.dependency_graph:750: Decision function included the computed stack - result was 0.0\n",
      "2019-03-13 09:06:59,836 [20383] DEBUG    thoth.adviser.python.bin.dependency_graph:195: Reached stack delimiter, yielding stack\n",
      "2019-03-13 09:06:59,837 [20383] INFO     thoth.adviser.python.dependency_graph:744: Found a new stack, asking decision function for inclusion\n",
      "2019-03-13 09:06:59,849 [20383] INFO     thoth.adviser.python.scoring:226: Performance index for stack: nan\n",
      "2019-03-13 09:06:59,873 [20383] INFO     thoth.adviser.python.dependency_graph:750: Decision function included the computed stack - result was 0.0\n",
      "2019-03-13 09:06:59,874 [20383] DEBUG    thoth.adviser.python.bin.dependency_graph:195: Reached stack delimiter, yielding stack\n",
      "2019-03-13 09:06:59,876 [20383] INFO     thoth.adviser.python.dependency_graph:744: Found a new stack, asking decision function for inclusion\n",
      "2019-03-13 09:06:59,890 [20383] INFO     thoth.adviser.python.scoring:226: Performance index for stack: nan\n",
      "2019-03-13 09:06:59,913 [20383] INFO     thoth.adviser.python.dependency_graph:750: Decision function included the computed stack - result was 0.0\n",
      "2019-03-13 09:06:59,915 [20383] DEBUG    thoth.adviser.python.bin.dependency_graph:195: Reached stack delimiter, yielding stack\n",
      "2019-03-13 09:06:59,919 [20383] INFO     thoth.adviser.python.dependency_graph:744: Found a new stack, asking decision function for inclusion\n",
      "2019-03-13 09:06:59,929 [20383] INFO     thoth.adviser.python.scoring:226: Performance index for stack: nan\n",
      "2019-03-13 09:06:59,953 [20383] INFO     thoth.adviser.python.dependency_graph:750: Decision function included the computed stack - result was 0.0\n",
      "2019-03-13 09:06:59,954 [20383] DEBUG    thoth.adviser.python.bin.dependency_graph:195: Reached stack delimiter, yielding stack\n",
      "2019-03-13 09:06:59,960 [20383] INFO     thoth.adviser.python.dependency_graph:744: Found a new stack, asking decision function for inclusion\n",
      "2019-03-13 09:06:59,970 [20383] INFO     thoth.adviser.python.scoring:226: Performance index for stack: nan\n",
      "2019-03-13 09:06:59,993 [20383] INFO     thoth.adviser.python.dependency_graph:750: Decision function included the computed stack - result was 0.0\n",
      "2019-03-13 09:06:59,994 [20383] DEBUG    thoth.adviser.python.bin.dependency_graph:195: Reached stack delimiter, yielding stack\n",
      "2019-03-13 09:07:00,001 [20383] INFO     thoth.adviser.python.dependency_graph:744: Found a new stack, asking decision function for inclusion\n",
      "2019-03-13 09:07:00,012 [20383] INFO     thoth.adviser.python.scoring:226: Performance index for stack: nan\n",
      "2019-03-13 09:07:00,036 [20383] INFO     thoth.adviser.python.dependency_graph:750: Decision function included the computed stack - result was 0.0\n",
      "2019-03-13 09:07:00,038 [20383] DEBUG    thoth.adviser.python.bin.dependency_graph:195: Reached stack delimiter, yielding stack\n",
      "2019-03-13 09:07:00,039 [20383] INFO     thoth.adviser.python.dependency_graph:744: Found a new stack, asking decision function for inclusion\n",
      "2019-03-13 09:07:00,051 [20383] INFO     thoth.adviser.python.scoring:226: Performance index for stack: nan\n",
      "2019-03-13 09:07:00,073 [20383] INFO     thoth.adviser.python.dependency_graph:750: Decision function included the computed stack - result was 0.0\n",
      "2019-03-13 09:07:00,075 [20383] DEBUG    thoth.adviser.python.bin.dependency_graph:195: Reached stack delimiter, yielding stack\n",
      "2019-03-13 09:07:00,076 [20383] INFO     thoth.adviser.python.dependency_graph:744: Found a new stack, asking decision function for inclusion\n",
      "2019-03-13 09:07:00,088 [20383] INFO     thoth.adviser.python.scoring:226: Performance index for stack: nan\n",
      "2019-03-13 09:07:00,111 [20383] INFO     thoth.adviser.python.dependency_graph:750: Decision function included the computed stack - result was 0.0\n",
      "2019-03-13 09:07:00,112 [20383] DEBUG    thoth.adviser.python.bin.dependency_graph:195: Reached stack delimiter, yielding stack\n",
      "2019-03-13 09:07:00,114 [20383] INFO     thoth.adviser.python.dependency_graph:744: Found a new stack, asking decision function for inclusion\n",
      "2019-03-13 09:07:00,127 [20383] INFO     thoth.adviser.python.scoring:226: Performance index for stack: nan\n",
      "2019-03-13 09:07:00,151 [20383] INFO     thoth.adviser.python.dependency_graph:750: Decision function included the computed stack - result was 0.0\n",
      "2019-03-13 09:07:00,152 [20383] DEBUG    thoth.adviser.python.bin.dependency_graph:195: Reached stack delimiter, yielding stack\n",
      "2019-03-13 09:07:00,153 [20383] INFO     thoth.adviser.python.dependency_graph:744: Found a new stack, asking decision function for inclusion\n",
      "2019-03-13 09:07:00,164 [20383] INFO     thoth.adviser.python.scoring:226: Performance index for stack: nan\n",
      "2019-03-13 09:07:00,187 [20383] INFO     thoth.adviser.python.dependency_graph:750: Decision function included the computed stack - result was 0.0\n",
      "2019-03-13 09:07:00,188 [20383] DEBUG    thoth.adviser.python.bin.dependency_graph:195: Reached stack delimiter, yielding stack\n",
      "2019-03-13 09:07:00,189 [20383] INFO     thoth.adviser.python.dependency_graph:744: Found a new stack, asking decision function for inclusion\n",
      "2019-03-13 09:07:00,201 [20383] INFO     thoth.adviser.python.scoring:226: Performance index for stack: nan\n",
      "2019-03-13 09:07:00,226 [20383] INFO     thoth.adviser.python.dependency_graph:750: Decision function included the computed stack - result was 0.0\n",
      "2019-03-13 09:07:00,228 [20383] DEBUG    thoth.adviser.python.bin.dependency_graph:195: Reached stack delimiter, yielding stack\n",
      "2019-03-13 09:07:00,229 [20383] INFO     thoth.adviser.python.dependency_graph:744: Found a new stack, asking decision function for inclusion\n",
      "2019-03-13 09:07:00,242 [20383] INFO     thoth.adviser.python.scoring:226: Performance index for stack: nan\n",
      "2019-03-13 09:07:00,266 [20383] INFO     thoth.adviser.python.dependency_graph:750: Decision function included the computed stack - result was 0.0\n",
      "2019-03-13 09:07:00,267 [20383] DEBUG    thoth.adviser.python.bin.dependency_graph:195: Reached stack delimiter, yielding stack\n",
      "2019-03-13 09:07:00,268 [20383] INFO     thoth.adviser.python.dependency_graph:744: Found a new stack, asking decision function for inclusion\n",
      "2019-03-13 09:07:00,278 [20383] INFO     thoth.adviser.python.scoring:226: Performance index for stack: nan\n",
      "2019-03-13 09:07:00,303 [20383] INFO     thoth.adviser.python.dependency_graph:750: Decision function included the computed stack - result was 0.0\n",
      "2019-03-13 09:07:00,305 [20383] DEBUG    thoth.adviser.python.bin.dependency_graph:195: Reached stack delimiter, yielding stack\n",
      "2019-03-13 09:07:00,306 [20383] INFO     thoth.adviser.python.dependency_graph:744: Found a new stack, asking decision function for inclusion\n",
      "2019-03-13 09:07:00,317 [20383] INFO     thoth.adviser.python.scoring:226: Performance index for stack: nan\n",
      "2019-03-13 09:07:00,355 [20383] INFO     thoth.adviser.python.dependency_graph:750: Decision function included the computed stack - result was 0.0\n",
      "2019-03-13 09:07:00,357 [20383] DEBUG    thoth.adviser.python.bin.dependency_graph:195: Reached stack delimiter, yielding stack\n"
     ]
    },
    {
     "name": "stderr",
     "output_type": "stream",
     "text": [
      "2019-03-13 09:07:00,358 [20383] INFO     thoth.adviser.python.dependency_graph:744: Found a new stack, asking decision function for inclusion\n",
      "2019-03-13 09:07:00,371 [20383] INFO     thoth.adviser.python.scoring:226: Performance index for stack: nan\n",
      "2019-03-13 09:07:00,397 [20383] INFO     thoth.adviser.python.dependency_graph:750: Decision function included the computed stack - result was 0.0\n",
      "2019-03-13 09:07:00,399 [20383] DEBUG    thoth.adviser.python.bin.dependency_graph:195: Reached stack delimiter, yielding stack\n",
      "2019-03-13 09:07:00,400 [20383] INFO     thoth.adviser.python.dependency_graph:744: Found a new stack, asking decision function for inclusion\n",
      "2019-03-13 09:07:00,416 [20383] INFO     thoth.adviser.python.scoring:226: Performance index for stack: nan\n",
      "2019-03-13 09:07:00,441 [20383] INFO     thoth.adviser.python.dependency_graph:750: Decision function included the computed stack - result was 0.0\n",
      "2019-03-13 09:07:00,442 [20383] DEBUG    thoth.adviser.python.bin.dependency_graph:195: Reached stack delimiter, yielding stack\n",
      "2019-03-13 09:07:00,443 [20383] INFO     thoth.adviser.python.dependency_graph:744: Found a new stack, asking decision function for inclusion\n",
      "2019-03-13 09:07:00,456 [20383] INFO     thoth.adviser.python.scoring:226: Performance index for stack: nan\n",
      "2019-03-13 09:07:00,479 [20383] INFO     thoth.adviser.python.dependency_graph:750: Decision function included the computed stack - result was 0.0\n",
      "2019-03-13 09:07:00,481 [20383] DEBUG    thoth.adviser.python.bin.dependency_graph:195: Reached stack delimiter, yielding stack\n",
      "2019-03-13 09:07:00,482 [20383] INFO     thoth.adviser.python.dependency_graph:744: Found a new stack, asking decision function for inclusion\n",
      "2019-03-13 09:07:00,493 [20383] INFO     thoth.adviser.python.scoring:226: Performance index for stack: nan\n",
      "2019-03-13 09:07:00,518 [20383] INFO     thoth.adviser.python.dependency_graph:750: Decision function included the computed stack - result was 0.0\n",
      "2019-03-13 09:07:00,520 [20383] DEBUG    thoth.adviser.python.bin.dependency_graph:195: Reached stack delimiter, yielding stack\n",
      "2019-03-13 09:07:00,521 [20383] INFO     thoth.adviser.python.dependency_graph:744: Found a new stack, asking decision function for inclusion\n",
      "2019-03-13 09:07:00,533 [20383] INFO     thoth.adviser.python.scoring:226: Performance index for stack: nan\n",
      "2019-03-13 09:07:00,557 [20383] INFO     thoth.adviser.python.dependency_graph:750: Decision function included the computed stack - result was 0.0\n",
      "2019-03-13 09:07:00,559 [20383] DEBUG    thoth.adviser.python.bin.dependency_graph:195: Reached stack delimiter, yielding stack\n",
      "2019-03-13 09:07:00,560 [20383] INFO     thoth.adviser.python.dependency_graph:744: Found a new stack, asking decision function for inclusion\n",
      "2019-03-13 09:07:00,573 [20383] INFO     thoth.adviser.python.scoring:226: Performance index for stack: nan\n",
      "2019-03-13 09:07:00,604 [20383] INFO     thoth.adviser.python.dependency_graph:750: Decision function included the computed stack - result was 0.0\n",
      "2019-03-13 09:07:00,605 [20383] DEBUG    thoth.adviser.python.bin.dependency_graph:195: Reached stack delimiter, yielding stack\n",
      "2019-03-13 09:07:00,611 [20383] INFO     thoth.adviser.python.dependency_graph:744: Found a new stack, asking decision function for inclusion\n",
      "2019-03-13 09:07:00,622 [20383] INFO     thoth.adviser.python.scoring:226: Performance index for stack: nan\n",
      "2019-03-13 09:07:00,646 [20383] INFO     thoth.adviser.python.dependency_graph:750: Decision function included the computed stack - result was 0.0\n",
      "2019-03-13 09:07:00,647 [20383] DEBUG    thoth.adviser.python.bin.dependency_graph:195: Reached stack delimiter, yielding stack\n",
      "2019-03-13 09:07:00,648 [20383] INFO     thoth.adviser.python.dependency_graph:744: Found a new stack, asking decision function for inclusion\n",
      "2019-03-13 09:07:00,659 [20383] INFO     thoth.adviser.python.scoring:226: Performance index for stack: nan\n",
      "2019-03-13 09:07:00,692 [20383] INFO     thoth.adviser.python.dependency_graph:750: Decision function included the computed stack - result was 0.0\n",
      "2019-03-13 09:07:00,693 [20383] DEBUG    thoth.adviser.python.bin.dependency_graph:195: Reached stack delimiter, yielding stack\n",
      "2019-03-13 09:07:00,699 [20383] INFO     thoth.adviser.python.dependency_graph:744: Found a new stack, asking decision function for inclusion\n",
      "2019-03-13 09:07:00,709 [20383] INFO     thoth.adviser.python.scoring:226: Performance index for stack: nan\n",
      "2019-03-13 09:07:00,734 [20383] INFO     thoth.adviser.python.dependency_graph:750: Decision function included the computed stack - result was 0.0\n",
      "2019-03-13 09:07:00,735 [20383] DEBUG    thoth.adviser.python.bin.dependency_graph:195: Reached stack delimiter, yielding stack\n",
      "2019-03-13 09:07:00,741 [20383] INFO     thoth.adviser.python.dependency_graph:744: Found a new stack, asking decision function for inclusion\n",
      "2019-03-13 09:07:00,750 [20383] INFO     thoth.adviser.python.scoring:226: Performance index for stack: nan\n",
      "2019-03-13 09:07:00,787 [20383] INFO     thoth.adviser.python.dependency_graph:750: Decision function included the computed stack - result was 0.0\n",
      "2019-03-13 09:07:00,789 [20383] DEBUG    thoth.adviser.python.bin.dependency_graph:195: Reached stack delimiter, yielding stack\n",
      "2019-03-13 09:07:00,790 [20383] INFO     thoth.adviser.python.dependency_graph:744: Found a new stack, asking decision function for inclusion\n",
      "2019-03-13 09:07:00,801 [20383] INFO     thoth.adviser.python.scoring:226: Performance index for stack: nan\n",
      "2019-03-13 09:07:00,824 [20383] INFO     thoth.adviser.python.dependency_graph:750: Decision function included the computed stack - result was 0.0\n",
      "2019-03-13 09:07:00,826 [20383] DEBUG    thoth.adviser.python.bin.dependency_graph:195: Reached stack delimiter, yielding stack\n",
      "2019-03-13 09:07:00,828 [20383] INFO     thoth.adviser.python.dependency_graph:744: Found a new stack, asking decision function for inclusion\n",
      "2019-03-13 09:07:00,838 [20383] INFO     thoth.adviser.python.scoring:226: Performance index for stack: nan\n",
      "2019-03-13 09:07:00,865 [20383] INFO     thoth.adviser.python.dependency_graph:750: Decision function included the computed stack - result was 0.0\n",
      "2019-03-13 09:07:00,867 [20383] DEBUG    thoth.adviser.python.bin.dependency_graph:195: Reached stack delimiter, yielding stack\n",
      "2019-03-13 09:07:00,868 [20383] INFO     thoth.adviser.python.dependency_graph:744: Found a new stack, asking decision function for inclusion\n",
      "2019-03-13 09:07:00,881 [20383] INFO     thoth.adviser.python.scoring:226: Performance index for stack: nan\n",
      "2019-03-13 09:07:00,907 [20383] INFO     thoth.adviser.python.dependency_graph:750: Decision function included the computed stack - result was 0.0\n",
      "2019-03-13 09:07:00,908 [20383] DEBUG    thoth.adviser.python.bin.dependency_graph:195: Reached stack delimiter, yielding stack\n",
      "2019-03-13 09:07:00,909 [20383] INFO     thoth.adviser.python.dependency_graph:744: Found a new stack, asking decision function for inclusion\n",
      "2019-03-13 09:07:00,922 [20383] INFO     thoth.adviser.python.scoring:226: Performance index for stack: nan\n",
      "2019-03-13 09:07:00,946 [20383] INFO     thoth.adviser.python.dependency_graph:750: Decision function included the computed stack - result was 0.0\n",
      "2019-03-13 09:07:00,947 [20383] DEBUG    thoth.adviser.python.bin.dependency_graph:195: Reached stack delimiter, yielding stack\n",
      "2019-03-13 09:07:00,948 [20383] INFO     thoth.adviser.python.dependency_graph:744: Found a new stack, asking decision function for inclusion\n",
      "2019-03-13 09:07:00,960 [20383] INFO     thoth.adviser.python.scoring:226: Performance index for stack: nan\n",
      "2019-03-13 09:07:00,983 [20383] INFO     thoth.adviser.python.dependency_graph:750: Decision function included the computed stack - result was 0.0\n",
      "2019-03-13 09:07:00,984 [20383] DEBUG    thoth.adviser.python.bin.dependency_graph:195: Reached stack delimiter, yielding stack\n",
      "2019-03-13 09:07:00,985 [20383] INFO     thoth.adviser.python.dependency_graph:744: Found a new stack, asking decision function for inclusion\n",
      "2019-03-13 09:07:00,997 [20383] INFO     thoth.adviser.python.scoring:226: Performance index for stack: nan\n",
      "2019-03-13 09:07:01,022 [20383] INFO     thoth.adviser.python.dependency_graph:750: Decision function included the computed stack - result was 0.0\n"
     ]
    },
    {
     "name": "stderr",
     "output_type": "stream",
     "text": [
      "2019-03-13 09:07:01,024 [20383] DEBUG    thoth.adviser.python.bin.dependency_graph:195: Reached stack delimiter, yielding stack\n",
      "2019-03-13 09:07:01,026 [20383] INFO     thoth.adviser.python.dependency_graph:744: Found a new stack, asking decision function for inclusion\n",
      "2019-03-13 09:07:01,036 [20383] INFO     thoth.adviser.python.scoring:226: Performance index for stack: nan\n",
      "2019-03-13 09:07:01,060 [20383] INFO     thoth.adviser.python.dependency_graph:750: Decision function included the computed stack - result was 0.0\n",
      "2019-03-13 09:07:01,061 [20383] INFO     thoth.adviser.python.advise:111: Reached graph traversal limit (100), stopping dependency graph traversal\n",
      "2019-03-13 09:07:01,063 [20383] INFO     thoth.adviser.python.advise:118: Scored 100 stacks in total\n",
      "2019-03-13 09:07:01,065 [20383] INFO     thoth.adviser.python.advise:125: Filling package digests to software stacks\n",
      "2019-03-13 09:07:01,077 [20383] WARNING  thoth.adviser.python.helpers:110: No hashes found for package 'flask' in version '1.0.2' from index 'https://pypi.org/simple'\n",
      "2019-03-13 09:07:01,087 [20383] WARNING  thoth.adviser.python.helpers:110: No hashes found for package 'werkzeug' in version '0.14.1' from index 'https://pypi.org/simple'\n",
      "2019-03-13 09:07:01,108 [20383] WARNING  thoth.adviser.python.helpers:110: No hashes found for package 'jinja2' in version '2.10' from index 'https://pypi.org/simple'\n",
      "2019-03-13 09:07:01,125 [20383] WARNING  thoth.adviser.python.helpers:110: No hashes found for package 'itsdangerous' in version '1.1.0' from index 'https://pypi.org/simple'\n",
      "2019-03-13 09:07:01,135 [20383] WARNING  thoth.adviser.python.helpers:110: No hashes found for package 'click' in version '7.0' from index 'https://pypi.org/simple'\n",
      "2019-03-13 09:07:01,145 [20383] WARNING  thoth.adviser.python.helpers:110: No hashes found for package 'markupsafe' in version '1.1.1' from index 'https://pypi.org/simple'\n",
      "2019-03-13 09:07:01,146 [20383] WARNING  thoth.adviser.python.helpers:110: No hashes found for package 'flask' in version '1.0.2' from index 'https://pypi.org/simple'\n",
      "2019-03-13 09:07:01,147 [20383] WARNING  thoth.adviser.python.helpers:110: No hashes found for package 'werkzeug' in version '0.14.1' from index 'https://pypi.org/simple'\n",
      "2019-03-13 09:07:01,149 [20383] WARNING  thoth.adviser.python.helpers:110: No hashes found for package 'jinja2' in version '2.10' from index 'https://pypi.org/simple'\n",
      "2019-03-13 09:07:01,150 [20383] WARNING  thoth.adviser.python.helpers:110: No hashes found for package 'itsdangerous' in version '1.1.0' from index 'https://pypi.org/simple'\n",
      "2019-03-13 09:07:01,151 [20383] WARNING  thoth.adviser.python.helpers:110: No hashes found for package 'click' in version '7.0' from index 'https://pypi.org/simple'\n",
      "2019-03-13 09:07:01,162 [20383] WARNING  thoth.adviser.python.helpers:110: No hashes found for package 'markupsafe' in version '1.1.0' from index 'https://pypi.org/simple'\n",
      "2019-03-13 09:07:01,165 [20383] WARNING  thoth.adviser.python.helpers:110: No hashes found for package 'flask' in version '1.0.2' from index 'https://pypi.org/simple'\n",
      "2019-03-13 09:07:01,167 [20383] WARNING  thoth.adviser.python.helpers:110: No hashes found for package 'werkzeug' in version '0.14.1' from index 'https://pypi.org/simple'\n",
      "2019-03-13 09:07:01,167 [20383] WARNING  thoth.adviser.python.helpers:110: No hashes found for package 'jinja2' in version '2.10' from index 'https://pypi.org/simple'\n",
      "2019-03-13 09:07:01,168 [20383] WARNING  thoth.adviser.python.helpers:110: No hashes found for package 'itsdangerous' in version '1.1.0' from index 'https://pypi.org/simple'\n",
      "2019-03-13 09:07:01,169 [20383] WARNING  thoth.adviser.python.helpers:110: No hashes found for package 'click' in version '7.0' from index 'https://pypi.org/simple'\n",
      "2019-03-13 09:07:01,180 [20383] WARNING  thoth.adviser.python.helpers:110: No hashes found for package 'markupsafe' in version '1.0' from index 'https://pypi.org/simple'\n",
      "2019-03-13 09:07:01,181 [20383] WARNING  thoth.adviser.python.helpers:110: No hashes found for package 'flask' in version '1.0.2' from index 'https://pypi.org/simple'\n",
      "2019-03-13 09:07:01,182 [20383] WARNING  thoth.adviser.python.helpers:110: No hashes found for package 'werkzeug' in version '0.14.1' from index 'https://pypi.org/simple'\n",
      "2019-03-13 09:07:01,184 [20383] WARNING  thoth.adviser.python.helpers:110: No hashes found for package 'jinja2' in version '2.10' from index 'https://pypi.org/simple'\n",
      "2019-03-13 09:07:01,185 [20383] WARNING  thoth.adviser.python.helpers:110: No hashes found for package 'itsdangerous' in version '1.1.0' from index 'https://pypi.org/simple'\n",
      "2019-03-13 09:07:01,186 [20383] WARNING  thoth.adviser.python.helpers:110: No hashes found for package 'click' in version '7.0' from index 'https://pypi.org/simple'\n",
      "2019-03-13 09:07:01,201 [20383] WARNING  thoth.adviser.python.helpers:110: No hashes found for package 'markupsafe' in version '0.23' from index 'https://pypi.org/simple'\n",
      "2019-03-13 09:07:01,203 [20383] WARNING  thoth.adviser.python.helpers:110: No hashes found for package 'flask' in version '1.0.2' from index 'https://pypi.org/simple'\n",
      "2019-03-13 09:07:01,205 [20383] WARNING  thoth.adviser.python.helpers:110: No hashes found for package 'werkzeug' in version '0.14.1' from index 'https://pypi.org/simple'\n",
      "2019-03-13 09:07:01,206 [20383] WARNING  thoth.adviser.python.helpers:110: No hashes found for package 'jinja2' in version '2.10' from index 'https://pypi.org/simple'\n",
      "2019-03-13 09:07:01,207 [20383] WARNING  thoth.adviser.python.helpers:110: No hashes found for package 'itsdangerous' in version '1.1.0' from index 'https://pypi.org/simple'\n",
      "2019-03-13 09:07:01,217 [20383] WARNING  thoth.adviser.python.helpers:110: No hashes found for package 'click' in version '6.7' from index 'https://pypi.org/simple'\n",
      "2019-03-13 09:07:01,218 [20383] WARNING  thoth.adviser.python.helpers:110: No hashes found for package 'markupsafe' in version '1.1.1' from index 'https://pypi.org/simple'\n"
     ]
    },
    {
     "name": "stdout",
     "output_type": "stream",
     "text": [
      "CPU times: user 5.27 s, sys: 282 ms, total: 5.55 s\n",
      "Wall time: 8.74 s\n"
     ]
    }
   ],
   "source": [
    "%%time\n",
    "%env THOTH_ADVISER_SHOW_PACKAGES=1\n",
    "\n",
    "from thoth.adviser.python import Adviser\n",
    "from thoth.adviser.enums import RecommendationType\n",
    "\n",
    "stack_info, advised_configuration, report = Adviser.compute_on_project(\n",
    "    project,\n",
    "    recommendation_type=RecommendationType.STABLE,\n",
    "    count=5,                   # Number of best stacks reported in the output.\n",
    "    limit=100,                # Limit number of stacks scored in total.\n",
    "    limit_latest_versions=4,   # Consider only N latest versions of each package.\n",
    "    dry_run=False,\n",
    "    graph=graph,\n",
    ")"
   ]
  },
  {
   "cell_type": "markdown",
   "metadata": {},
   "source": [
    "Parameter `count` limits number of stacks provided in the output, parameter `limit` limits numbef of stacks scored in total.\n",
    "\n",
    "The step above did not consider any runtime environment (user did not configure it in Thoth's configuration file). This means Thoth is assuming \"any\" runtime environment - this is also reported back to user as a recommendation."
   ]
  },
  {
   "cell_type": "code",
   "execution_count": 15,
   "metadata": {},
   "outputs": [
    {
     "data": {
      "text/plain": [
       "[{'type': 'WARNING',\n",
       "  'justification': \"Please specify Python version in Pipfile using `pipenv --python <VERSION>` and in Thoth's configuration file to have reproducible deployment and recommendations targeting specific Python version\"}]"
      ]
     },
     "execution_count": 15,
     "metadata": {},
     "output_type": "execute_result"
    }
   ],
   "source": [
    "stack_info"
   ]
  },
  {
   "cell_type": "markdown",
   "metadata": {},
   "source": [
    "Let's check recommended changes in configuration by Thoth. As seen above, there is a warning message about Python version not being set in Thoth's configuration file. As there was no Python version stated in Pipfile, Thoth was not able to figure out what version it shoud advise:"
   ]
  },
  {
   "cell_type": "code",
   "execution_count": 16,
   "metadata": {},
   "outputs": [
    {
     "data": {
      "text/plain": [
       "True"
      ]
     },
     "execution_count": 16,
     "metadata": {},
     "output_type": "execute_result"
    }
   ],
   "source": [
    "advised_configuration is None"
   ]
  },
  {
   "cell_type": "markdown",
   "metadata": {},
   "source": [
    "Also, take a look at the most important part - generated reports with stacks and guidenance/justifications:"
   ]
  },
  {
   "cell_type": "code",
   "execution_count": 17,
   "metadata": {},
   "outputs": [
    {
     "data": {
      "text/plain": [
       "[([{'score': 0.0}],\n",
       "  Project(pipfile=Pipfile(packages=Packages(develop=False, packages={'flask': PackageVersion(name='flask', version='*', develop=False, index=None, hashes=[], markers=None, _semantic_version=None, _version_spec=None), 'pyyaml': PackageVersion(name='pyyaml', version='*', develop=False, index=None, hashes=[], markers=None, _semantic_version=None, _version_spec=None)}), dev_packages=Packages(develop=True, packages={}), meta=PipfileMeta(sources={'pypi-org': Source(url='https://pypi.org/simple', name='pypi-org', verify_ssl=True, warehouse=True, warehouse_api_url=None)}, requires={}, pipenv=None, hash=None, pipfile_spec=None)), pipfile_lock=PipfileLock(packages=Packages(develop=False, packages={'flask': PackageVersion(name='flask', version='==1.0.2', develop=False, index=Source(url='https://pypi.org/simple', name='pypi-org', verify_ssl=True, warehouse=True, warehouse_api_url=None), hashes=[], markers=None, _semantic_version=Version('1.0.2'), _version_spec=None), 'werkzeug': PackageVersion(name='werkzeug', version='==0.14.1', develop=False, index=Source(url='https://pypi.org/simple', name='pypi-org', verify_ssl=True, warehouse=True, warehouse_api_url=None), hashes=[], markers=None, _semantic_version=Version('0.14.1'), _version_spec=None), 'jinja2': PackageVersion(name='jinja2', version='==2.10', develop=False, index=Source(url='https://pypi.org/simple', name='pypi-org', verify_ssl=True, warehouse=True, warehouse_api_url=None), hashes=[], markers=None, _semantic_version=Version('2.10.0'), _version_spec=None), 'itsdangerous': PackageVersion(name='itsdangerous', version='==1.1.0', develop=False, index=Source(url='https://pypi.org/simple', name='pypi-org', verify_ssl=True, warehouse=True, warehouse_api_url=None), hashes=[], markers=None, _semantic_version=Version('1.1.0'), _version_spec=None), 'click': PackageVersion(name='click', version='==7.0', develop=False, index=Source(url='https://pypi.org/simple', name='pypi-org', verify_ssl=True, warehouse=True, warehouse_api_url=None), hashes=[], markers=None, _semantic_version=Version('7.0.0'), _version_spec=None), 'markupsafe': PackageVersion(name='markupsafe', version='==1.1.1', develop=False, index=Source(url='https://pypi.org/simple', name='pypi-org', verify_ssl=True, warehouse=True, warehouse_api_url=None), hashes=[], markers=None, _semantic_version=Version('1.1.1'), _version_spec=None)}), dev_packages=Packages(develop=True, packages={}), meta=PipfileMeta(sources={'pypi-org': Source(url='https://pypi.org/simple', name='pypi-org', verify_ssl=True, warehouse=True, warehouse_api_url=None)}, requires={}, pipenv=None, hash=None, pipfile_spec=None), pipfile=Pipfile(packages=Packages(develop=False, packages={'flask': PackageVersion(name='flask', version='*', develop=False, index=None, hashes=[], markers=None, _semantic_version=None, _version_spec=None), 'pyyaml': PackageVersion(name='pyyaml', version='*', develop=False, index=None, hashes=[], markers=None, _semantic_version=None, _version_spec=None)}), dev_packages=Packages(develop=True, packages={}), meta=PipfileMeta(sources={'pypi-org': Source(url='https://pypi.org/simple', name='pypi-org', verify_ssl=True, warehouse=True, warehouse_api_url=None)}, requires={}, pipenv=None, hash=None, pipfile_spec=None))), runtime_environment=RuntimeEnvironment(hardware=HardwareInformation(cpu_family=None, cpu_model=None), operating_system=OperatingSystem(name=None, version=None), python_version=None, cuda_version=None, name=None), _graph_db=None, _workdir=None)),\n",
       " ([{'score': 0.0}],\n",
       "  Project(pipfile=Pipfile(packages=Packages(develop=False, packages={'flask': PackageVersion(name='flask', version='*', develop=False, index=None, hashes=[], markers=None, _semantic_version=None, _version_spec=None), 'pyyaml': PackageVersion(name='pyyaml', version='*', develop=False, index=None, hashes=[], markers=None, _semantic_version=None, _version_spec=None)}), dev_packages=Packages(develop=True, packages={}), meta=PipfileMeta(sources={'pypi-org': Source(url='https://pypi.org/simple', name='pypi-org', verify_ssl=True, warehouse=True, warehouse_api_url=None)}, requires={}, pipenv=None, hash=None, pipfile_spec=None)), pipfile_lock=PipfileLock(packages=Packages(develop=False, packages={'flask': PackageVersion(name='flask', version='==1.0.2', develop=False, index=Source(url='https://pypi.org/simple', name='pypi-org', verify_ssl=True, warehouse=True, warehouse_api_url=None), hashes=[], markers=None, _semantic_version=Version('1.0.2'), _version_spec=None), 'werkzeug': PackageVersion(name='werkzeug', version='==0.14.1', develop=False, index=Source(url='https://pypi.org/simple', name='pypi-org', verify_ssl=True, warehouse=True, warehouse_api_url=None), hashes=[], markers=None, _semantic_version=Version('0.14.1'), _version_spec=None), 'jinja2': PackageVersion(name='jinja2', version='==2.10', develop=False, index=Source(url='https://pypi.org/simple', name='pypi-org', verify_ssl=True, warehouse=True, warehouse_api_url=None), hashes=[], markers=None, _semantic_version=Version('2.10.0'), _version_spec=None), 'itsdangerous': PackageVersion(name='itsdangerous', version='==1.1.0', develop=False, index=Source(url='https://pypi.org/simple', name='pypi-org', verify_ssl=True, warehouse=True, warehouse_api_url=None), hashes=[], markers=None, _semantic_version=Version('1.1.0'), _version_spec=None), 'click': PackageVersion(name='click', version='==7.0', develop=False, index=Source(url='https://pypi.org/simple', name='pypi-org', verify_ssl=True, warehouse=True, warehouse_api_url=None), hashes=[], markers=None, _semantic_version=Version('7.0.0'), _version_spec=None), 'markupsafe': PackageVersion(name='markupsafe', version='==1.1.0', develop=False, index=Source(url='https://pypi.org/simple', name='pypi-org', verify_ssl=True, warehouse=True, warehouse_api_url=None), hashes=[], markers=None, _semantic_version=Version('1.1.0'), _version_spec=None)}), dev_packages=Packages(develop=True, packages={}), meta=PipfileMeta(sources={'pypi-org': Source(url='https://pypi.org/simple', name='pypi-org', verify_ssl=True, warehouse=True, warehouse_api_url=None)}, requires={}, pipenv=None, hash=None, pipfile_spec=None), pipfile=Pipfile(packages=Packages(develop=False, packages={'flask': PackageVersion(name='flask', version='*', develop=False, index=None, hashes=[], markers=None, _semantic_version=None, _version_spec=None), 'pyyaml': PackageVersion(name='pyyaml', version='*', develop=False, index=None, hashes=[], markers=None, _semantic_version=None, _version_spec=None)}), dev_packages=Packages(develop=True, packages={}), meta=PipfileMeta(sources={'pypi-org': Source(url='https://pypi.org/simple', name='pypi-org', verify_ssl=True, warehouse=True, warehouse_api_url=None)}, requires={}, pipenv=None, hash=None, pipfile_spec=None))), runtime_environment=RuntimeEnvironment(hardware=HardwareInformation(cpu_family=None, cpu_model=None), operating_system=OperatingSystem(name=None, version=None), python_version=None, cuda_version=None, name=None), _graph_db=None, _workdir=None)),\n",
       " ([{'score': 0.0}],\n",
       "  Project(pipfile=Pipfile(packages=Packages(develop=False, packages={'flask': PackageVersion(name='flask', version='*', develop=False, index=None, hashes=[], markers=None, _semantic_version=None, _version_spec=None), 'pyyaml': PackageVersion(name='pyyaml', version='*', develop=False, index=None, hashes=[], markers=None, _semantic_version=None, _version_spec=None)}), dev_packages=Packages(develop=True, packages={}), meta=PipfileMeta(sources={'pypi-org': Source(url='https://pypi.org/simple', name='pypi-org', verify_ssl=True, warehouse=True, warehouse_api_url=None)}, requires={}, pipenv=None, hash=None, pipfile_spec=None)), pipfile_lock=PipfileLock(packages=Packages(develop=False, packages={'flask': PackageVersion(name='flask', version='==1.0.2', develop=False, index=Source(url='https://pypi.org/simple', name='pypi-org', verify_ssl=True, warehouse=True, warehouse_api_url=None), hashes=[], markers=None, _semantic_version=Version('1.0.2'), _version_spec=None), 'werkzeug': PackageVersion(name='werkzeug', version='==0.14.1', develop=False, index=Source(url='https://pypi.org/simple', name='pypi-org', verify_ssl=True, warehouse=True, warehouse_api_url=None), hashes=[], markers=None, _semantic_version=Version('0.14.1'), _version_spec=None), 'jinja2': PackageVersion(name='jinja2', version='==2.10', develop=False, index=Source(url='https://pypi.org/simple', name='pypi-org', verify_ssl=True, warehouse=True, warehouse_api_url=None), hashes=[], markers=None, _semantic_version=Version('2.10.0'), _version_spec=None), 'itsdangerous': PackageVersion(name='itsdangerous', version='==1.1.0', develop=False, index=Source(url='https://pypi.org/simple', name='pypi-org', verify_ssl=True, warehouse=True, warehouse_api_url=None), hashes=[], markers=None, _semantic_version=Version('1.1.0'), _version_spec=None), 'click': PackageVersion(name='click', version='==7.0', develop=False, index=Source(url='https://pypi.org/simple', name='pypi-org', verify_ssl=True, warehouse=True, warehouse_api_url=None), hashes=[], markers=None, _semantic_version=Version('7.0.0'), _version_spec=None), 'markupsafe': PackageVersion(name='markupsafe', version='==1.0', develop=False, index=Source(url='https://pypi.org/simple', name='pypi-org', verify_ssl=True, warehouse=True, warehouse_api_url=None), hashes=[], markers=None, _semantic_version=Version('1.0.0'), _version_spec=None)}), dev_packages=Packages(develop=True, packages={}), meta=PipfileMeta(sources={'pypi-org': Source(url='https://pypi.org/simple', name='pypi-org', verify_ssl=True, warehouse=True, warehouse_api_url=None)}, requires={}, pipenv=None, hash=None, pipfile_spec=None), pipfile=Pipfile(packages=Packages(develop=False, packages={'flask': PackageVersion(name='flask', version='*', develop=False, index=None, hashes=[], markers=None, _semantic_version=None, _version_spec=None), 'pyyaml': PackageVersion(name='pyyaml', version='*', develop=False, index=None, hashes=[], markers=None, _semantic_version=None, _version_spec=None)}), dev_packages=Packages(develop=True, packages={}), meta=PipfileMeta(sources={'pypi-org': Source(url='https://pypi.org/simple', name='pypi-org', verify_ssl=True, warehouse=True, warehouse_api_url=None)}, requires={}, pipenv=None, hash=None, pipfile_spec=None))), runtime_environment=RuntimeEnvironment(hardware=HardwareInformation(cpu_family=None, cpu_model=None), operating_system=OperatingSystem(name=None, version=None), python_version=None, cuda_version=None, name=None), _graph_db=None, _workdir=None)),\n",
       " ([{'score': 0.0}],\n",
       "  Project(pipfile=Pipfile(packages=Packages(develop=False, packages={'flask': PackageVersion(name='flask', version='*', develop=False, index=None, hashes=[], markers=None, _semantic_version=None, _version_spec=None), 'pyyaml': PackageVersion(name='pyyaml', version='*', develop=False, index=None, hashes=[], markers=None, _semantic_version=None, _version_spec=None)}), dev_packages=Packages(develop=True, packages={}), meta=PipfileMeta(sources={'pypi-org': Source(url='https://pypi.org/simple', name='pypi-org', verify_ssl=True, warehouse=True, warehouse_api_url=None)}, requires={}, pipenv=None, hash=None, pipfile_spec=None)), pipfile_lock=PipfileLock(packages=Packages(develop=False, packages={'flask': PackageVersion(name='flask', version='==1.0.2', develop=False, index=Source(url='https://pypi.org/simple', name='pypi-org', verify_ssl=True, warehouse=True, warehouse_api_url=None), hashes=[], markers=None, _semantic_version=Version('1.0.2'), _version_spec=None), 'werkzeug': PackageVersion(name='werkzeug', version='==0.14.1', develop=False, index=Source(url='https://pypi.org/simple', name='pypi-org', verify_ssl=True, warehouse=True, warehouse_api_url=None), hashes=[], markers=None, _semantic_version=Version('0.14.1'), _version_spec=None), 'jinja2': PackageVersion(name='jinja2', version='==2.10', develop=False, index=Source(url='https://pypi.org/simple', name='pypi-org', verify_ssl=True, warehouse=True, warehouse_api_url=None), hashes=[], markers=None, _semantic_version=Version('2.10.0'), _version_spec=None), 'itsdangerous': PackageVersion(name='itsdangerous', version='==1.1.0', develop=False, index=Source(url='https://pypi.org/simple', name='pypi-org', verify_ssl=True, warehouse=True, warehouse_api_url=None), hashes=[], markers=None, _semantic_version=Version('1.1.0'), _version_spec=None), 'click': PackageVersion(name='click', version='==7.0', develop=False, index=Source(url='https://pypi.org/simple', name='pypi-org', verify_ssl=True, warehouse=True, warehouse_api_url=None), hashes=[], markers=None, _semantic_version=Version('7.0.0'), _version_spec=None), 'markupsafe': PackageVersion(name='markupsafe', version='==0.23', develop=False, index=Source(url='https://pypi.org/simple', name='pypi-org', verify_ssl=True, warehouse=True, warehouse_api_url=None), hashes=[], markers=None, _semantic_version=Version('0.23.0'), _version_spec=None)}), dev_packages=Packages(develop=True, packages={}), meta=PipfileMeta(sources={'pypi-org': Source(url='https://pypi.org/simple', name='pypi-org', verify_ssl=True, warehouse=True, warehouse_api_url=None)}, requires={}, pipenv=None, hash=None, pipfile_spec=None), pipfile=Pipfile(packages=Packages(develop=False, packages={'flask': PackageVersion(name='flask', version='*', develop=False, index=None, hashes=[], markers=None, _semantic_version=None, _version_spec=None), 'pyyaml': PackageVersion(name='pyyaml', version='*', develop=False, index=None, hashes=[], markers=None, _semantic_version=None, _version_spec=None)}), dev_packages=Packages(develop=True, packages={}), meta=PipfileMeta(sources={'pypi-org': Source(url='https://pypi.org/simple', name='pypi-org', verify_ssl=True, warehouse=True, warehouse_api_url=None)}, requires={}, pipenv=None, hash=None, pipfile_spec=None))), runtime_environment=RuntimeEnvironment(hardware=HardwareInformation(cpu_family=None, cpu_model=None), operating_system=OperatingSystem(name=None, version=None), python_version=None, cuda_version=None, name=None), _graph_db=None, _workdir=None)),\n",
       " ([{'score': 0.0}],\n",
       "  Project(pipfile=Pipfile(packages=Packages(develop=False, packages={'flask': PackageVersion(name='flask', version='*', develop=False, index=None, hashes=[], markers=None, _semantic_version=None, _version_spec=None), 'pyyaml': PackageVersion(name='pyyaml', version='*', develop=False, index=None, hashes=[], markers=None, _semantic_version=None, _version_spec=None)}), dev_packages=Packages(develop=True, packages={}), meta=PipfileMeta(sources={'pypi-org': Source(url='https://pypi.org/simple', name='pypi-org', verify_ssl=True, warehouse=True, warehouse_api_url=None)}, requires={}, pipenv=None, hash=None, pipfile_spec=None)), pipfile_lock=PipfileLock(packages=Packages(develop=False, packages={'flask': PackageVersion(name='flask', version='==1.0.2', develop=False, index=Source(url='https://pypi.org/simple', name='pypi-org', verify_ssl=True, warehouse=True, warehouse_api_url=None), hashes=[], markers=None, _semantic_version=Version('1.0.2'), _version_spec=None), 'werkzeug': PackageVersion(name='werkzeug', version='==0.14.1', develop=False, index=Source(url='https://pypi.org/simple', name='pypi-org', verify_ssl=True, warehouse=True, warehouse_api_url=None), hashes=[], markers=None, _semantic_version=Version('0.14.1'), _version_spec=None), 'jinja2': PackageVersion(name='jinja2', version='==2.10', develop=False, index=Source(url='https://pypi.org/simple', name='pypi-org', verify_ssl=True, warehouse=True, warehouse_api_url=None), hashes=[], markers=None, _semantic_version=Version('2.10.0'), _version_spec=None), 'itsdangerous': PackageVersion(name='itsdangerous', version='==1.1.0', develop=False, index=Source(url='https://pypi.org/simple', name='pypi-org', verify_ssl=True, warehouse=True, warehouse_api_url=None), hashes=[], markers=None, _semantic_version=Version('1.1.0'), _version_spec=None), 'click': PackageVersion(name='click', version='==6.7', develop=False, index=Source(url='https://pypi.org/simple', name='pypi-org', verify_ssl=True, warehouse=True, warehouse_api_url=None), hashes=[], markers=None, _semantic_version=Version('6.7.0'), _version_spec=None), 'markupsafe': PackageVersion(name='markupsafe', version='==1.1.1', develop=False, index=Source(url='https://pypi.org/simple', name='pypi-org', verify_ssl=True, warehouse=True, warehouse_api_url=None), hashes=[], markers=None, _semantic_version=Version('1.1.1'), _version_spec=None)}), dev_packages=Packages(develop=True, packages={}), meta=PipfileMeta(sources={'pypi-org': Source(url='https://pypi.org/simple', name='pypi-org', verify_ssl=True, warehouse=True, warehouse_api_url=None)}, requires={}, pipenv=None, hash=None, pipfile_spec=None), pipfile=Pipfile(packages=Packages(develop=False, packages={'flask': PackageVersion(name='flask', version='*', develop=False, index=None, hashes=[], markers=None, _semantic_version=None, _version_spec=None), 'pyyaml': PackageVersion(name='pyyaml', version='*', develop=False, index=None, hashes=[], markers=None, _semantic_version=None, _version_spec=None)}), dev_packages=Packages(develop=True, packages={}), meta=PipfileMeta(sources={'pypi-org': Source(url='https://pypi.org/simple', name='pypi-org', verify_ssl=True, warehouse=True, warehouse_api_url=None)}, requires={}, pipenv=None, hash=None, pipfile_spec=None))), runtime_environment=RuntimeEnvironment(hardware=HardwareInformation(cpu_family=None, cpu_model=None), operating_system=OperatingSystem(name=None, version=None), python_version=None, cuda_version=None, name=None), _graph_db=None, _workdir=None))]"
      ]
     },
     "execution_count": 17,
     "metadata": {},
     "output_type": "execute_result"
    }
   ],
   "source": [
    "report"
   ]
  },
  {
   "cell_type": "code",
   "execution_count": 18,
   "metadata": {},
   "outputs": [
    {
     "data": {
      "text/plain": [
       "{'requirements': {'packages': {'flask': '*', 'pyyaml': '*'},\n",
       "  'dev-packages': {},\n",
       "  'source': [{'url': 'https://pypi.org/simple',\n",
       "    'verify_ssl': True,\n",
       "    'name': 'pypi-org'}]},\n",
       " 'requirements_locked': {'_meta': {'sources': [{'url': 'https://pypi.org/simple',\n",
       "     'verify_ssl': True,\n",
       "     'name': 'pypi-org'}],\n",
       "   'requires': {},\n",
       "   'hash': {'sha256': 'e1114850139cb81c3f762470c4f7cd8023b173c336193601fc90dd711e3fb2de'},\n",
       "   'pipfile-spec': 6},\n",
       "  'default': {'flask': {'version': '==1.0.2',\n",
       "    'hashes': [],\n",
       "    'index': 'pypi-org'},\n",
       "   'werkzeug': {'version': '==0.14.1', 'hashes': [], 'index': 'pypi-org'},\n",
       "   'jinja2': {'version': '==2.10', 'hashes': [], 'index': 'pypi-org'},\n",
       "   'itsdangerous': {'version': '==1.1.0', 'hashes': [], 'index': 'pypi-org'},\n",
       "   'click': {'version': '==7.0', 'hashes': [], 'index': 'pypi-org'},\n",
       "   'markupsafe': {'version': '==1.1.1', 'hashes': [], 'index': 'pypi-org'}},\n",
       "  'develop': {}}}"
      ]
     },
     "execution_count": 18,
     "metadata": {},
     "output_type": "execute_result"
    }
   ],
   "source": [
    "# The best stack according to Thoth:\n",
    "report[0][1].to_dict()"
   ]
  },
  {
   "cell_type": "markdown",
   "metadata": {},
   "source": [
    "Most of the tools out there expect there is a fix for a CVE in a more recent version of a package, which is obviously, not always true. As Thoth is a pro-active system (we use bots), when there is a new vulnerability, it can directly recommend to *downgrade* or *upgrade* version of a package based on observations Thoth stores.\n",
    "\n",
    "The scenario above showed how Thoth works solely on package-level - we have considered how different packages affect \"security\" of a software stack (how many CVEs are present in a software stack). This way we have proved \"package-level guidenance\" for stacks. The previous scenario - scenario 2: `runtime-environment` showed guidenance on software stack level - when we have information how well a group of packages work together (performace related advises). The current implementation of Thoth combines these two input vectors - security guidenance and performance guidenance in the `STABLE` scoring function.\n",
    "\n",
    "Feel free to experiment with parameters to adviser:"
   ]
  },
  {
   "cell_type": "code",
   "execution_count": 19,
   "metadata": {},
   "outputs": [
    {
     "data": {
      "text/plain": [
       "['STABLE', 'TESTING', 'LATEST']"
      ]
     },
     "execution_count": 19,
     "metadata": {},
     "output_type": "execute_result"
    }
   ],
   "source": [
    "from thoth.adviser import RecommendationType\n",
    "\n",
    "# Set recommendation type to one of the following:\n",
    "[e.name for e in RecommendationType]"
   ]
  },
  {
   "cell_type": "code",
   "execution_count": 20,
   "metadata": {},
   "outputs": [
    {
     "data": {
      "text/plain": [
       "{'requirements': {'packages': {'flask': '*', 'pyyaml': '*'},\n",
       "  'dev-packages': {},\n",
       "  'source': [{'url': 'https://pypi.org/simple',\n",
       "    'verify_ssl': True,\n",
       "    'name': 'pypi'}],\n",
       "  'pipenv': {'allow_prereleases': True}},\n",
       " 'requirements_locked': None}"
      ]
     },
     "execution_count": 20,
     "metadata": {},
     "output_type": "execute_result"
    }
   ],
   "source": [
    "# Adjust version ranges of Python packages being installed. These versions are resolved using\n",
    "# pip's internal algorithm, so anything which is compatible with PEP-440 (and Pipfile compatible\n",
    "# for Pipfile inputs) works out of box. Note this resolution is not done by installing\n",
    "# dependencies (as in case of Pip/Pipenv), but there is implemented resolver on top of\n",
    "# graph database which can resolve dependencies much faster as all the data are pre-computed.\n",
    "\n",
    "PIPFILE_STR = \"\"\"\n",
    "[[source]]\n",
    "url = \"https://pypi.org/simple\"\n",
    "verify_ssl = true\n",
    "name = \"pypi\"\n",
    "\n",
    "[packages]\n",
    "flask = \"*\"\n",
    "pyyaml = \"*\"\n",
    "\n",
    "# Allow pre-releases.\n",
    "[pipenv]\n",
    "allow_prereleases = true\n",
    "\"\"\"\n",
    "\n",
    "# In the example above, there is also used Pipfile.lock. Actually, Pipfile.lock is not used in\n",
    "# recommendations, but Thoth stores it internally to track user's stacks, their evolution and\n",
    "# changes to give better guidenance.\n",
    "project = Project.from_strings(PIPFILE_STR)\n",
    "project.to_dict()\n",
    "\n",
    "# Mind dependencies resolved in solver run, unknown dependencies to Thoth, obviously, cannot be resolved by Thoth."
   ]
  },
  {
   "cell_type": "markdown",
   "metadata": {},
   "source": [
    "All of the above can be accomplished using Thamos CLI (as the above is more in-depth description what Thoth does on lower level). From user's perspective a user just installs `Thamos`, adjusts configuration via `thamos config` (automatic discovery of available hardware is performed) and issues `thamos advise` which talks to a Thoth deployment. All of the above is transparent to the user, the report is shown in a well formatted table. [Follow README instructions in thamos repo](https://github.com/thoth-station/thamos/tree/master/examples/scoring/) to experience this on your own.\n"
   ]
  },
  {
   "cell_type": "markdown",
   "metadata": {},
   "source": [
    "Happy hacking! ;-)"
   ]
  },
  {
   "cell_type": "code",
   "execution_count": 21,
   "metadata": {},
   "outputs": [
    {
     "name": "stderr",
     "output_type": "stream",
     "text": [
      "2019-03-13 09:07:02,463 [20383] INFO     root:126: Logging to a Sentry instance is turned off\n",
      "2019-03-13 09:07:02,464 [20383] INFO     root:148: Logging to rsyslog endpoint is turned off\n"
     ]
    },
    {
     "data": {
      "text/html": [
       "<div>\n",
       "<style scoped>\n",
       "    .dataframe tbody tr th:only-of-type {\n",
       "        vertical-align: middle;\n",
       "    }\n",
       "\n",
       "    .dataframe tbody tr th {\n",
       "        vertical-align: top;\n",
       "    }\n",
       "\n",
       "    .dataframe thead th {\n",
       "        text-align: right;\n",
       "    }\n",
       "</style>\n",
       "<table border=\"1\" class=\"dataframe\">\n",
       "  <thead>\n",
       "    <tr style=\"text-align: right;\">\n",
       "      <th></th>\n",
       "      <th>package</th>\n",
       "      <th>version</th>\n",
       "      <th>importable</th>\n",
       "    </tr>\n",
       "  </thead>\n",
       "  <tbody>\n",
       "    <tr>\n",
       "      <th>0</th>\n",
       "      <td>thoth.adviser</td>\n",
       "      <td>0.3.0</td>\n",
       "      <td>True</td>\n",
       "    </tr>\n",
       "    <tr>\n",
       "      <th>1</th>\n",
       "      <td>thoth.analyzer</td>\n",
       "      <td>0.1.2</td>\n",
       "      <td>True</td>\n",
       "    </tr>\n",
       "    <tr>\n",
       "      <th>2</th>\n",
       "      <td>thoth.common</td>\n",
       "      <td>0.7.1</td>\n",
       "      <td>True</td>\n",
       "    </tr>\n",
       "    <tr>\n",
       "      <th>3</th>\n",
       "      <td>thoth.lab</td>\n",
       "      <td>0.0.3</td>\n",
       "      <td>True</td>\n",
       "    </tr>\n",
       "    <tr>\n",
       "      <th>4</th>\n",
       "      <td>thoth.package_extract</td>\n",
       "      <td>1.0.1</td>\n",
       "      <td>True</td>\n",
       "    </tr>\n",
       "    <tr>\n",
       "      <th>5</th>\n",
       "      <td>thoth.python</td>\n",
       "      <td>0.4.6</td>\n",
       "      <td>True</td>\n",
       "    </tr>\n",
       "    <tr>\n",
       "      <th>6</th>\n",
       "      <td>thoth.solver</td>\n",
       "      <td>1.1.0</td>\n",
       "      <td>True</td>\n",
       "    </tr>\n",
       "    <tr>\n",
       "      <th>7</th>\n",
       "      <td>thoth.storages</td>\n",
       "      <td>0.9.6</td>\n",
       "      <td>True</td>\n",
       "    </tr>\n",
       "    <tr>\n",
       "      <th>8</th>\n",
       "      <td>thoth.worker</td>\n",
       "      <td>0.0.2</td>\n",
       "      <td>True</td>\n",
       "    </tr>\n",
       "  </tbody>\n",
       "</table>\n",
       "</div>"
      ],
      "text/plain": [
       "                 package version  importable\n",
       "0          thoth.adviser   0.3.0        True\n",
       "1         thoth.analyzer   0.1.2        True\n",
       "2           thoth.common   0.7.1        True\n",
       "3              thoth.lab   0.0.3        True\n",
       "4  thoth.package_extract   1.0.1        True\n",
       "5           thoth.python   0.4.6        True\n",
       "6           thoth.solver   1.1.0        True\n",
       "7         thoth.storages   0.9.6        True\n",
       "8           thoth.worker   0.0.2        True"
      ]
     },
     "execution_count": 21,
     "metadata": {},
     "output_type": "execute_result"
    }
   ],
   "source": [
    "from thoth.lab import packages_info\n",
    "\n",
    "# Let's state Thoth's package versions for reproducible next runs of this Jupyter Notebook.\n",
    "packages_info()"
   ]
  }
 ],
 "metadata": {
  "hide_input": false,
  "kernelspec": {
   "display_name": "Python 3",
   "language": "python",
   "name": "python3"
  },
  "language_info": {
   "codemirror_mode": {
    "name": "ipython",
    "version": 3
   },
   "file_extension": ".py",
   "mimetype": "text/x-python",
   "name": "python",
   "nbconvert_exporter": "python",
   "pygments_lexer": "ipython3",
   "version": "3.6.8"
  },
  "varInspector": {
   "cols": {
    "lenName": 16,
    "lenType": 16,
    "lenVar": 40
   },
   "kernels_config": {
    "python": {
     "delete_cmd_postfix": "",
     "delete_cmd_prefix": "del ",
     "library": "var_list.py",
     "varRefreshCmd": "print(var_dic_list())"
    },
    "r": {
     "delete_cmd_postfix": ") ",
     "delete_cmd_prefix": "rm(",
     "library": "var_list.r",
     "varRefreshCmd": "cat(var_dic_list()) "
    }
   },
   "types_to_exclude": [
    "module",
    "function",
    "builtin_function_or_method",
    "instance",
    "_Feature"
   ],
   "window_display": false
  }
 },
 "nbformat": 4,
 "nbformat_minor": 2
}
