{
 "cells": [
  {
   "cell_type": "markdown",
   "metadata": {},
   "source": [
    "# Using Ceph from Jupyter notebooks"
   ]
  },
  {
   "cell_type": "markdown",
   "metadata": {},
   "source": [
    "This notebook will guide you on how to interact with Ceph that is provided by DataHub team directly from Jupyter notebooks.\n",
    "\n",
    "In order to use Ceph, there needs to be installed `thoth-storages` package that provides an adapter for interacting with Ceph. There are implemented also other adapters that will help you interact with other persistent parts, but we will focus strictly on Ceph in this notebook."
   ]
  },
  {
   "cell_type": "code",
   "execution_count": 1,
   "metadata": {},
   "outputs": [],
   "source": [
    "from thoth.storages import CephStore"
   ]
  },
  {
   "cell_type": "markdown",
   "metadata": {},
   "source": [
    "**Warning:** If you want to use Thoth directly, please use adapters that encapsulate Ceph handling and ensure data consistency, such as `SolverResultsStore`, `BuildLogsStore` or `AnalysisResultsStore`. This notebook presents low level adapter API.\n",
    "\n",
    "To check what methods the Ceph adapter provides, we can simply check Python documentation."
   ]
  },
  {
   "cell_type": "code",
   "execution_count": 2,
   "metadata": {},
   "outputs": [
    {
     "name": "stdout",
     "output_type": "stream",
     "text": [
      "Help on class CephStore in module thoth.storages.ceph:\n",
      "\n",
      "class CephStore(thoth.storages.base.StorageBase)\n",
      " |  Adapter for storing and retrieving data from Ceph - low level API.\n",
      " |  \n",
      " |  Method resolution order:\n",
      " |      CephStore\n",
      " |      thoth.storages.base.StorageBase\n",
      " |      builtins.object\n",
      " |  \n",
      " |  Methods defined here:\n",
      " |  \n",
      " |  __init__(self, result_type, *, host:str=None, key_id:str=None, secret_key:str=None, bucket:str=None, region:str=None)\n",
      " |      Initialize self.  See help(type(self)) for accurate signature.\n",
      " |  \n",
      " |  connect(self) -> None\n",
      " |      Create a connection to the remote Ceph.\n",
      " |  \n",
      " |  document_exists(self, document_id:str) -> bool\n",
      " |      Check if the there is an object with the given key in bucket, does only HEAD request.\n",
      " |  \n",
      " |  get_document_listing(self) -> Generator[str, NoneType, NoneType]\n",
      " |      Get listing of documents stored on the Ceph.\n",
      " |  \n",
      " |  is_connected(self) -> bool\n",
      " |      Check whether adapter is already connected to the remote Ceph storage.\n",
      " |  \n",
      " |  iterate_results(self) -> Generator[tuple, NoneType, NoneType]\n",
      " |      Iterate over results available in the Ceph.\n",
      " |  \n",
      " |  retrieve_blob(self, object_key:str) -> bytes\n",
      " |      Retrieve remote object content.\n",
      " |  \n",
      " |  retrieve_document(self, document_id:str) -> dict\n",
      " |      Retrieve a dictionary stored as JSON from S3.\n",
      " |  \n",
      " |  store_blob(self, blob:bytes, object_key:str) -> dict\n",
      " |      Store a blob on Ceph.\n",
      " |  \n",
      " |  store_document(self, document:dict, document_id:str) -> dict\n",
      " |      Store a document (dict) onto Ceph.\n",
      " |  \n",
      " |  ----------------------------------------------------------------------\n",
      " |  Static methods defined here:\n",
      " |  \n",
      " |  dict2blob(dictionary:dict) -> bytes\n",
      " |      Encode a dictionary to a blob so it can be stored on Ceph.\n",
      " |  \n",
      " |  ----------------------------------------------------------------------\n",
      " |  Data and other attributes defined here:\n",
      " |  \n",
      " |  __abstractmethods__ = frozenset()\n",
      " |  \n",
      " |  ----------------------------------------------------------------------\n",
      " |  Data descriptors inherited from thoth.storages.base.StorageBase:\n",
      " |  \n",
      " |  __dict__\n",
      " |      dictionary for instance variables (if defined)\n",
      " |  \n",
      " |  __weakref__\n",
      " |      list of weak references to the object (if defined)\n",
      "\n"
     ]
    }
   ],
   "source": [
    "help(CephStore)"
   ]
  },
  {
   "cell_type": "markdown",
   "metadata": {},
   "source": [
    "The constructor accepts all the parameters that can be supplied eigher explicitly on adapter instantiation or there can be used environment variables (preferred). The ones supplied to constructor have higher priority. Let's check the code of constructor to see which environment variables are applicable:"
   ]
  },
  {
   "cell_type": "code",
   "execution_count": 3,
   "metadata": {},
   "outputs": [
    {
     "name": "stdout",
     "output_type": "stream",
     "text": [
      "    def __init__(self, result_type, *,\n",
      "                 host: str=None, key_id: str=None, secret_key: str=None, bucket: str=None, region: str=None):\n",
      "        super().__init__()\n",
      "        self.deployment_name = os.environ['THOTH_DEPLOYMENT_NAME']\n",
      "        self.host = host or os.environ['THOTH_S3_ENDPOINT_URL']\n",
      "        self.key_id = key_id or os.environ['THOTH_CEPH_KEY_ID']\n",
      "        self.secret_key = secret_key or os.environ['THOTH_CEPH_SECRET_KEY']\n",
      "        self.bucket = bucket or os.environ['THOTH_CEPH_BUCKET']\n",
      "        self.region = region or os.getenv('THOTH_CEPH_REGION', None)\n",
      "        self.result_type = result_type\n",
      "        self._s3 = None\n",
      "\n",
      "        assert self.result_type, \"Result type cannot be empty: {}\".format(self.result_type)\n",
      "        assert self.deployment_name, \"Deployment name has to be set, got {}\".format(self.deployment_name)\n",
      "\n",
      "        self.prefix = \"{}/{}/\".format(self.deployment_name, self.result_type)\n",
      "\n"
     ]
    }
   ],
   "source": [
    "import inspect\n",
    "\n",
    "lines = inspect.getsourcelines(CephStore.__init__)\n",
    "print(\"\".join(lines[0]))"
   ]
  },
  {
   "cell_type": "markdown",
   "metadata": {},
   "source": [
    "As we don't want to expose credentials in this notebook that is availble publicly, we assume that environment variables are present inside running Jupyter notebook and we can easily instantiate adapter instance and make a connection to Ceph:"
   ]
  },
  {
   "cell_type": "code",
   "execution_count": 4,
   "metadata": {},
   "outputs": [],
   "source": [
    "import os\n",
    "\n",
    "adapter = CephStore(result_type='testing')\n",
    "adapter.connect()"
   ]
  },
  {
   "cell_type": "markdown",
   "metadata": {},
   "source": [
    "Let's check the connection status:"
   ]
  },
  {
   "cell_type": "code",
   "execution_count": 5,
   "metadata": {},
   "outputs": [
    {
     "data": {
      "text/plain": [
       "True"
      ]
     },
     "execution_count": 5,
     "metadata": {},
     "output_type": "execute_result"
    }
   ],
   "source": [
    "adapter.is_connected()"
   ]
  },
  {
   "cell_type": "markdown",
   "metadata": {},
   "source": [
    "Let's check whether our document `foo` exists on Ceph:"
   ]
  },
  {
   "cell_type": "code",
   "execution_count": 6,
   "metadata": {},
   "outputs": [
    {
     "data": {
      "text/plain": [
       "False"
      ]
     },
     "execution_count": 6,
     "metadata": {},
     "output_type": "execute_result"
    }
   ],
   "source": [
    "adapter.document_exists('foo')"
   ]
  },
  {
   "cell_type": "markdown",
   "metadata": {},
   "source": [
    "As it is not already present, let's create one with some content:"
   ]
  },
  {
   "cell_type": "code",
   "execution_count": 7,
   "metadata": {},
   "outputs": [
    {
     "data": {
      "text/plain": [
       "{'ETag': '\"b7d144531216255307a634d8fe75361e\"',\n",
       " 'ResponseMetadata': {'HTTPHeaders': {'accept-ranges': 'bytes',\n",
       "   'content-length': '0',\n",
       "   'date': 'Thu, 15 Mar 2018 09:45:01 GMT',\n",
       "   'etag': '\"b7d144531216255307a634d8fe75361e\"',\n",
       "   'x-amz-request-id': 'tx0000000000000000019c0-005aaa409d-93c8ce-default'},\n",
       "  'HTTPStatusCode': 200,\n",
       "  'HostId': '',\n",
       "  'RequestId': 'tx0000000000000000019c0-005aaa409d-93c8ce-default',\n",
       "  'RetryAttempts': 0}}"
      ]
     },
     "execution_count": 7,
     "metadata": {},
     "output_type": "execute_result"
    }
   ],
   "source": [
    "adapter.store_document({'some': 'document'}, 'foo')"
   ]
  },
  {
   "cell_type": "code",
   "execution_count": 8,
   "metadata": {},
   "outputs": [
    {
     "data": {
      "text/plain": [
       "True"
      ]
     },
     "execution_count": 8,
     "metadata": {},
     "output_type": "execute_result"
    }
   ],
   "source": [
    "adapter.document_exists('foo')"
   ]
  },
  {
   "cell_type": "markdown",
   "metadata": {},
   "source": [
    "Now we can try to retrieve it:"
   ]
  },
  {
   "cell_type": "code",
   "execution_count": 9,
   "metadata": {},
   "outputs": [
    {
     "data": {
      "text/plain": [
       "{'some': 'document'}"
      ]
     },
     "execution_count": 9,
     "metadata": {},
     "output_type": "execute_result"
    }
   ],
   "source": [
    "adapter.retrieve_document('foo')"
   ]
  },
  {
   "cell_type": "markdown",
   "metadata": {},
   "source": [
    "As Ceph is an object store, Ceph adapter also provides low-level operations that work directly on bytes so you can easily store documents that are not dictionaries, such as text files, images or anything alse:"
   ]
  },
  {
   "cell_type": "code",
   "execution_count": 10,
   "metadata": {},
   "outputs": [
    {
     "data": {
      "text/plain": [
       "{'ETag': '\"97214f63224bc1e9cc4da377aadce7c7\"',\n",
       " 'ResponseMetadata': {'HTTPHeaders': {'accept-ranges': 'bytes',\n",
       "   'content-length': '0',\n",
       "   'date': 'Thu, 15 Mar 2018 09:45:08 GMT',\n",
       "   'etag': '\"97214f63224bc1e9cc4da377aadce7c7\"',\n",
       "   'x-amz-request-id': 'tx0000000000000000019c3-005aaa40a4-93c8ce-default'},\n",
       "  'HTTPStatusCode': 200,\n",
       "  'HostId': '',\n",
       "  'RequestId': 'tx0000000000000000019c3-005aaa40a4-93c8ce-default',\n",
       "  'RetryAttempts': 0}}"
      ]
     },
     "execution_count": 10,
     "metadata": {},
     "output_type": "execute_result"
    }
   ],
   "source": [
    "adapter.store_blob('This is some text'.encode(), 'bar')"
   ]
  },
  {
   "cell_type": "code",
   "execution_count": 11,
   "metadata": {},
   "outputs": [
    {
     "data": {
      "text/plain": [
       "'This is some text'"
      ]
     },
     "execution_count": 11,
     "metadata": {},
     "output_type": "execute_result"
    }
   ],
   "source": [
    "adapter.retrieve_blob('bar').decode()"
   ]
  },
  {
   "cell_type": "markdown",
   "metadata": {},
   "source": [
    "One can also get a listing of all acvailable objects stored on Ceph with appropriate keys:"
   ]
  },
  {
   "cell_type": "code",
   "execution_count": 12,
   "metadata": {},
   "outputs": [
    {
     "data": {
      "text/plain": [
       "['bar', 'foo']"
      ]
     },
     "execution_count": 12,
     "metadata": {},
     "output_type": "execute_result"
    }
   ],
   "source": [
    "list(adapter.get_document_listing())"
   ]
  }
 ],
 "metadata": {
  "kernelspec": {
   "display_name": "Python 3",
   "language": "python",
   "name": "python3"
  },
  "language_info": {
   "codemirror_mode": {
    "name": "ipython",
    "version": 3
   },
   "file_extension": ".py",
   "mimetype": "text/x-python",
   "name": "python",
   "nbconvert_exporter": "python",
   "pygments_lexer": "ipython3",
   "version": "3.6.3"
  }
 },
 "nbformat": 4,
 "nbformat_minor": 2
}
