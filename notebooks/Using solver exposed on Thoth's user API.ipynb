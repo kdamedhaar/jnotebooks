{
 "cells": [
  {
   "cell_type": "markdown",
   "metadata": {},
   "source": [
    "# Interacting with Thoth"
   ]
  },
  {
   "cell_type": "markdown",
   "metadata": {},
   "source": [
    "Deployed Thoth, as of now, offers one API service for users. This endpoint exposes all the actions that can be done with Thoth, how one can interact with Thoth, how to consume data, use cluster for computation by supplying work and so. The API service exposes OpenAPI/Swagger documentation in a form of JSON so one can use Swagger user UIs, testing and tooling aroung OpenAPI/Swagger available out there.\n",
    "\n",
    "The Swagger documentation is available under `/api/<version>/swagger.json` endpoint. In this Jupyter notebook one can see how to interact with the cluster, how to check responses and how to get cluster or job statuses. Let's start with defining Thoth's user API service where our Thoth deployment sits."
   ]
  },
  {
   "cell_type": "code",
   "execution_count": 1,
   "metadata": {},
   "outputs": [],
   "source": [
    "# Do not make internal URLs public, use url.corp.redhat.com to avoid exposing insternal URLs.\n",
    "\n",
    "THOTH_USER_API = \"https://url.corp.redhat.com/thoth-sbu\""
   ]
  },
  {
   "cell_type": "markdown",
   "metadata": {},
   "source": [
    "If you access the URL defined above, you will get Swagger UI that will give you a documentation of the current user API service. Feel free to interact with Thoth via UI as well.\n",
    "\n",
    "Now let's make some redirection logic not to expose internal URL. We will use https://url.corp.redhat.com/ service to make redirection to actual Thoth deployment. First, let's check where the actual deployment sits."
   ]
  },
  {
   "cell_type": "code",
   "execution_count": 2,
   "metadata": {},
   "outputs": [],
   "source": [
    "import requests\n",
    "from urllib.parse import urljoin\n",
    "import urllib3\n",
    "\n",
    "# Let's supress insecure connectio warning.\n",
    "urllib3.disable_warnings(urllib3.exceptions.InsecureRequestWarning)\n",
    "\n",
    "# Get actual Thoth user API location based on redirect headers.\n",
    "response = requests.get(\"https://url.corp.redhat.com/thoth-sbu\", verify=False, allow_redirects=False)\n",
    "THOTH_USER_API = response.headers['Location']"
   ]
  },
  {
   "cell_type": "markdown",
   "metadata": {},
   "source": [
    "In this Jupyter notebook we will use a library called [bravado](http://bravado.readthedocs.io/en/latest) that is a client for API endpoints defined by OpenAPI/Swagger specification. However, you can also use libraries such as [requests](http://docs.python-requests.org/en/master/) to interact with endpoints directly.\n",
    "\n",
    "Let's instantiate the client object that encapsulates all the logic for us:"
   ]
  },
  {
   "cell_type": "code",
   "execution_count": 3,
   "metadata": {},
   "outputs": [],
   "source": [
    "from bravado.client import SwaggerClient\n",
    "\n",
    "client = SwaggerClient.from_url(\n",
    "    urljoin(THOTH_USER_API, '/api/v1/swagger.json'),\n",
    "    config={\n",
    "        'also_return_response': True\n",
    "    }\n",
    ")"
   ]
  },
  {
   "cell_type": "markdown",
   "metadata": {},
   "source": [
    "Thoth user API exposes models that can be used to interact with the API. Let's get some models and let's check what do they offer."
   ]
  },
  {
   "cell_type": "code",
   "execution_count": 4,
   "metadata": {},
   "outputs": [],
   "source": [
    "Log = client.get_model('Log')\n",
    "Packages = client.get_model('Packages')"
   ]
  },
  {
   "cell_type": "code",
   "execution_count": 5,
   "metadata": {},
   "outputs": [
    {
     "name": "stdout",
     "output_type": "stream",
     "text": [
      "Help on class Packages in module abc:\n",
      "\n",
      "class Packages(bravado_core.model.Model)\n",
      " |  Attributes:\n",
      " |  \n",
      " |  requirements: string - Requirements as stated in the requirements.txt file.\n",
      " |  \n",
      " |  Method resolution order:\n",
      " |      Packages\n",
      " |      bravado_core.model.Model\n",
      " |      builtins.object\n",
      " |  \n",
      " |  Data and other attributes defined here:\n",
      " |  \n",
      " |  __abstractmethods__ = frozenset()\n",
      " |  \n",
      " |  __docstring__ = 'Attributes:\\n\\n\\trequirements: string - Requirements ...\n",
      " |  \n",
      " |  ----------------------------------------------------------------------\n",
      " |  Methods inherited from bravado_core.model.Model:\n",
      " |  \n",
      " |  __contains__(self, obj)\n",
      " |      Has a property set (including additional).\n",
      " |  \n",
      " |  __delattr__(self, attr_name)\n",
      " |      Deleting an attribute deletes the property (see __delitem__).\n",
      " |      \n",
      " |      :type attr_name: str\n",
      " |  \n",
      " |  __delitem__(self, property_name)\n",
      " |      Unset a property by name.\n",
      " |      \n",
      " |      Additional properties will be deleted alltogether. Properties defined\n",
      " |      in the spec will be set to ``None``.\n",
      " |      \n",
      " |      :type attr_name: str\n",
      " |  \n",
      " |  __dir__(self)\n",
      " |      Return only property names (including additional).\n",
      " |  \n",
      " |  __eq__(self, other)\n",
      " |      Check for equality with another instance.\n",
      " |      \n",
      " |      Two model instances are equal if they have the same type and the same\n",
      " |      properties and values (including additional properties).\n",
      " |  \n",
      " |  __getattr__(self, attr_name)\n",
      " |      Only search through properties if attribute not found normally.\n",
      " |      \n",
      " |      :type attr_name: str\n",
      " |  \n",
      " |  __getitem__(self, property_name)\n",
      " |      Get a property value by name.\n",
      " |      \n",
      " |      :type attr_name: str\n",
      " |  \n",
      " |  __init__(self, **kwargs)\n",
      " |      Initialize from property values in keyword arguments.\n",
      " |      \n",
      " |      :param \\**kwargs: Property values by name.\n",
      " |  \n",
      " |  __iter__(self)\n",
      " |      Iterate over property names (including additional).\n",
      " |  \n",
      " |  __repr__(self)\n",
      " |      Return properties (including additional).\n",
      " |  \n",
      " |  __setattr__(self, attr_name, val)\n",
      " |      Setting an attribute assigns a value to a property.\n",
      " |      \n",
      " |      :type attr_name: str\n",
      " |  \n",
      " |  __setitem__(self, property_name, val)\n",
      " |      Set a property value by name.\n",
      " |      \n",
      " |      :type attr_name: str\n",
      " |  \n",
      " |  marshal(self)\n",
      " |  \n",
      " |  ----------------------------------------------------------------------\n",
      " |  Class methods inherited from bravado_core.model.Model:\n",
      " |  \n",
      " |  isinstance(obj) from bravado_core.model.ModelMeta\n",
      " |  \n",
      " |  unmarshal(val) from bravado_core.model.ModelMeta\n",
      " |  \n",
      " |  ----------------------------------------------------------------------\n",
      " |  Data descriptors inherited from bravado_core.model.Model:\n",
      " |  \n",
      " |  __dict__\n",
      " |      dictionary for instance variables (if defined)\n",
      " |  \n",
      " |  __weakref__\n",
      " |      list of weak references to the object (if defined)\n",
      " |  \n",
      " |  ----------------------------------------------------------------------\n",
      " |  Data and other attributes inherited from bravado_core.model.Model:\n",
      " |  \n",
      " |  __hash__ = None\n",
      "\n"
     ]
    }
   ],
   "source": [
    "help(Packages)"
   ]
  },
  {
   "cell_type": "markdown",
   "metadata": {},
   "source": [
    "As you can see, besides inherited attributes and methods, the `Packages` model also provides requirement property that, based on the docstring, is a string that represents stack requirements as they would be stated in the `requirements.txt` file.\n",
    "\n",
    "You can also browse intaractive pop-up via calling (shown in the pannel bellow in the Jupyter notebook UI):"
   ]
  },
  {
   "cell_type": "code",
   "execution_count": 6,
   "metadata": {},
   "outputs": [],
   "source": [
    "Packages?"
   ]
  },
  {
   "cell_type": "markdown",
   "metadata": {},
   "source": [
    "Now, let's try to instantiate such model:"
   ]
  },
  {
   "cell_type": "code",
   "execution_count": 7,
   "metadata": {},
   "outputs": [],
   "source": [
    "packages = Packages(requirements=\"tensorflow==1.6.0\")"
   ]
  },
  {
   "cell_type": "markdown",
   "metadata": {},
   "source": [
    "And call the remote endpoint called `solve` that will try to find all packages that can be installed with the given package (based on requirements stated in the `tensorflow` package in version 1.6.0 and all the transitive dependencies):"
   ]
  },
  {
   "cell_type": "code",
   "execution_count": 8,
   "metadata": {},
   "outputs": [],
   "source": [
    "_, response = client.management.solve(\n",
    "    solver='fridex/thoth-solver-fc27',  # Solver image to be used.\n",
    "    packages=packages,       # Our instantiated Package model holding requirements as stated in requirements.txt file.\n",
    "    debug=True,        # We can optionally turn on debug mode to keep track of actions that are done by solver image.\n",
    "    transitive=True    # Inspect also all the transitive dependencies of \n",
    ").result()"
   ]
  },
  {
   "cell_type": "markdown",
   "metadata": {},
   "source": [
    "Now let's check the response from the user API service. If everything went well, the remote API should response with 202 HTTP status code:"
   ]
  },
  {
   "cell_type": "code",
   "execution_count": 9,
   "metadata": {},
   "outputs": [],
   "source": [
    "assert response.status_code == 202, \"The HTTP status code was not 202 but {:d}\".format(response.status_code)"
   ]
  },
  {
   "cell_type": "markdown",
   "metadata": {},
   "source": [
    "And the response itself should hold all the relevant information such as parameters supplied (also the ones that were not explicitly supplied) and `pod_id` that is ID of the pod in which the solver image is run:"
   ]
  },
  {
   "cell_type": "code",
   "execution_count": 10,
   "metadata": {},
   "outputs": [
    {
     "name": "stdout",
     "output_type": "stream",
     "text": [
      "{'parameters': {'cpu_request': None,\n",
      "                'debug': True,\n",
      "                'memory_request': None,\n",
      "                'packages': 'tensorflow==1.6.0',\n",
      "                'solver': 'fridex/thoth-solver-fc27'},\n",
      " 'pod_id': 'fridex-thoth-solver-fc27-thoth-solver-fc27-4fnz8'}\n"
     ]
    }
   ],
   "source": [
    "from pprint import pprint\n",
    "\n",
    "pprint(response.json())\n",
    "pod_id = response.json()['pod_id']"
   ]
  },
  {
   "cell_type": "markdown",
   "metadata": {},
   "source": [
    "Now let's try to check status of the pod:"
   ]
  },
  {
   "cell_type": "code",
   "execution_count": 11,
   "metadata": {},
   "outputs": [
    {
     "name": "stdout",
     "output_type": "stream",
     "text": [
      "{'pod_id': 'fridex-thoth-solver-fc27-thoth-solver-fc27-4fnz8',\n",
      " 'status': {'waiting': {'reason': 'ContainerCreating'}}}\n"
     ]
    }
   ],
   "source": [
    "_, response = client.management.get_pod_status(pod_id=pod_id).result()\n",
    "pprint(response.json())"
   ]
  },
  {
   "cell_type": "markdown",
   "metadata": {},
   "source": [
    "Thoth-core scheduled a pod in thoth-middleend namespace (a restricted environment). Let's wait for container creation to finish:"
   ]
  },
  {
   "cell_type": "code",
   "execution_count": 12,
   "metadata": {},
   "outputs": [
    {
     "name": "stdout",
     "output_type": "stream",
     "text": [
      "Waiting for solver to start analyzing packages...\n",
      "Waiting for solver to start analyzing packages...\n",
      "Waiting for solver to start analyzing packages...\n",
      "Waiting for solver to start analyzing packages...\n",
      "Waiting for solver to start analyzing packages...\n",
      "Waiting for solver to start analyzing packages...\n",
      "Waiting for solver to start analyzing packages...\n",
      "Waiting for solver to start analyzing packages...\n"
     ]
    }
   ],
   "source": [
    "from time import sleep\n",
    "\n",
    "while 'waiting' in response.json()['status']:\n",
    "    print(\"Waiting for solver to start analyzing packages...\")\n",
    "    sleep(2)\n",
    "    _, response = client.management.get_pod_status(pod_id=pod_id).result()"
   ]
  },
  {
   "cell_type": "markdown",
   "metadata": {},
   "source": [
    "As of now, the solver started analyzing dependencies:"
   ]
  },
  {
   "cell_type": "code",
   "execution_count": 13,
   "metadata": {},
   "outputs": [
    {
     "name": "stdout",
     "output_type": "stream",
     "text": [
      "{'pod_id': 'fridex-thoth-solver-fc27-thoth-solver-fc27-4fnz8',\n",
      " 'status': {'running': {'startedAt': '2018-03-13T10:49:48Z'}}}\n"
     ]
    }
   ],
   "source": [
    "pprint(response.json())"
   ]
  },
  {
   "cell_type": "markdown",
   "metadata": {},
   "source": [
    "As we started the solver in verbose mode, we can check what is going on right now:"
   ]
  },
  {
   "cell_type": "code",
   "execution_count": 14,
   "metadata": {},
   "outputs": [],
   "source": [
    "_, response = client.management.get_pod_log(pod_id=pod_id).result()"
   ]
  },
  {
   "cell_type": "markdown",
   "metadata": {},
   "source": [
    "Now let's print last ten lines of the pod log:"
   ]
  },
  {
   "cell_type": "code",
   "execution_count": 15,
   "metadata": {},
   "outputs": [
    {
     "data": {
      "text/plain": [
       "[\"1: [2018-03-13 10:49:51,581] thoth.solver.solvers.base solve:232: Fetching releases for: tensorflow [('==', '1.6.0')]\",\n",
       " '1: [2018-03-13 10:49:51,896] thoth.solver.solvers.base solve:249:   matching:',\n",
       " \"   ['1.6.0']\",\n",
       " \"1: [2018-03-13 10:49:51,896] thoth.analyzer.command run_command:71: Running command 'python3 -m pipdeptree --json'\",\n",
       " \"1: [2018-03-13 10:49:52,944] thoth.solver.python _pipdeptree:91: Obtaining pip dependency tree using: 'python3 -m pipdeptree --json --user'\",\n",
       " \"1: [2018-03-13 10:49:52,945] thoth.analyzer.command run_command:71: Running command 'python3 -m pipdeptree --json --user'\",\n",
       " \"1: [2018-03-13 10:49:53,865] thoth.solver.python _install_requirement:52: Installing requirement 'tensorflow' in version '1.6.0'\",\n",
       " \"1: [2018-03-13 10:49:53,865] thoth.analyzer.command run_command:71: Running command 'python3 -m pip install --force-reinstall --user --no-cache-dir --no-deps tensorflow==1.6.0'\",\n",
       " '']"
      ]
     },
     "execution_count": 15,
     "metadata": {},
     "output_type": "execute_result"
    }
   ],
   "source": [
    "response.json()['pod_log'].split('\\n')[-10:]"
   ]
  },
  {
   "cell_type": "markdown",
   "metadata": {},
   "source": [
    "Once the analysis finishes, all the results are stored onto [Ceph](https://ceph.com/), the distributed storage system. You can retrieve raw results by calling the following endpoint:"
   ]
  },
  {
   "cell_type": "code",
   "execution_count": 16,
   "metadata": {},
   "outputs": [],
   "source": [
    "# TODO: add once we integrate with Ceph"
   ]
  },
  {
   "cell_type": "markdown",
   "metadata": {},
   "source": [
    "## Solver images"
   ]
  },
  {
   "cell_type": "markdown",
   "metadata": {},
   "source": [
    "As can be seen above, there are multiple solver images. They differ mainly in the base image. In the example shown in this Jupyter notebook, we run a solver that is based on Fedora:27 base image.\n",
    "\n",
    "Requested solver is trying to install all the packages that you submitted in the `requirements` attribute via `Packages` model respecting version range specification. Thoth's solver tries to solve the given version range against index (PyPI index by default) and checks which versions satisfy the given version range specification at the solving time. That are also the very first observations that Thoth's solver stores about a package:\n",
    "\n",
    " > * Is the given package available?\n",
    " > * What versions of the given package satisfy the given version range specification at the analyzing time?\n",
    "\n",
    "The next step of Thoth's solver is to actually try to install provided packages in resolved versions into the base image environment. With this step Thoth gathers additional observation:\n",
    "\n",
    " > * Can I install the given package into the base image environment?\n",
    "\n",
    "If the given package is not installable, thoth-solver keeps track of errors that were encountered during installation for additional analyses. The reasons why a package is not installable can be numerous (such as expectation of some native binary such as `gcc` for installation that is not available in the given container environment, package not installable for the given Python version and so).\n",
    "\n",
    "After each installation, the container environment is restored so that installation of a package does not affect solver environment for subsequent installations.\n",
    "\n",
    "The steps discussed above are repeated for each and every package supplied via the `requirements` attribute in the `Packages` model and, if requested, for all the transitive dependencies of supplied packages. With this, Thoth also gathers addition observation:\n",
    "\n",
    " > * What are all the package requirements that satisfy package version ranges at the given point of time?\n",
    "\n",
    "The result of a solver is a JSON document describing observations above and additional metadata such as Python interpreter used and its version available in the solver environment. These documents are subsequently additionally analysed and processed in the Thoth."
   ]
  }
 ],
 "metadata": {
  "kernelspec": {
   "display_name": "Python 3",
   "language": "python",
   "name": "python3"
  },
  "language_info": {
   "codemirror_mode": {
    "name": "ipython",
    "version": 3
   },
   "file_extension": ".py",
   "mimetype": "text/x-python",
   "name": "python",
   "nbconvert_exporter": "python",
   "pygments_lexer": "ipython3",
   "version": "3.6.3"
  }
 },
 "nbformat": 4,
 "nbformat_minor": 2
}
