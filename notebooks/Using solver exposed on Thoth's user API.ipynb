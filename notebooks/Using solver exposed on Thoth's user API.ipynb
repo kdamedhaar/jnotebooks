{
 "cells": [
  {
   "cell_type": "markdown",
   "metadata": {},
   "source": [
    "# Interacting with Thoth"
   ]
  },
  {
   "cell_type": "markdown",
   "metadata": {},
   "source": [
    "Deployed Thoth, as of now, offers one API service for users. This endpoint exposes all the actions that can be done with Thoth, how one can interact with Thoth, how to consume data, use cluster for computation by supplying work and so. The API service exposes OpenAPI/Swagger documentation in a form of JSON so one can use Swagger user UIs, testing and tooling aroung OpenAPI/Swagger available out there.\n",
    "\n",
    "The Swagger documentation is available under `/api/<version>/swagger.json` endpoint. In this Jupyter notebook one can see how to interact with the cluster, how to check responses and how to get cluster or job statuses. Let's start with defining Thoth's user API service where our Thoth deployment sits. If you access Thoth's user API service, you will get Swagger UI that will give you a documentation of the current user API service."
   ]
  },
  {
   "cell_type": "markdown",
   "metadata": {},
   "source": [
    "Now let's obtain actual service host so that the host is not exposed in the Jupyter notebook (it's an internal URL). We will use `obtain_location()` function to obtain URL to actual Thoth deployment:"
   ]
  },
  {
   "cell_type": "code",
   "execution_count": 1,
   "metadata": {},
   "outputs": [],
   "source": [
    "from thoth.lab import obtain_location\n",
    "\n",
    "THOTH_USER_API = obtain_location('thoth-sbu', verify=False)"
   ]
  },
  {
   "cell_type": "markdown",
   "metadata": {},
   "source": [
    "In this Jupyter notebook we will use a library called [bravado](http://bravado.readthedocs.io/en/latest) that is a client for API endpoints defined by OpenAPI/Swagger specification. However, you can also use libraries such as [requests](http://docs.python-requests.org/en/master/) to interact with endpoints directly.\n",
    "\n",
    "Let's instantiate the client object that encapsulates all the logic for us:"
   ]
  },
  {
   "cell_type": "code",
   "execution_count": 2,
   "metadata": {},
   "outputs": [],
   "source": [
    "from urllib.parse import urljoin\n",
    "\n",
    "\n",
    "from bravado.client import SwaggerClient\n",
    "\n",
    "client = SwaggerClient.from_url(\n",
    "    urljoin(THOTH_USER_API, '/api/v1/swagger.json'),\n",
    "    config={\n",
    "        'also_return_response': True\n",
    "    }\n",
    ")"
   ]
  },
  {
   "cell_type": "markdown",
   "metadata": {},
   "source": [
    "Thoth user API exposes models that can be used to interact with the API. Let's get some models and let's check what do they offer."
   ]
  },
  {
   "cell_type": "code",
   "execution_count": 3,
   "metadata": {},
   "outputs": [],
   "source": [
    "Log = client.get_model('Log')\n",
    "Packages = client.get_model('Packages')"
   ]
  },
  {
   "cell_type": "code",
   "execution_count": 4,
   "metadata": {},
   "outputs": [
    {
     "name": "stdout",
     "output_type": "stream",
     "text": [
      "Help on class Packages in module abc:\n",
      "\n",
      "class Packages(bravado_core.model.Model)\n",
      " |  Attributes:\n",
      " |  \n",
      " |  requirements: string - Requirements as stated in the requirements.txt file.\n",
      " |  \n",
      " |  Method resolution order:\n",
      " |      Packages\n",
      " |      bravado_core.model.Model\n",
      " |      builtins.object\n",
      " |  \n",
      " |  Data and other attributes defined here:\n",
      " |  \n",
      " |  __abstractmethods__ = frozenset()\n",
      " |  \n",
      " |  __docstring__ = 'Attributes:\\n\\n\\trequirements: string - Requirements ...\n",
      " |  \n",
      " |  ----------------------------------------------------------------------\n",
      " |  Methods inherited from bravado_core.model.Model:\n",
      " |  \n",
      " |  __contains__(self, obj)\n",
      " |      Has a property set (including additional).\n",
      " |  \n",
      " |  __delattr__(self, attr_name)\n",
      " |      Deleting an attribute deletes the property (see __delitem__).\n",
      " |      \n",
      " |      :type attr_name: str\n",
      " |  \n",
      " |  __delitem__(self, property_name)\n",
      " |      Unset a property by name.\n",
      " |      \n",
      " |      Additional properties will be deleted alltogether. Properties defined\n",
      " |      in the spec will be set to ``None``.\n",
      " |      \n",
      " |      :type attr_name: str\n",
      " |  \n",
      " |  __dir__(self)\n",
      " |      Return only property names (including additional).\n",
      " |  \n",
      " |  __eq__(self, other)\n",
      " |      Check for equality with another instance.\n",
      " |      \n",
      " |      Two model instances are equal if they have the same type and the same\n",
      " |      properties and values (including additional properties).\n",
      " |  \n",
      " |  __getattr__(self, attr_name)\n",
      " |      Only search through properties if attribute not found normally.\n",
      " |      \n",
      " |      :type attr_name: str\n",
      " |  \n",
      " |  __getitem__(self, property_name)\n",
      " |      Get a property value by name.\n",
      " |      \n",
      " |      :type attr_name: str\n",
      " |  \n",
      " |  __init__(self, **kwargs)\n",
      " |      Initialize from property values in keyword arguments.\n",
      " |      \n",
      " |      :param \\**kwargs: Property values by name.\n",
      " |  \n",
      " |  __iter__(self)\n",
      " |      Iterate over property names (including additional).\n",
      " |  \n",
      " |  __repr__(self)\n",
      " |      Return properties (including additional).\n",
      " |  \n",
      " |  __setattr__(self, attr_name, val)\n",
      " |      Setting an attribute assigns a value to a property.\n",
      " |      \n",
      " |      :type attr_name: str\n",
      " |  \n",
      " |  __setitem__(self, property_name, val)\n",
      " |      Set a property value by name.\n",
      " |      \n",
      " |      :type attr_name: str\n",
      " |  \n",
      " |  marshal(self)\n",
      " |  \n",
      " |  ----------------------------------------------------------------------\n",
      " |  Class methods inherited from bravado_core.model.Model:\n",
      " |  \n",
      " |  isinstance(obj) from bravado_core.model.ModelMeta\n",
      " |  \n",
      " |  unmarshal(val) from bravado_core.model.ModelMeta\n",
      " |  \n",
      " |  ----------------------------------------------------------------------\n",
      " |  Data descriptors inherited from bravado_core.model.Model:\n",
      " |  \n",
      " |  __dict__\n",
      " |      dictionary for instance variables (if defined)\n",
      " |  \n",
      " |  __weakref__\n",
      " |      list of weak references to the object (if defined)\n",
      " |  \n",
      " |  ----------------------------------------------------------------------\n",
      " |  Data and other attributes inherited from bravado_core.model.Model:\n",
      " |  \n",
      " |  __hash__ = None\n",
      "\n"
     ]
    }
   ],
   "source": [
    "help(Packages)"
   ]
  },
  {
   "cell_type": "markdown",
   "metadata": {},
   "source": [
    "As you can see, besides inherited attributes and methods, the `Packages` model also provides requirement property that, based on the docstring, is a string that represents stack requirements as they would be stated in the `requirements.txt` file.\n",
    "\n",
    "You can also browse intaractive pop-up via calling (shown in the pannel bellow in the Jupyter notebook UI):"
   ]
  },
  {
   "cell_type": "code",
   "execution_count": 5,
   "metadata": {},
   "outputs": [],
   "source": [
    "Packages?"
   ]
  },
  {
   "cell_type": "markdown",
   "metadata": {},
   "source": [
    "Now, let's try to instantiate such model:"
   ]
  },
  {
   "cell_type": "code",
   "execution_count": 6,
   "metadata": {},
   "outputs": [],
   "source": [
    "packages = Packages(requirements=\"tensorflow==1.6.0\")"
   ]
  },
  {
   "cell_type": "markdown",
   "metadata": {},
   "source": [
    "And call the remote endpoint called `solve` that will try to find all packages that can be installed with the given package (based on requirements stated in the `tensorflow` package in version 1.6.0 and all the transitive dependencies):"
   ]
  },
  {
   "cell_type": "code",
   "execution_count": 7,
   "metadata": {},
   "outputs": [],
   "source": [
    "_, response = client.management.solve(\n",
    "    solver='fridex/thoth-solver-fc27',  # Solver image to be used.\n",
    "    packages=packages,       # Our instantiated Package model holding requirements as stated in requirements.txt file.\n",
    "    debug=True,        # We can optionally turn on debug mode to keep track of actions that are done by solver image.\n",
    "    transitive=True    # Inspect also all the transitive dependencies of \n",
    ").result()"
   ]
  },
  {
   "cell_type": "markdown",
   "metadata": {},
   "source": [
    "Now let's check the response from the user API service. If everything went well, the remote API should response with 202 HTTP status code:"
   ]
  },
  {
   "cell_type": "code",
   "execution_count": 8,
   "metadata": {},
   "outputs": [],
   "source": [
    "assert response.status_code == 202, \"The HTTP status code was not 202 but {:d}\".format(response.status_code)"
   ]
  },
  {
   "cell_type": "markdown",
   "metadata": {},
   "source": [
    "And the response itself should hold all the relevant information such as parameters supplied (also the ones that were not explicitly supplied) and `pod_id` that is ID of the pod in which the solver image is run:"
   ]
  },
  {
   "cell_type": "code",
   "execution_count": 9,
   "metadata": {},
   "outputs": [
    {
     "name": "stdout",
     "output_type": "stream",
     "text": [
      "{'parameters': {'cpu_request': None,\n",
      "                'debug': True,\n",
      "                'memory_request': None,\n",
      "                'packages': 'tensorflow==1.6.0',\n",
      "                'solver': 'fridex/thoth-solver-fc27'},\n",
      " 'pod_id': 'fridex-thoth-solver-fc27-thoth-solver-fc27-hzgz7'}\n"
     ]
    }
   ],
   "source": [
    "from pprint import pprint\n",
    "\n",
    "pprint(response.json())\n",
    "pod_id = response.json()['pod_id']"
   ]
  },
  {
   "cell_type": "markdown",
   "metadata": {},
   "source": [
    "Now let's try to check status of the pod:"
   ]
  },
  {
   "cell_type": "code",
   "execution_count": 10,
   "metadata": {},
   "outputs": [
    {
     "name": "stdout",
     "output_type": "stream",
     "text": [
      "{'pod_id': 'fridex-thoth-solver-fc27-thoth-solver-fc27-hzgz7',\n",
      " 'status': {'waiting': {'reason': 'ContainerCreating'}}}\n"
     ]
    }
   ],
   "source": [
    "_, response = client.management.get_pod_status(pod_id=pod_id).result()\n",
    "pprint(response.json())"
   ]
  },
  {
   "cell_type": "markdown",
   "metadata": {},
   "source": [
    "Thoth-core scheduled a pod in thoth-middleend namespace (a restricted environment). Let's wait for container creation to finish:"
   ]
  },
  {
   "cell_type": "code",
   "execution_count": 11,
   "metadata": {},
   "outputs": [
    {
     "name": "stdout",
     "output_type": "stream",
     "text": [
      "Waiting for solver to start analyzing packages...\n",
      "Waiting for solver to start analyzing packages...\n",
      "Waiting for solver to start analyzing packages...\n",
      "Waiting for solver to start analyzing packages...\n",
      "Waiting for solver to start analyzing packages...\n",
      "Waiting for solver to start analyzing packages...\n",
      "Waiting for solver to start analyzing packages...\n",
      "Waiting for solver to start analyzing packages...\n",
      "Waiting for solver to start analyzing packages...\n",
      "Waiting for solver to start analyzing packages...\n",
      "Waiting for solver to start analyzing packages...\n",
      "Waiting for solver to start analyzing packages...\n"
     ]
    }
   ],
   "source": [
    "from time import sleep\n",
    "\n",
    "while 'waiting' in response.json()['status']:\n",
    "    print(\"Waiting for solver to start analyzing packages...\")\n",
    "    sleep(2)\n",
    "    _, response = client.management.get_pod_status(pod_id=pod_id).result()"
   ]
  },
  {
   "cell_type": "markdown",
   "metadata": {},
   "source": [
    "As of now, the solver started analyzing dependencies:"
   ]
  },
  {
   "cell_type": "code",
   "execution_count": 12,
   "metadata": {},
   "outputs": [
    {
     "name": "stdout",
     "output_type": "stream",
     "text": [
      "{'pod_id': 'fridex-thoth-solver-fc27-thoth-solver-fc27-hzgz7',\n",
      " 'status': {'running': {'startedAt': '2018-03-14T19:58:00Z'}}}\n"
     ]
    }
   ],
   "source": [
    "pprint(response.json())"
   ]
  },
  {
   "cell_type": "markdown",
   "metadata": {},
   "source": [
    "As we started the solver in verbose mode, we can check what is going on right now:"
   ]
  },
  {
   "cell_type": "code",
   "execution_count": 13,
   "metadata": {},
   "outputs": [],
   "source": [
    "sleep(20)\n",
    "_, response = client.management.get_pod_log(pod_id=pod_id).result()"
   ]
  },
  {
   "cell_type": "markdown",
   "metadata": {},
   "source": [
    "Now let's print last ten lines of the pod log:"
   ]
  },
  {
   "cell_type": "code",
   "execution_count": 14,
   "metadata": {},
   "outputs": [
    {
     "data": {
      "text/plain": [
       "[\"1: [2018-03-14 19:58:03,472] thoth.solver.solvers.base solve:232: Fetching releases for: tensorflow [('==', '1.6.0')]\",\n",
       " '1: [2018-03-14 19:58:03,782] thoth.solver.solvers.base solve:249:   matching:',\n",
       " \"   ['1.6.0']\",\n",
       " \"1: [2018-03-14 19:58:03,782] thoth.analyzer.command run_command:71: Running command 'python3 -m pipdeptree --json'\",\n",
       " \"1: [2018-03-14 19:58:05,134] thoth.solver.python _pipdeptree:91: Obtaining pip dependency tree using: 'python3 -m pipdeptree --json --user'\",\n",
       " \"1: [2018-03-14 19:58:05,134] thoth.analyzer.command run_command:71: Running command 'python3 -m pipdeptree --json --user'\",\n",
       " \"1: [2018-03-14 19:58:06,135] thoth.solver.python _install_requirement:52: Installing requirement 'tensorflow' in version '1.6.0'\",\n",
       " \"1: [2018-03-14 19:58:06,135] thoth.analyzer.command run_command:71: Running command 'python3 -m pip install --force-reinstall --user --no-cache-dir --no-deps tensorflow==1.6.0'\",\n",
       " '']"
      ]
     },
     "execution_count": 14,
     "metadata": {},
     "output_type": "execute_result"
    }
   ],
   "source": [
    "response.json()['pod_log'].split('\\n')[-10:]"
   ]
  },
  {
   "cell_type": "markdown",
   "metadata": {},
   "source": [
    "Once the analysis finishes, all the results are stored onto [Ceph](https://ceph.com/), the distributed storage system. You can retrieve raw results by calling the following endpoint:"
   ]
  },
  {
   "cell_type": "code",
   "execution_count": 15,
   "metadata": {},
   "outputs": [
    {
     "name": "stdout",
     "output_type": "stream",
     "text": [
      "Waiting for solver to finish analyzing packages...\n",
      "Waiting for solver to finish analyzing packages...\n",
      "Waiting for solver to finish analyzing packages...\n",
      "Waiting for solver to finish analyzing packages...\n",
      "Waiting for solver to finish analyzing packages...\n",
      "Waiting for solver to finish analyzing packages...\n",
      "Waiting for solver to finish analyzing packages...\n",
      "Waiting for solver to finish analyzing packages...\n"
     ]
    }
   ],
   "source": [
    "while True:\n",
    "    _, response = client.management.get_pod_status(pod_id=pod_id).result()\n",
    "    if 'running' not in response.json()['status']:\n",
    "        break\n",
    "\n",
    "    print(\"Waiting for solver to finish analyzing packages...\")\n",
    "    sleep(10)\n",
    "    \n",
    "_, response = client.results.get_solver_result(document_id=pod_id).result()"
   ]
  },
  {
   "cell_type": "markdown",
   "metadata": {},
   "source": [
    "And let's display result that is stored onto Ceph distrubuted filesystem:"
   ]
  },
  {
   "cell_type": "code",
   "execution_count": 16,
   "metadata": {},
   "outputs": [
    {
     "name": "stdout",
     "output_type": "stream",
     "text": [
      "{'metadata': {'analyzer': 'thoth-solver',\n",
      "              'analyzer_version': '1.0.0rc2',\n",
      "              'arguments': {'pypi': {'exclude_packages': None,\n",
      "                                     'index': None,\n",
      "                                     'no_pretty': False,\n",
      "                                     'no_transitive': True,\n",
      "                                     'output': 'http://thoth-result-api/api/v1/solver-result',\n",
      "                                     'requirements': 'tensorflow==1.6.0'},\n",
      "                            'thoth-solver': {'no_color': False,\n",
      "                                             'verbose': True}},\n",
      "              'datetime': '2018-03-14T19:59:39.533528',\n",
      "              'distribution': {'codename': 'Twenty Seven',\n",
      "                               'id': 'fedora',\n",
      "                               'like': '',\n",
      "                               'version': '27',\n",
      "                               'version_parts': {'build_number': '',\n",
      "                                                 'major': '27',\n",
      "                                                 'minor': ''}},\n",
      "              'hostname': 'fridex-thoth-solver-fc27-thoth-solver-fc27-hzgz7',\n",
      "              'python': {'api_version': 1013,\n",
      "                         'implementation_name': 'cpython',\n",
      "                         'major': 3,\n",
      "                         'micro': 4,\n",
      "                         'minor': 6,\n",
      "                         'releaselevel': 'final',\n",
      "                         'serial': 0}},\n",
      " 'result': {'environment': [{'dependencies': [],\n",
      "                             'package_name': 'virtualenv',\n",
      "                             'package_version': '15.1.0'},\n",
      "                            {'dependencies': [],\n",
      "                             'package_name': 'urllib3',\n",
      "                             'package_version': '1.22'},\n",
      "                            {'dependencies': [{'package_name': 'click',\n",
      "                                               'required_version': None},\n",
      "                                              {'package_name': 'rainbow-logging-handler',\n",
      "                                               'required_version': None},\n",
      "                                              {'package_name': 'pip',\n",
      "                                               'required_version': None},\n",
      "                                              {'package_name': 'virtualenv',\n",
      "                                               'required_version': None},\n",
      "                                              {'package_name': 'pipdeptree',\n",
      "                                               'required_version': None},\n",
      "                                              {'package_name': 'hashin',\n",
      "                                               'required_version': None},\n",
      "                                              {'package_name': 'thoth-analyzer',\n",
      "                                               'required_version': '>=0.0.2'}],\n",
      "                             'package_name': 'thoth-solver',\n",
      "                             'package_version': '1.0.0rc2'},\n",
      "                            {'dependencies': [{'package_name': 'urllib3',\n",
      "                                               'required_version': '==1.22'},\n",
      "                                              {'package_name': 'pexpect',\n",
      "                                               'required_version': '==4.4.0'},\n",
      "                                              {'package_name': 'click',\n",
      "                                               'required_version': '==6.7'},\n",
      "                                              {'package_name': 'chardet',\n",
      "                                               'required_version': '==3.0.4'},\n",
      "                                              {'package_name': 'idna',\n",
      "                                               'required_version': '==2.6'},\n",
      "                                              {'package_name': 'distro',\n",
      "                                               'required_version': '==1.2.0'},\n",
      "                                              {'package_name': 'certifi',\n",
      "                                               'required_version': '==2018.1.18'},\n",
      "                                              {'package_name': 'delegator.py',\n",
      "                                               'required_version': '==0.1.0'},\n",
      "                                              {'package_name': 'ptyprocess',\n",
      "                                               'required_version': '==0.5.2'},\n",
      "                                              {'package_name': 'requests',\n",
      "                                               'required_version': '==2.18.4'}],\n",
      "                             'package_name': 'thoth-analyzer',\n",
      "                             'package_version': '0.0.4'},\n",
      "                            {'dependencies': [{'package_name': 'urllib3',\n",
      "                                               'required_version': '>=1.21.1,<1.23'},\n",
      "                                              {'package_name': 'idna',\n",
      "                                               'required_version': '>=2.5,<2.7'},\n",
      "                                              {'package_name': 'certifi',\n",
      "                                               'required_version': '>=2017.4.17'},\n",
      "                                              {'package_name': 'chardet',\n",
      "                                               'required_version': '>=3.0.2,<3.1.0'}],\n",
      "                             'package_name': 'requests',\n",
      "                             'package_version': '2.18.4'},\n",
      "                            {'dependencies': [{'package_name': 'logutils',\n",
      "                                               'required_version': None},\n",
      "                                              {'package_name': 'colorama',\n",
      "                                               'required_version': None}],\n",
      "                             'package_name': 'rainbow-logging-handler',\n",
      "                             'package_version': '2.2.2'},\n",
      "                            {'dependencies': [],\n",
      "                             'package_name': 'ptyprocess',\n",
      "                             'package_version': '0.5.2'},\n",
      "                            {'dependencies': [{'package_name': 'pip',\n",
      "                                               'required_version': '>=6.0.0'}],\n",
      "                             'package_name': 'pipdeptree',\n",
      "                             'package_version': '0.11.0'},\n",
      "                            {'dependencies': [{'package_name': 'ptyprocess',\n",
      "                                               'required_version': '>=0.5'}],\n",
      "                             'package_name': 'pexpect',\n",
      "                             'package_version': '4.4.0'},\n",
      "                            {'dependencies': [],\n",
      "                             'package_name': 'logutils',\n",
      "                             'package_version': '0.3.5'},\n",
      "                            {'dependencies': [],\n",
      "                             'package_name': 'idna',\n",
      "                             'package_version': '2.6'},\n",
      "                            {'dependencies': [],\n",
      "                             'package_name': 'hashin',\n",
      "                             'package_version': '0.11.5'},\n",
      "                            {'dependencies': [],\n",
      "                             'package_name': 'distro',\n",
      "                             'package_version': '1.2.0'},\n",
      "                            {'dependencies': [{'package_name': 'pexpect',\n",
      "                                               'required_version': '>=4.1.0'}],\n",
      "                             'package_name': 'delegator.py',\n",
      "                             'package_version': '0.1.0'},\n",
      "                            {'dependencies': [],\n",
      "                             'package_name': 'colorama',\n",
      "                             'package_version': '0.3.9'},\n",
      "                            {'dependencies': [],\n",
      "                             'package_name': 'click',\n",
      "                             'package_version': '6.7'},\n",
      "                            {'dependencies': [],\n",
      "                             'package_name': 'chardet',\n",
      "                             'package_version': '3.0.4'},\n",
      "                            {'dependencies': [],\n",
      "                             'package_name': 'certifi',\n",
      "                             'package_version': '2018.1.18'},\n",
      "                            {'dependencies': [],\n",
      "                             'package_name': 'rpm',\n",
      "                             'package_version': '4.14.1'},\n",
      "                            {'dependencies': [],\n",
      "                             'package_name': 'gpg',\n",
      "                             'package_version': '1.9.0'},\n",
      "                            {'dependencies': [],\n",
      "                             'package_name': 'six',\n",
      "                             'package_version': '1.11.0'},\n",
      "                            {'dependencies': [],\n",
      "                             'package_name': 'setuptools',\n",
      "                             'package_version': '37.0.0'},\n",
      "                            {'dependencies': [],\n",
      "                             'package_name': 'pip',\n",
      "                             'package_version': '9.0.1'},\n",
      "                            {'dependencies': [{'package_name': 'six',\n",
      "                                               'required_version': None}],\n",
      "                             'package_name': 'iniparse',\n",
      "                             'package_version': '0.4'}],\n",
      "            'errors': [],\n",
      "            'tree': [{'dependencies': [{'package_name': 'grpcio',\n",
      "                                        'required_version': '>=1.8.6',\n",
      "                                        'resolved_versions': ['1.8.6',\n",
      "                                                              '1.9.0rc3',\n",
      "                                                              '1.9.0rc2',\n",
      "                                                              '1.9.0rc1',\n",
      "                                                              '1.9.0',\n",
      "                                                              '1.9.1',\n",
      "                                                              '1.10.0rc2',\n",
      "                                                              '1.10.0rc1',\n",
      "                                                              '1.10.0']},\n",
      "                                       {'package_name': 'numpy',\n",
      "                                        'required_version': '>=1.13.3',\n",
      "                                        'resolved_versions': ['1.13.3',\n",
      "                                                              '1.14.0rc1',\n",
      "                                                              '1.14.0',\n",
      "                                                              '1.14.1',\n",
      "                                                              '1.14.2']},\n",
      "                                       {'package_name': 'absl-py',\n",
      "                                        'required_version': '>=0.1.6',\n",
      "                                        'resolved_versions': ['0.1.6',\n",
      "                                                              '0.1.7',\n",
      "                                                              '0.1.8',\n",
      "                                                              '0.1.9',\n",
      "                                                              '0.1.10',\n",
      "                                                              '0.1.11']},\n",
      "                                       {'package_name': 'six',\n",
      "                                        'required_version': '>=1.10.0',\n",
      "                                        'resolved_versions': ['1.10.0',\n",
      "                                                              '1.11.0']},\n",
      "                                       {'package_name': 'termcolor',\n",
      "                                        'required_version': '>=1.1.0',\n",
      "                                        'resolved_versions': ['1.1.0']},\n",
      "                                       {'package_name': 'astor',\n",
      "                                        'required_version': '>=0.6.0',\n",
      "                                        'resolved_versions': ['0.6',\n",
      "                                                              '0.6.1',\n",
      "                                                              '0.6.2']},\n",
      "                                       {'package_name': 'tensorboard',\n",
      "                                        'required_version': '>=1.6.0,<1.7.0',\n",
      "                                        'resolved_versions': ['1.0.0a6',\n",
      "                                                              '1.0.0a5',\n",
      "                                                              '1.0.0a4',\n",
      "                                                              '1.0.0a3',\n",
      "                                                              '1.0.0a2',\n",
      "                                                              '1.0.0a1',\n",
      "                                                              '1.0.0a0',\n",
      "                                                              '1.6.0rc0',\n",
      "                                                              '1.6.0']},\n",
      "                                       {'package_name': 'protobuf',\n",
      "                                        'required_version': '>=3.4.0',\n",
      "                                        'resolved_versions': ['3.4.0',\n",
      "                                                              '3.5.0.post1',\n",
      "                                                              '3.5.1',\n",
      "                                                              '3.5.2']},\n",
      "                                       {'package_name': 'gast',\n",
      "                                        'required_version': '>=0.2.0',\n",
      "                                        'resolved_versions': ['0.2.0']},\n",
      "                                       {'package_name': 'wheel',\n",
      "                                        'required_version': '>=0.26',\n",
      "                                        'resolved_versions': ['0.26.0',\n",
      "                                                              '0.27.0',\n",
      "                                                              '0.28.0',\n",
      "                                                              '0.29.0',\n",
      "                                                              '0.30.0a0',\n",
      "                                                              '0.30.0']}],\n",
      "                      'hash_type': 'sha512',\n",
      "                      'hashes': {'hashes': [{'hash': '97eff0ddf72c93f281a0b38b0f4f1df0f8853d95b1ff5760e20b891f98bda5b8f0846c4a8d45f95ba0a53e00336a91baa1d9d4ae9108523289c7109e600c4129',\n",
      "                                             'url': 'https://pypi.python.org/packages/77/7b/ddf9d99ccd3b26e53aebeea7653524c118ba15af95fe2d6b282fe5b2c4af/tensorflow-1.6.0-cp27-cp27m-macosx_10_11_x86_64.whl'},\n",
      "                                            {'hash': '5996efedb8de42d87b0bc0f3b318e2c58a10c79e2d1630a45d14dc23e7d8b28c4dc7be09f8b2841e56e4543a1afb14f8f01c7dd43245be5a77cf942eafec1376',\n",
      "                                             'url': 'https://pypi.python.org/packages/cf/c4/5a05826735d7749b651be88d654bae57af5bdf2cbf768edaa3da9c532e36/tensorflow-1.6.0-cp27-cp27mu-manylinux1_x86_64.whl'},\n",
      "                                            {'hash': '681b56b93f1a36d1cc01cfa24f20ef29b05447ae4077d5d05a7a0a363889490fba38c2b768d369d0eb7d5ef022d5577b7e6452fc39a8e984a9c54099e25544ae',\n",
      "                                             'url': 'https://pypi.python.org/packages/84/67/a5a496df1da4c7492fbe7b654606d4c2eee4368f753c763227a6c8e278bc/tensorflow-1.6.0-cp33-cp33m-macosx_10_11_x86_64.whl'},\n",
      "                                            {'hash': '578bed7924466692f77536bc4c6f36c55826dd30de83c0fb30d26439c40d65fdde2be7ba410ad597f203699183940e23803c8e6f321b927b04b1e1594b088691',\n",
      "                                             'url': 'https://pypi.python.org/packages/10/42/a104ce7664959f66760727252678066921af63ac7e9405da4a0ccde2ba4e/tensorflow-1.6.0-cp33-cp33m-manylinux1_x86_64.whl'},\n",
      "                                            {'hash': '9444ccf170d8274f9d8d0e3cd7efae6ecb8735ad543ec9c736aba3cff50fdf4e700e96582ed2f6962b9e0bfb3329f134f8b4cd49c32a127ad3c854394b9b17a7',\n",
      "                                             'url': 'https://pypi.python.org/packages/0c/d9/da2fe1192f77a7b0654b5a1ed23449da5abb23066547730c425d5ff3ef8d/tensorflow-1.6.0-cp34-cp34m-macosx_10_11_x86_64.whl'},\n",
      "                                            {'hash': 'ebf8ec22a41cfa40f0512f6f8ba516a2c1e8fdec6c9470fc962bf6f482006873a21d6a042ae8eb5767288f981b82f80a9e981e8d2ca6def0e485897bc467102e',\n",
      "                                             'url': 'https://pypi.python.org/packages/e0/39/6fe6e6af01b065523b90c6d66ebc9a97be67041e45e884d650486546aabb/tensorflow-1.6.0-cp34-cp34m-manylinux1_x86_64.whl'},\n",
      "                                            {'hash': '8547fe3c8e3c01e8ddee47f0e9a6997576245e00a3757b79d40c62e7a3c2e66d0a4b868797929c8ddaab681c6fd262c59f1e0ea9d050c83ff384206338632d5d',\n",
      "                                             'url': 'https://pypi.python.org/packages/96/ce/6b68ae620c45a6721c9adecf8c62ecbf947f6b41677ed0da3739b7e3faff/tensorflow-1.6.0-cp35-cp35m-macosx_10_11_x86_64.whl'},\n",
      "                                            {'hash': 'edd8d240c0b36891cc38d781e1a032498278535536cac593e5adc27f4a308023e695966dfc5df43958dcbdc8435f135bc241d80349b7257665574e245f6c70a1',\n",
      "                                             'url': 'https://pypi.python.org/packages/ba/12/e4266266712053b6e74057c123d10913f422059d4265c82a43e85766aa65/tensorflow-1.6.0-cp35-cp35m-manylinux1_x86_64.whl'},\n",
      "                                            {'hash': '7952918182ce0d7c41d9dccc2908573564d205efa5562bdaae626f2d64b2dddfde1ba200123a42a8adca32f49ce04f3ecc90f16c569630683dfbec7d7f4d65c5',\n",
      "                                             'url': 'https://pypi.python.org/packages/b1/60/0367a766d2936ed207037ac8a94238c7f40a41d90de50d904ed1f8bd51cc/tensorflow-1.6.0-cp35-cp35m-win_amd64.whl'},\n",
      "                                            {'hash': '2bde16fbd6e8c05eb2e161c00dfb0f69b81e896161965fe3a15ef62f7d12d661753cdef2031d5c5960d7878a0a63b93abba7b52b0bf9781980d816b24126da5f',\n",
      "                                             'url': 'https://pypi.python.org/packages/23/07/e7bf3270007e85b4eec20d64bd94fff54e1df4d799842694096a5d62d760/tensorflow-1.6.0-cp36-cp36m-macosx_10_11_x86_64.whl'},\n",
      "                                            {'hash': '149eb08716bff1ac801b2039864293bcc2ae0453139b94227f570a108bd1b8e73b1cb05ab91a5989ce355d3d088a1c0a600d6803f408a7e10508dc303cc07090',\n",
      "                                             'url': 'https://pypi.python.org/packages/d9/0f/fbd8bb92459c75db93040f80702ebe4ba83a52cdb6ad930654c31dc0b711/tensorflow-1.6.0-cp36-cp36m-manylinux1_x86_64.whl'},\n",
      "                                            {'hash': '46f445b03c320c51089e4936e3b3aff51c13b222f836c3bd2abedd30ddb83b3d5675393f735bfbfc38328dd274ea89427cea78d4f111fb6bb08984e21a046b21',\n",
      "                                             'url': 'https://pypi.python.org/packages/56/7d/a0e3ae33e8034be8e7d6b99a7f512c6e71b2180603fc3e0cfb6047b7374f/tensorflow-1.6.0-cp36-cp36m-win_amd64.whl'}],\n",
      "                                 'package': 'tensorflow',\n",
      "                                 'version': '1.6.0'},\n",
      "                      'package_name': 'tensorflow',\n",
      "                      'package_version': '1.6.0'}],\n",
      "            'unresolved': []}}\n"
     ]
    }
   ],
   "source": [
    "pprint(response.json())"
   ]
  },
  {
   "cell_type": "markdown",
   "metadata": {},
   "source": [
    "## Solver images"
   ]
  },
  {
   "cell_type": "markdown",
   "metadata": {},
   "source": [
    "As can be seen above, there are multiple solver images. They differ mainly in the base image. In the example shown in this Jupyter notebook, we run a solver that is based on Fedora:27 base image.\n",
    "\n",
    "Requested solver is trying to install all the packages that you submitted in the `requirements` attribute via `Packages` model respecting version range specification. Thoth's solver tries to solve the given version range against index (PyPI index by default) and checks which versions satisfy the given version range specification at the solving time. That are also the very first observations that Thoth's solver stores about a package:\n",
    "\n",
    " > * Is the given package available?\n",
    " > * What versions of the given package satisfy the given version range specification at the analyzing time?\n",
    "\n",
    "The next step of Thoth's solver is to actually try to install provided packages in resolved versions into the base image environment. With this step Thoth gathers additional observation:\n",
    "\n",
    " > * Can I install the given package into the base image environment?\n",
    "\n",
    "If the given package is not installable, thoth-solver keeps track of errors that were encountered during installation for additional analyses. The reasons why a package is not installable can be numerous (such as expectation of some native binary such as `gcc` for installation that is not available in the given container environment, package not installable for the given Python version and so).\n",
    "\n",
    "After each installation, the container environment is restored so that installation of a package does not affect solver environment for subsequent installations.\n",
    "\n",
    "The steps discussed above are repeated for each and every package supplied via the `requirements` attribute in the `Packages` model and, if requested, for all the transitive dependencies of supplied packages. With this, Thoth also gathers addition observation:\n",
    "\n",
    " > * What are all the package requirements that satisfy package version ranges at the given point of time?\n",
    "\n",
    "The result of a solver is a JSON document describing observations above and additional metadata such as Python interpreter used and its version available in the solver environment. These documents are subsequently additionally analysed and processed in the Thoth."
   ]
  }
 ],
 "metadata": {
  "kernelspec": {
   "display_name": "Python 3",
   "language": "python",
   "name": "python3"
  },
  "language_info": {
   "codemirror_mode": {
    "name": "ipython",
    "version": 3
   },
   "file_extension": ".py",
   "mimetype": "text/x-python",
   "name": "python",
   "nbconvert_exporter": "python",
   "pygments_lexer": "ipython3",
   "version": "3.6.3"
  }
 },
 "nbformat": 4,
 "nbformat_minor": 2
}
