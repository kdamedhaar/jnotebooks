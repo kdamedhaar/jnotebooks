{
 "cells": [
  {
   "cell_type": "code",
   "execution_count": 1,
   "metadata": {},
   "outputs": [],
   "source": [
    "import thoth.adviser\n",
    "import thoth.analyzer\n",
    "import thoth.common\n",
    "import thoth.lab\n",
    "import thoth.package_extract\n",
    "import thoth.solver\n",
    "import thoth.storages"
   ]
  },
  {
   "cell_type": "markdown",
   "metadata": {},
   "source": [
    "Let's display a simple help for the JanusGraph adapter:"
   ]
  },
  {
   "cell_type": "code",
   "execution_count": 2,
   "metadata": {},
   "outputs": [
    {
     "name": "stdout",
     "output_type": "stream",
     "text": [
      "Help on class GraphDatabase in module thoth.storages.graph.janusgraph:\n",
      "\n",
      "class GraphDatabase(thoth.storages.base.StorageBase)\n",
      " |  A Gremlin server adapter communicating via a web socket.\n",
      " |  \n",
      " |  Method resolution order:\n",
      " |      GraphDatabase\n",
      " |      thoth.storages.base.StorageBase\n",
      " |      builtins.object\n",
      " |  \n",
      " |  Methods defined here:\n",
      " |  \n",
      " |  __init__(self, hosts=None, port=None, serializer=None)\n",
      " |      Initialize Gremlin server database adapter.\n",
      " |  \n",
      " |  connect(self)\n",
      " |      Connect to a graph database via a websocket, use GraphSONSerializersV2d0.\n",
      " |  \n",
      " |  disconnect(self)\n",
      " |      Close all connections - disconnect from remote.\n",
      " |  \n",
      " |  is_connected(self)\n",
      " |      Check if we are connected to a remote Gremlin server.\n",
      " |  \n",
      " |  store_pypi_package(self, package_name:str, package_version:str, dependencies:list) -> None\n",
      " |      Store the given PyPI package into the graph database and construct dependency graph based on dependencies.\n",
      " |  \n",
      " |  store_pypi_solver_result(self, document_id, solver_result)\n",
      " |      Store results of Thoth's PyPI dependency solver.\n",
      " |  \n",
      " |  ----------------------------------------------------------------------\n",
      " |  Data and other attributes defined here:\n",
      " |  \n",
      " |  DEFAULT_HOST = 'localhost'\n",
      " |  \n",
      " |  DEFAULT_PORT = 8182\n",
      " |  \n",
      " |  DEFAULT_SERIALIZER = {'className': 'org.apache.tinkerpop.gremlin.drive...\n",
      " |  \n",
      " |  ENVVAR_HOST_NAME = 'THOTH_JANUSGRAPH_HOST'\n",
      " |  \n",
      " |  ENVVAR_HOST_PORT = 'THOTH_JANUSGRAPH_PORT'\n",
      " |  \n",
      " |  __abstractmethods__ = frozenset()\n",
      " |  \n",
      " |  ----------------------------------------------------------------------\n",
      " |  Data descriptors inherited from thoth.storages.base.StorageBase:\n",
      " |  \n",
      " |  __dict__\n",
      " |      dictionary for instance variables (if defined)\n",
      " |  \n",
      " |  __weakref__\n",
      " |      list of weak references to the object (if defined)\n",
      "\n"
     ]
    }
   ],
   "source": [
    "help(thoth.storages.GraphDatabase)"
   ]
  },
  {
   "cell_type": "code",
   "execution_count": null,
   "metadata": {},
   "outputs": [],
   "source": []
  }
 ],
 "metadata": {
  "kernelspec": {
   "display_name": "Python 3",
   "language": "python",
   "name": "python3"
  },
  "language_info": {
   "codemirror_mode": {
    "name": "ipython",
    "version": 3
   },
   "file_extension": ".py",
   "mimetype": "text/x-python",
   "name": "python",
   "nbconvert_exporter": "python",
   "pygments_lexer": "ipython3",
   "version": "3.6.3"
  }
 },
 "nbformat": 4,
 "nbformat_minor": 2
}
