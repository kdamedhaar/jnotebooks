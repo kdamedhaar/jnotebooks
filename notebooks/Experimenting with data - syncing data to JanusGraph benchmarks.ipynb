{
 "cells": [
  {
   "cell_type": "markdown",
   "metadata": {},
   "source": [
    "# Experimenting with data - syncing data to JanusGraph benchmarks"
   ]
  },
  {
   "cell_type": "markdown",
   "metadata": {},
   "source": [
    "This notebook is a setup for experiments with JanusGraph.\n",
    "\n",
    " * [Graphexp](https://url.corp.redhat.com/thoth-sbu-graphexp-test1) - visualization of data available in JanusGraph\n",
    " * [Online documentation of Thoth](https://fridex.github.io/thoth/)\n",
    " * [Gremlin graph guide](http://kelvinlawrence.net/book/Gremlin-Graph-Guide.html)"
   ]
  },
  {
   "cell_type": "code",
   "execution_count": 1,
   "metadata": {},
   "outputs": [],
   "source": [
    "from thoth.storages.graph import GraphDatabase\n",
    "from thoth.storages import SolverResultsStore\n",
    "from thoth.storages import AnalysisResultsStore\n",
    "\n",
    "from thoth.lab import obtain_location\n",
    "from thoth.lab import GraphQueryResult as gqr\n",
    "\n",
    "#graph_db = GraphDatabase.create(obtain_location('thoth-sbu-janusgraph-test1', verify=False, only_netloc=True), port=80)\n",
    "graph_db = GraphDatabase.create('localhost', port=8182)\n",
    "solver_results = SolverResultsStore('thoth-sbu', host=obtain_location('thoth-upshift-ceph', verify=False))\n",
    "analysis_results = AnalysisResultsStore('thoth-sbu', host=obtain_location('thoth-upshift-ceph', verify=False))\n",
    "\n",
    "graph_db.connect()\n",
    "solver_results.connect()\n",
    "analysis_results.connect()"
   ]
  },
  {
   "cell_type": "markdown",
   "metadata": {},
   "source": [
    "## Place for experiments:"
   ]
  },
  {
   "cell_type": "code",
   "execution_count": null,
   "metadata": {},
   "outputs": [],
   "source": [
    "from thoth.lab import GraphQueryResult as gqr\n",
    "\n",
    "# Erase content of the graph database:\n",
    "gqr(graph_db.g.V().drop().next()).result\n",
    "count = gqr(graph_db.g.V().count().next()).result\n",
    "\n",
    "count"
   ]
  },
  {
   "cell_type": "code",
   "execution_count": null,
   "metadata": {},
   "outputs": [],
   "source": [
    "#list(analysis_results.get_document_listing())\n",
    "analysis_document = analysis_results.retrieve_document('fridex-thoth-package-extract-dash-4f47l')"
   ]
  },
  {
   "cell_type": "code",
   "execution_count": null,
   "metadata": {},
   "outputs": [],
   "source": [
    "%%time\n",
    "\n",
    "graph_db.sync_analysis_result(analysis_document)"
   ]
  },
  {
   "cell_type": "code",
   "execution_count": null,
   "metadata": {},
   "outputs": [],
   "source": [
    "# Erase again so we have clean shield.\n",
    "gqr(graph_db.g.V().drop().next())\n",
    "count = gqr(graph_db.g.V().count().next()).result\n",
    "\n",
    "count"
   ]
  },
  {
   "cell_type": "code",
   "execution_count": null,
   "metadata": {},
   "outputs": [],
   "source": [
    "solver_document = solver_results.retrieve_document('fridex-thoth-solver-fc27-thoth-solver-fc27-92qtv')"
   ]
  },
  {
   "cell_type": "code",
   "execution_count": null,
   "metadata": {},
   "outputs": [],
   "source": [
    "%%time\n",
    "\n",
    "graph_db.sync_solver_result(solver_document)"
   ]
  }
 ],
 "metadata": {
  "kernelspec": {
   "display_name": "Python 3",
   "language": "python",
   "name": "python3"
  },
  "language_info": {
   "codemirror_mode": {
    "name": "ipython",
    "version": 3
   },
   "file_extension": ".py",
   "mimetype": "text/x-python",
   "name": "python",
   "nbconvert_exporter": "python",
   "pygments_lexer": "ipython3",
   "version": "3.6.3"
  }
 },
 "nbformat": 4,
 "nbformat_minor": 2
}
