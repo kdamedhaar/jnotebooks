{
 "cells": [
  {
   "cell_type": "markdown",
   "metadata": {},
   "source": [
    "# Accesing and querying JanusGraph database"
   ]
  },
  {
   "cell_type": "markdown",
   "metadata": {},
   "source": [
    "This notebook demonstrates how to create a connection to the graph database, how to query the graph database and how to visualize graph query results.\n",
    "\n",
    "\n",
    "Let's start with imports and connection to JanusGraph database:"
   ]
  },
  {
   "cell_type": "code",
   "execution_count": 1,
   "metadata": {},
   "outputs": [
    {
     "data": {
      "text/plain": [
       "True"
      ]
     },
     "execution_count": 1,
     "metadata": {},
     "output_type": "execute_result"
    }
   ],
   "source": [
    "from thoth.lab import obtain_location\n",
    "from thoth.storages import GraphDatabase\n",
    "\n",
    "# Let's obtain location of our JanusGraph instance.\n",
    "JANUSGRAPH_LOCATION = obtain_location(\n",
    "    \"thoth-sbu-janusgraph\",  # name of JanusGraph instance\n",
    "    verify=False,            # do not verify TLS on internal network\n",
    "    only_netloc=True         # do not use http schema, use netloc instead\n",
    ")\n",
    "\n",
    "# Instantiate and connect the JanusGraph database\n",
    "adapter = GraphDatabase.create(JANUSGRAPH_LOCATION, port=80)\n",
    "adapter.connect()\n",
    "\n",
    "adapter.is_connected()"
   ]
  },
  {
   "cell_type": "markdown",
   "metadata": {},
   "source": [
    "Next, let's try to perform some generic queries. We will use `GraphQueryResult` wrapper that wraps our graph queries and exposes some useful methods for us:"
   ]
  },
  {
   "cell_type": "code",
   "execution_count": 2,
   "metadata": {},
   "outputs": [],
   "source": [
    "from thoth.lab import GraphQueryResult as gqr\n",
    "\n",
    "# Randomly pick 10 packages and get number of their versions available in the graph database.\n",
    "query = adapter.g.V().has('package_version', 'ecosystem', 'pypi').groupCount().by('name').sample(10).toList()\n",
    "query_result = gqr(query)"
   ]
  },
  {
   "cell_type": "markdown",
   "metadata": {},
   "source": [
    "If we would like to access raw response, we can do so by acessing the result attribute:"
   ]
  },
  {
   "cell_type": "code",
   "execution_count": 3,
   "metadata": {},
   "outputs": [
    {
     "data": {
      "text/plain": [
       "[{'argcomplete': 89,\n",
       "  'click': 34,\n",
       "  'codegen': 1,\n",
       "  'flexmock': 35,\n",
       "  'graphviz': 31,\n",
       "  'jsonschema': 19,\n",
       "  'pyyaml': 12,\n",
       "  'rainbow-logging-handler': 14,\n",
       "  'selinon': 4,\n",
       "  'selinonlib': 9}]"
      ]
     },
     "execution_count": 3,
     "metadata": {},
     "output_type": "execute_result"
    }
   ],
   "source": [
    "query_result.result"
   ]
  },
  {
   "cell_type": "markdown",
   "metadata": {},
   "source": [
    "We can get results as Pandas dataframe:"
   ]
  },
  {
   "cell_type": "code",
   "execution_count": 4,
   "metadata": {},
   "outputs": [
    {
     "data": {
      "text/html": [
       "<div>\n",
       "<style scoped>\n",
       "    .dataframe tbody tr th:only-of-type {\n",
       "        vertical-align: middle;\n",
       "    }\n",
       "\n",
       "    .dataframe tbody tr th {\n",
       "        vertical-align: top;\n",
       "    }\n",
       "\n",
       "    .dataframe thead th {\n",
       "        text-align: right;\n",
       "    }\n",
       "</style>\n",
       "<table border=\"1\" class=\"dataframe\">\n",
       "  <thead>\n",
       "    <tr style=\"text-align: right;\">\n",
       "      <th></th>\n",
       "      <th>argcomplete</th>\n",
       "      <th>click</th>\n",
       "      <th>codegen</th>\n",
       "      <th>flexmock</th>\n",
       "      <th>graphviz</th>\n",
       "      <th>jsonschema</th>\n",
       "      <th>pyyaml</th>\n",
       "      <th>rainbow-logging-handler</th>\n",
       "      <th>selinon</th>\n",
       "      <th>selinonlib</th>\n",
       "    </tr>\n",
       "  </thead>\n",
       "  <tbody>\n",
       "    <tr>\n",
       "      <th>0</th>\n",
       "      <td>89</td>\n",
       "      <td>34</td>\n",
       "      <td>1</td>\n",
       "      <td>35</td>\n",
       "      <td>31</td>\n",
       "      <td>19</td>\n",
       "      <td>12</td>\n",
       "      <td>14</td>\n",
       "      <td>4</td>\n",
       "      <td>9</td>\n",
       "    </tr>\n",
       "  </tbody>\n",
       "</table>\n",
       "</div>"
      ],
      "text/plain": [
       "   argcomplete  click  codegen  flexmock  graphviz  jsonschema  pyyaml  \\\n",
       "0           89     34        1        35        31          19      12   \n",
       "\n",
       "   rainbow-logging-handler  selinon  selinonlib  \n",
       "0                       14        4           9  "
      ]
     },
     "execution_count": 4,
     "metadata": {},
     "output_type": "execute_result"
    }
   ],
   "source": [
    "query_result.to_dataframe()"
   ]
  },
  {
   "cell_type": "markdown",
   "metadata": {},
   "source": [
    "If we get result as a dictionary of values, we can easily plot some graphs:"
   ]
  },
  {
   "cell_type": "code",
   "execution_count": 5,
   "metadata": {},
   "outputs": [],
   "source": [
    "query = adapter.g.V().has('package_version', 'ecosystem', 'pypi').groupCount().by('name').sample(10).next()\n",
    "query_result = gqr(query)"
   ]
  },
  {
   "cell_type": "code",
   "execution_count": 6,
   "metadata": {},
   "outputs": [
    {
     "data": {
      "text/html": [
       "<script>requirejs.config({paths: { 'plotly': ['https://cdn.plot.ly/plotly-latest.min']},});if(!window.Plotly) {{require(['plotly'],function(plotly) {window.Plotly=plotly;});}}</script>"
      ],
      "text/vnd.plotly.v1+html": [
       "<script>requirejs.config({paths: { 'plotly': ['https://cdn.plot.ly/plotly-latest.min']},});if(!window.Plotly) {{require(['plotly'],function(plotly) {window.Plotly=plotly;});}}</script>"
      ]
     },
     "metadata": {},
     "output_type": "display_data"
    },
    {
     "data": {
      "application/vnd.plotly.v1+json": {
       "data": [
        {
         "type": "bar",
         "x": [
          "pyyaml",
          "codegen",
          "flexmock",
          "argcomplete",
          "selinon",
          "selinonlib",
          "graphviz",
          "rainbow-logging-handler",
          "click",
          "jsonschema"
         ],
         "y": [
          12,
          1,
          35,
          89,
          4,
          9,
          31,
          14,
          34,
          19
         ]
        }
       ],
       "layout": {}
      },
      "text/html": [
       "<div id=\"aa7b87e2-f317-4e7c-a3fa-0e42f851dae8\" style=\"height: 525px; width: 100%;\" class=\"plotly-graph-div\"></div><script type=\"text/javascript\">require([\"plotly\"], function(Plotly) { window.PLOTLYENV=window.PLOTLYENV || {};window.PLOTLYENV.BASE_URL=\"https://plot.ly\";Plotly.newPlot(\"aa7b87e2-f317-4e7c-a3fa-0e42f851dae8\", [{\"type\": \"bar\", \"x\": [\"pyyaml\", \"codegen\", \"flexmock\", \"argcomplete\", \"selinon\", \"selinonlib\", \"graphviz\", \"rainbow-logging-handler\", \"click\", \"jsonschema\"], \"y\": [12, 1, 35, 89, 4, 9, 31, 14, 34, 19]}], {}, {\"showLink\": true, \"linkText\": \"Export to plot.ly\"})});</script>"
      ],
      "text/vnd.plotly.v1+html": [
       "<div id=\"aa7b87e2-f317-4e7c-a3fa-0e42f851dae8\" style=\"height: 525px; width: 100%;\" class=\"plotly-graph-div\"></div><script type=\"text/javascript\">require([\"plotly\"], function(Plotly) { window.PLOTLYENV=window.PLOTLYENV || {};window.PLOTLYENV.BASE_URL=\"https://plot.ly\";Plotly.newPlot(\"aa7b87e2-f317-4e7c-a3fa-0e42f851dae8\", [{\"type\": \"bar\", \"x\": [\"pyyaml\", \"codegen\", \"flexmock\", \"argcomplete\", \"selinon\", \"selinonlib\", \"graphviz\", \"rainbow-logging-handler\", \"click\", \"jsonschema\"], \"y\": [12, 1, 35, 89, 4, 9, 31, 14, 34, 19]}], {}, {\"showLink\": true, \"linkText\": \"Export to plot.ly\"})});</script>"
      ]
     },
     "metadata": {},
     "output_type": "display_data"
    }
   ],
   "source": [
    "query_result.plot_bar()"
   ]
  },
  {
   "cell_type": "code",
   "execution_count": 7,
   "metadata": {},
   "outputs": [
    {
     "data": {
      "text/html": [
       "<script>requirejs.config({paths: { 'plotly': ['https://cdn.plot.ly/plotly-latest.min']},});if(!window.Plotly) {{require(['plotly'],function(plotly) {window.Plotly=plotly;});}}</script>"
      ],
      "text/vnd.plotly.v1+html": [
       "<script>requirejs.config({paths: { 'plotly': ['https://cdn.plot.ly/plotly-latest.min']},});if(!window.Plotly) {{require(['plotly'],function(plotly) {window.Plotly=plotly;});}}</script>"
      ]
     },
     "metadata": {},
     "output_type": "display_data"
    },
    {
     "data": {
      "application/vnd.plotly.v1+json": {
       "data": [
        {
         "labels": [
          "pyyaml",
          "codegen",
          "flexmock",
          "argcomplete",
          "selinon",
          "selinonlib",
          "graphviz",
          "rainbow-logging-handler",
          "click",
          "jsonschema"
         ],
         "type": "pie",
         "values": [
          12,
          1,
          35,
          89,
          4,
          9,
          31,
          14,
          34,
          19
         ]
        }
       ],
       "layout": {}
      },
      "text/html": [
       "<div id=\"63abb400-3d22-413e-b94f-db5e40f530e6\" style=\"height: 525px; width: 100%;\" class=\"plotly-graph-div\"></div><script type=\"text/javascript\">require([\"plotly\"], function(Plotly) { window.PLOTLYENV=window.PLOTLYENV || {};window.PLOTLYENV.BASE_URL=\"https://plot.ly\";Plotly.newPlot(\"63abb400-3d22-413e-b94f-db5e40f530e6\", [{\"type\": \"pie\", \"labels\": [\"pyyaml\", \"codegen\", \"flexmock\", \"argcomplete\", \"selinon\", \"selinonlib\", \"graphviz\", \"rainbow-logging-handler\", \"click\", \"jsonschema\"], \"values\": [12, 1, 35, 89, 4, 9, 31, 14, 34, 19]}], {}, {\"showLink\": true, \"linkText\": \"Export to plot.ly\"})});</script>"
      ],
      "text/vnd.plotly.v1+html": [
       "<div id=\"63abb400-3d22-413e-b94f-db5e40f530e6\" style=\"height: 525px; width: 100%;\" class=\"plotly-graph-div\"></div><script type=\"text/javascript\">require([\"plotly\"], function(Plotly) { window.PLOTLYENV=window.PLOTLYENV || {};window.PLOTLYENV.BASE_URL=\"https://plot.ly\";Plotly.newPlot(\"63abb400-3d22-413e-b94f-db5e40f530e6\", [{\"type\": \"pie\", \"labels\": [\"pyyaml\", \"codegen\", \"flexmock\", \"argcomplete\", \"selinon\", \"selinonlib\", \"graphviz\", \"rainbow-logging-handler\", \"click\", \"jsonschema\"], \"values\": [12, 1, 35, 89, 4, 9, 31, 14, 34, 19]}], {}, {\"showLink\": true, \"linkText\": \"Export to plot.ly\"})});</script>"
      ]
     },
     "metadata": {},
     "output_type": "display_data"
    }
   ],
   "source": [
    "# Or a pie chart\n",
    "\n",
    "query_result.plot_pie()"
   ]
  },
  {
   "cell_type": "markdown",
   "metadata": {},
   "source": [
    "To get more options on how to visualize and interact with data retrieved from graph database, use the `help` function to access up-to-date `GraphQueryResult` documentation:"
   ]
  },
  {
   "cell_type": "code",
   "execution_count": 8,
   "metadata": {},
   "outputs": [
    {
     "name": "stdout",
     "output_type": "stream",
     "text": [
      "Help on class GraphQueryResult in module thoth.lab.graph:\n",
      "\n",
      "class GraphQueryResult(builtins.object)\n",
      " |  Methods defined here:\n",
      " |  \n",
      " |  __init__(self, result)\n",
      " |      Initialization.\n",
      " |      \n",
      " |      :param result: the result to be used as a query result, can be directly coroutine that is fired.\n",
      " |  \n",
      " |  plot_bar(self)\n",
      " |      Plot histogram of results obtained.\n",
      " |  \n",
      " |  plot_pie(self)\n",
      " |      Plot a pie of results into Jupyter notebook.\n",
      " |  \n",
      " |  to_dataframe(self)\n",
      " |      Construct a panda's dataframe on results.\n",
      " |  \n",
      " |  ----------------------------------------------------------------------\n",
      " |  Data descriptors defined here:\n",
      " |  \n",
      " |  __dict__\n",
      " |      dictionary for instance variables (if defined)\n",
      " |  \n",
      " |  __weakref__\n",
      " |      list of weak references to the object (if defined)\n",
      "\n"
     ]
    }
   ],
   "source": [
    "help(gqr)"
   ]
  },
  {
   "cell_type": "markdown",
   "metadata": {},
   "source": [
    "For more info on how to construct queries to the graph database, see [Practical Gremlin: An Apache TinkerPop Tutorial](http://kelvinlawrence.net/book/Gremlin-Graph-Guide.html). Also see [pandas.DataFrame](http://pandas.pydata.org/pandas-docs/stable/generated/pandas.DataFrame.html#pandas.DataFrame) documentation on how to use dataframes and [plotly documentation](https://plot.ly/api/) for creating interactive figures. To visualize data available in the graph, use the [graph explorer](https://url.corp.redhat.com/thoth-sbu-graphexp)."
   ]
  }
 ],
 "metadata": {
  "kernelspec": {
   "display_name": "Python 3",
   "language": "python",
   "name": "python3"
  },
  "language_info": {
   "codemirror_mode": {
    "name": "ipython",
    "version": 3
   },
   "file_extension": ".py",
   "mimetype": "text/x-python",
   "name": "python",
   "nbconvert_exporter": "python",
   "pygments_lexer": "ipython3",
   "version": "3.6.3"
  }
 },
 "nbformat": 4,
 "nbformat_minor": 2
}
